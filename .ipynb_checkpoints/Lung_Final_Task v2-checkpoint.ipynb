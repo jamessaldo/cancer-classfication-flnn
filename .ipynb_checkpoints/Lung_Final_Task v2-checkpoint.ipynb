{
 "cells": [
  {
   "cell_type": "markdown",
   "metadata": {
    "id": "A0jkNKbSXyDU"
   },
   "source": [
    "Nama         : Ghozy Ghulamul Afif\n",
    "\n",
    "NIM          : 1301170379\n",
    "\n",
    "Judul TA     : Implementasi Information Gain (IG) dan Genetic Algorithm (GA) untuk Reduksi Dimensi pada Klasifikasi Data Microarray Menggunakan Functional Link Neural Network (FLNN)\n",
    "\n",
    "Pembimbing 1 : Widi Astuti, S.T., M.Kom.\n",
    "\n",
    "Pembimbing 2 : Prof. Dr. Adiwijaya"
   ]
  },
  {
   "cell_type": "markdown",
   "metadata": {
    "id": "0Qh0del_I5dl"
   },
   "source": [
    "# 1. Preprocessing"
   ]
  },
  {
   "cell_type": "markdown",
   "metadata": {
    "id": "_K0cFh0oKSBF"
   },
   "source": [
    "## 1.1. Import Library"
   ]
  },
  {
   "cell_type": "code",
   "execution_count": 1,
   "metadata": {
    "collapsed": true,
    "id": "Cn8BCYDgZwHX",
    "jupyter": {
     "outputs_hidden": true
    }
   },
   "outputs": [],
   "source": [
    "import pandas as pd\n",
    "from sklearn.preprocessing import  MinMaxScaler\n",
    "from pandas import DataFrame\n",
    "from scipy.special import legendre\n",
    "import numpy as np\n",
    "from sklearn.model_selection import StratifiedKFold\n",
    "import matplotlib.pyplot as plt\n",
    "import keras\n",
    "from tensorflow.python.keras.layers import Dense\n",
    "from keras.optimizers import Adam\n",
    "from tensorflow.python.keras import Sequential\n",
    "from sklearn.metrics import accuracy_score, f1_score\n",
    "from sklearn.metrics import classification_report\n",
    "import random\n",
    "import timeit\n",
    "from sklearn.model_selection import train_test_split\n",
    "from sklearn.feature_selection import mutual_info_classif\n",
    "from sklearn.feature_selection import SelectKBest"
   ]
  },
  {
   "cell_type": "markdown",
   "metadata": {
    "id": "7vNrreDQZubc"
   },
   "source": [
    "## 1.2. Import Dataset"
   ]
  },
  {
   "cell_type": "code",
   "execution_count": 2,
   "metadata": {
    "collapsed": true,
    "id": "GMRraUUOzPk3",
    "jupyter": {
     "outputs_hidden": true
    }
   },
   "outputs": [],
   "source": [
    "# data lung\n",
    "url_test = \"https://raw.githubusercontent.com/jamessaldo/final-task/master/lungCancer_test.data\"\n",
    "url_train = \"https://raw.githubusercontent.com/jamessaldo/final-task/master/lungCancer_train.data\"\n",
    "data_train = pd.read_csv(url_test, header=None)\n",
    "data_test = pd.read_csv(url_train, header=None)\n",
    "data_lung = data_train.append(data_test, ignore_index = True)"
   ]
  },
  {
   "cell_type": "markdown",
   "metadata": {
    "id": "b4cB_13-TxQo"
   },
   "source": [
    "## 1.3. Check Missing Value"
   ]
  },
  {
   "cell_type": "code",
   "execution_count": 3,
   "metadata": {
    "colab": {
     "base_uri": "https://localhost:8080/"
    },
    "collapsed": true,
    "id": "R2aU78BwTwlz",
    "jupyter": {
     "outputs_hidden": true
    },
    "outputId": "8cb53f55-eec2-4ddc-9fde-3b62d09b8a97"
   },
   "outputs": [
    {
     "name": "stdout",
     "output_type": "stream",
     "text": [
      "Total Missing Value pada Data Lung Cancer: 0\n"
     ]
    }
   ],
   "source": [
    "print('Total Missing Value pada Data Lung Cancer:',data_lung.isnull().sum().sum())"
   ]
  },
  {
   "cell_type": "markdown",
   "metadata": {
    "id": "sU9gQQqhqSO7"
   },
   "source": [
    "## 1.4. Normalization"
   ]
  },
  {
   "cell_type": "code",
   "execution_count": 4,
   "metadata": {
    "collapsed": true,
    "id": "JedwSdEXqPlw",
    "jupyter": {
     "outputs_hidden": true
    }
   },
   "outputs": [],
   "source": [
    "# Melakukan normalisasi\n",
    "# data lung\n",
    "data_new_lung = data_lung.drop([12533],axis=1)\n",
    "scaler = MinMaxScaler()\n",
    "data_new_lung = scaler.fit_transform(data_new_lung)\n",
    "data_new_lung = DataFrame(data_new_lung)\n",
    "data_new_lung['label'] = list(data_lung[12533])\n",
    "dic = {'Mesothelioma':0,'ADCA':1}\n",
    "data_new_lung.replace(dic,inplace=True)"
   ]
  },
  {
   "cell_type": "markdown",
   "metadata": {
    "id": "fjCSdG9vz4pE"
   },
   "source": [
    "# 2. Define Reusable Function"
   ]
  },
  {
   "cell_type": "markdown",
   "metadata": {
    "id": "BFYNoKKtqgoj"
   },
   "source": [
    "## Fitness Function"
   ]
  },
  {
   "cell_type": "code",
   "execution_count": 5,
   "metadata": {
    "collapsed": true,
    "id": "yDR9QVJvlYBN",
    "jupyter": {
     "outputs_hidden": true
    }
   },
   "outputs": [],
   "source": [
    "from sklearn.model_selection import train_test_split\n",
    "from sklearn.metrics import f1_score\n",
    "def fitness(dataset, orde):\n",
    "  start = timeit.default_timer()\n",
    "  X = pd.DataFrame(dataset.iloc[:, 0:len(dataset.columns)-1].values)\n",
    "  Y = pd.DataFrame(dataset.iloc[:, len(dataset.columns)-1].values)\n",
    "\n",
    "  df_ = pd.DataFrame()\n",
    "  for x in range(1, orde+1):\n",
    "    pn = legendre(x)\n",
    "    y_orde = pn(X)\n",
    "    df_ = pd.concat([df_, y_orde], axis=1)\n",
    "  df_.columns = [\"Attribut\"+str(i) for i in range(len(df_.columns))]\n",
    "  df_['label'] = Y\n",
    "  data = df_.iloc[:, 0:len(df_.columns)-1].values\n",
    "  label = df_.iloc[:, len(df_.columns)-1].values\n",
    "\n",
    "  # # Melakukan proses klasifikasi LR\n",
    "  X_train, X_test, y_train, y_test = train_test_split(data, label, test_size=0.33, random_state=42)\n",
    "  # Inisialisasi FLNN\n",
    "  Model = Sequential()\n",
    "  # Menambah input layer dan hidden layer pertama\n",
    "  Model.add(Dense(units = len(df_.columns)-1, kernel_initializer = 'uniform', activation = 'relu', input_dim = len(df_.columns)-1))\n",
    "  # Menambah hidden layer kedua\n",
    "  Model.add(Dense(units = len(df_.columns)-1, kernel_initializer = 'uniform', activation = 'relu'))\n",
    "  # Menambah output layer\n",
    "  Model.add(Dense(units = 1, kernel_initializer = 'uniform', activation = 'sigmoid'))\n",
    "  # Menjalankan ANN\n",
    "  Model.compile(optimizer = Adam(learning_rate=0.001), loss = 'binary_crossentropy', metrics = ['accuracy'])\n",
    "  # Fitting ANN ke training set\n",
    "  history = Model.fit(X_train, y_train, batch_size = 35, epochs = 100, validation_split = 0.2, verbose=False)\n",
    "\n",
    "  #Memprediksi hasil test set\n",
    "  y_pred = Model(X_test)\n",
    "  y_pred =(y_pred >= 0.5)\n",
    "\n",
    "  F1 = f1_score(y_test, y_pred, average='macro')\n",
    "\n",
    "  print(\"F1 Score : \", F1)\n",
    "\n",
    "  stop = timeit.default_timer()\n",
    "  print('Running Time: ', stop - start) \n",
    "  return F1"
   ]
  },
  {
   "cell_type": "markdown",
   "metadata": {
    "id": "7OaQhLtNUEEn"
   },
   "source": [
    "## FLNN Classifier"
   ]
  },
  {
   "cell_type": "code",
   "execution_count": 6,
   "metadata": {
    "collapsed": true,
    "id": "Yj0yC_4o0xJn",
    "jupyter": {
     "outputs_hidden": true
    }
   },
   "outputs": [],
   "source": [
    "def FLNN_Classifier(dataset, cancer_name, orde):\n",
    "  start = timeit.default_timer()\n",
    "  X = dataset.drop(['label'], axis=1)\n",
    "  Y = dataset['label']\n",
    "  df_ = pd.DataFrame()\n",
    "  for x in range(1, orde+1):\n",
    "    pn = legendre(x)\n",
    "    y_orde = pn(X)\n",
    "    df_ = pd.concat([df_, y_orde], axis=1)\n",
    "  df_.columns = [\"Attribut\"+str(i) for i in range(len(df_.columns))]\n",
    "  df_['label'] = Y.reset_index().label\n",
    "  data = df_.iloc[:, 0:len(df_.columns)-1].values\n",
    "  label = df_.iloc[:, len(df_.columns)-1].values\n",
    "\n",
    "  # Melakukan proses K-Fold\n",
    "  kf = StratifiedKFold(n_splits=5, shuffle=True, random_state=10)\n",
    "  kf.get_n_splits(df_)\n",
    "\n",
    "  # Melakukan proses klasifikasi FLNN\n",
    "  Hasil_Akurasi = []\n",
    "  Hasil_F1 = []\n",
    "  for train_index, test_index in kf.split(X,Y):\n",
    "    print(\"Train :\" , train_index, \"Test :\", test_index)\n",
    "    X_train, X_test, y_train, y_test = data[train_index], data[test_index], label[train_index], label[test_index]\n",
    "    # Inisialisasi FLNN\n",
    "    Model = Sequential()\n",
    "    # Menambah input layer dan hidden layer pertama\n",
    "    Model.add(Dense(units = len(df_.columns)-1, kernel_initializer = 'uniform', activation = 'relu', input_dim = len(df_.columns)-1))\n",
    "    # Menambah hidden layer kedua\n",
    "    Model.add(Dense(units = len(df_.columns)-1, kernel_initializer = 'uniform', activation = 'relu'))\n",
    "    # Menambah output layer\n",
    "    Model.add(Dense(units = 1, kernel_initializer = 'uniform', activation = 'sigmoid'))\n",
    "    # Menjalankan ANN\n",
    "    Model.compile(optimizer = Adam(learning_rate=0.001), loss = 'binary_crossentropy', metrics = ['accuracy'])\n",
    "    # Fitting ANN ke training set\n",
    "    history = Model.fit(X_train, y_train, batch_size = 35, epochs = 100, validation_split = 0.2, verbose=False)\n",
    "\n",
    "    #Memprediksi hasil test set\n",
    "    y_pred = Model(X_test)\n",
    "    y_pred =(y_pred >= 0.5)\n",
    "\n",
    "    #print(\"X_Train :\", X_train)\n",
    "    print(\"Y_Train :\", y_train)\n",
    "\n",
    "    #print(\"X_Test :\", X_test)\n",
    "    print(\"Y_Test :\", y_test)\n",
    "\n",
    "    hasil = accuracy_score(y_test,y_pred)\n",
    "    F1 = f1_score(y_test, y_pred, average='macro')\n",
    "    #F1 = f1_score(y_test, y_pred, average)\n",
    "\n",
    "    print(\"Akurasi : \", hasil)\n",
    "    print(\"F1_Score : \", F1)\n",
    "    print(classification_report(y_test,y_pred))\n",
    "    Hasil_Akurasi.append(hasil)\n",
    "    Hasil_F1.append(F1)\n",
    "\n",
    "    # Membuat confusion matrix\n",
    "    from sklearn.metrics import confusion_matrix \n",
    "    from mlxtend.plotting import plot_confusion_matrix\n",
    "    cm = confusion_matrix(y_test, y_pred)\n",
    "    fig, ax = plot_confusion_matrix(conf_mat = cm, figsize=(5,5))\n",
    "    plt.show()\n",
    "\n",
    "  Akurasi = np.array(Hasil_Akurasi)\n",
    "  F1_Score = np.array(Hasil_F1)\n",
    "  avg_akurasi = Akurasi.mean()\n",
    "  avg_F1 = F1_Score.mean()\n",
    "\n",
    "  print(\"avg accuraccy \"+cancer_name+\" = \",avg_akurasi)\n",
    "  print(\"avg F1_Score \"+cancer_name+\" = \",avg_F1)\n",
    "\n",
    "  print(\"max accuraccy \"+cancer_name+\" = \",Akurasi.max())\n",
    "  print(\"max F1_Score \"+cancer_name+\" = \",F1_Score.max())\n",
    "\n",
    "  print(\"min accuraccy \"+cancer_name+\" = \",Akurasi.min())\n",
    "  print(\"min F1_Score \"+cancer_name+\" = \",F1_Score.min())\n",
    "  \n",
    "  stop = timeit.default_timer()\n",
    "  print('Running Time: ', stop - start) \n",
    "  return avg_akurasi, avg_F1"
   ]
  },
  {
   "cell_type": "markdown",
   "metadata": {
    "id": "kfAPajOb0D5_"
   },
   "source": [
    "## Genetic Algorithm"
   ]
  },
  {
   "cell_type": "code",
   "execution_count": 7,
   "metadata": {
    "collapsed": true,
    "id": "rwrhRXpb0C5I",
    "jupyter": {
     "outputs_hidden": true
    }
   },
   "outputs": [],
   "source": [
    "# define parameters\n",
    "mutationRate = 0.1\n",
    "crossoverRate = 0.8\n",
    "populationSize = 10\n",
    "maxGen = 5\n",
    "\n",
    "def GenerateGene(lengthOfGen):\n",
    "  genes = [] # menyimpan index feature\n",
    "  for j in range(lengthOfGen):\n",
    "    genes.append(random.randint(0,1))\n",
    "  return genes\n",
    "\n",
    "def GeneratePopulation(lengthOfGen):\n",
    "  population = []\n",
    "  for i in range(populationSize):\n",
    "    individu = GenerateGene(lengthOfGen)\n",
    "    population.append(individu)\n",
    "  return population\n",
    "\n",
    "def CrossOver(parent_1, parent_2, rate, lengthOfGen): #Random Point Method\n",
    "  new_pop = [] \n",
    "  for i in range((populationSize - 2) // 2):\n",
    "    if random.random() < rate:\n",
    "      CP = random.randint(0,lengthOfGen) #CrossPoint\n",
    "      child = parent_1[0:CP] + parent_2[CP:len(parent_2)]\n",
    "      new_pop.append(child)\n",
    "      child = parent_2[0:CP] + parent_1[CP:len(parent_1)]\n",
    "      new_pop.append(child)\n",
    "    else:\n",
    "      new_pop.append(parent_1)\n",
    "      new_pop.append(parent_2)\n",
    "  return new_pop\n",
    "\n",
    "def Mutation(mutant, rate, lengthOfGen):\n",
    "  for i in range(len(mutant)):\n",
    "    # memutasi tiap gen yang memiliki kemungkinan < rate(0.1)\n",
    "    for j in range(lengthOfGen):\n",
    "      if random.random() <= rate:\n",
    "        mutant[i][j] = 1 - mutant[i][j]\n",
    "  return mutant\n",
    "\n",
    "def ZeroGene(indv): #pengecekan apakah gen isinya kosong atau tidak\n",
    "  total = 0\n",
    "  for i in range(len(indv)):\n",
    "    if indv[i] == 0:\n",
    "      total += 1\n",
    "  if len(indv) == total:\n",
    "    return True\n",
    "  else:\n",
    "    return False\n",
    "\n",
    "def Classification(indv, dataset, orde): #using Entropy as fitness\n",
    "  datasetGA = pd.DataFrame()\n",
    "  idxDatasetGA = 0\n",
    "  for i in range(len(dataset.columns)-1):\n",
    "    if indv[i] == 1:\n",
    "      datasetGA[idxDatasetGA] = dataset[i]\n",
    "      idxDatasetGA += 1\n",
    "  datasetGA['label'] = dataset['label']\n",
    "  Acc_score, F1_score = FLNN_Classifier(datasetGA, \"Lung Cancer\", orde)\n",
    "  totalFeatures = idxDatasetGA+1\n",
    "  return Acc_score, F1_score, totalFeatures"
   ]
  },
  {
   "cell_type": "code",
   "execution_count": 8,
   "metadata": {
    "collapsed": true,
    "id": "gX9HQLsa6hfJ",
    "jupyter": {
     "outputs_hidden": true
    }
   },
   "outputs": [],
   "source": [
    "def GeneticAlgorithm(dataset,orde):\n",
    "  start = timeit.default_timer()\n",
    "  # Initial Population\n",
    "  lengthOfGen = len(dataset.columns) - 1 # panjang gene = panjang fitur tanpa label\n",
    "\n",
    "  # fintess evaluation\n",
    "  bestF1 = 0\n",
    "  bestAcc = 0\n",
    "  bestNFeature = len(dataset.columns) - 1\n",
    "  best_gene = []\n",
    "  best_gene_2 = []\n",
    "  population = GeneratePopulation(lengthOfGen) # Generate 1st Generation\n",
    "  generation = 0 #max generation = 2**len(feature)\n",
    "\n",
    "  while (generation < maxGen and (bestF1*100) < 99.5):\n",
    "    print('Generation :',generation)\n",
    "    fitness = pd.DataFrame()\n",
    "    acc = []\n",
    "    f1score = []\n",
    "    # ent = []\n",
    "    nFeature = []\n",
    "    gene = []\n",
    "    i = 0\n",
    "    while (i < len(population)):\n",
    "      if ZeroGene(population[i]) == False:\n",
    "        print('gene :', population[i])\n",
    "        accuracy, f1, totalFeatures = Classification(population[i], dataset, orde) # Count Fitness Value\n",
    "        acc.append(accuracy)\n",
    "        f1score.append(f1)\n",
    "        nFeature.append(totalFeatures)\n",
    "        gene.append(population[i])\n",
    "      i += 1\n",
    "\n",
    "    fitness['gene'] = gene\n",
    "    fitness['feature'] = nFeature\n",
    "    fitness['f1_score'] = f1score\n",
    "    fitness['accuracy'] = acc\n",
    "\n",
    "    fitness = fitness.sort_values(['f1_score'],ascending=False)\n",
    "    \n",
    "    last_bestF1 = bestF1\n",
    "    last_bestAcc = bestAcc\n",
    "    last_bestNFeature = bestNFeature\n",
    "    last_best_gene = best_gene\n",
    "    last_best_gene_2 = best_gene_2\n",
    "    \n",
    "    if last_bestF1 > fitness['f1_score'][fitness.index[0]]:\n",
    "        bestF1 = last_bestF1\n",
    "        bestAcc = last_bestAcc\n",
    "        bestNFeature = last_bestNFeature\n",
    "        # select parent\n",
    "        best_gene = last_best_gene\n",
    "        best_gene_2 = last_best_gene_2\n",
    "    else:\n",
    "        bestF1 = fitness['f1_score'][fitness.index[0]]\n",
    "        bestAcc = fitness['accuracy'][fitness.index[0]]\n",
    "        bestNFeature = fitness['feature'][fitness.index[0]]\n",
    "        # select parent\n",
    "        best_gene = fitness['gene'][fitness.index[0]].copy()\n",
    "        best_gene_2 = fitness['gene'][fitness.index[1]].copy()\n",
    "\n",
    "    #Crossover methods: Fixed Point, \"Random Point\", Alternate Point\n",
    "    population = CrossOver(best_gene.copy(), best_gene_2.copy(), crossoverRate, lengthOfGen)\n",
    "\n",
    "    # Mutation\n",
    "    population = Mutation(population, mutationRate, lengthOfGen)\n",
    "\n",
    "    # Masukkan best child tadi\n",
    "    population.append(best_gene)\n",
    "    population.append(best_gene_2)\n",
    "\n",
    "    # Print Result\n",
    "    print('===============================================================================================================================================================================================================')\n",
    "    print('gen terbaik :', best_gene)\n",
    "    print('F-1 Score terbaik :',bestF1,' || Akurasi terbaik :',bestAcc,' || jumlah fitur :',bestNFeature)\n",
    "    print()\n",
    "\n",
    "    # New Generation\n",
    "    generation += 1\n",
    "  listDrop = []\n",
    "  for i in range(len(dataset.columns)-1):\n",
    "    if best_gene[i] == 0:\n",
    "      listDrop.append(dataset.columns[i])\n",
    "  dataset_GA = dataset.drop(listDrop, axis = 1)\n",
    "  stop = timeit.default_timer()\n",
    "  print('Running Time: ', stop - start)\n",
    "  return dataset_GA"
   ]
  },
  {
   "cell_type": "markdown",
   "metadata": {
    "id": "G3lRPMojLv2j"
   },
   "source": [
    "# 3. Feature Selection with IG"
   ]
  },
  {
   "cell_type": "markdown",
   "metadata": {
    "id": "3slMIyqbNagN"
   },
   "source": [
    "## Lung"
   ]
  },
  {
   "cell_type": "code",
   "execution_count": 9,
   "metadata": {
    "colab": {
     "base_uri": "https://localhost:8080/",
     "height": 461
    },
    "collapsed": true,
    "id": "_ocTxEpPNbyl",
    "jupyter": {
     "outputs_hidden": true
    },
    "outputId": "aa5a5f59-713d-4deb-9375-2317058a7963"
   },
   "outputs": [
    {
     "name": "stdout",
     "output_type": "stream",
     "text": [
      "(181, 101)\n"
     ]
    },
    {
     "data": {
      "text/html": [
       "<div>\n",
       "<style scoped>\n",
       "    .dataframe tbody tr th:only-of-type {\n",
       "        vertical-align: middle;\n",
       "    }\n",
       "\n",
       "    .dataframe tbody tr th {\n",
       "        vertical-align: top;\n",
       "    }\n",
       "\n",
       "    .dataframe thead th {\n",
       "        text-align: right;\n",
       "    }\n",
       "</style>\n",
       "<table border=\"1\" class=\"dataframe\">\n",
       "  <thead>\n",
       "    <tr style=\"text-align: right;\">\n",
       "      <th></th>\n",
       "      <th>0</th>\n",
       "      <th>1</th>\n",
       "      <th>2</th>\n",
       "      <th>3</th>\n",
       "      <th>4</th>\n",
       "      <th>5</th>\n",
       "      <th>6</th>\n",
       "      <th>7</th>\n",
       "      <th>8</th>\n",
       "      <th>9</th>\n",
       "      <th>...</th>\n",
       "      <th>91</th>\n",
       "      <th>92</th>\n",
       "      <th>93</th>\n",
       "      <th>94</th>\n",
       "      <th>95</th>\n",
       "      <th>96</th>\n",
       "      <th>97</th>\n",
       "      <th>98</th>\n",
       "      <th>99</th>\n",
       "      <th>label</th>\n",
       "    </tr>\n",
       "  </thead>\n",
       "  <tbody>\n",
       "    <tr>\n",
       "      <th>0</th>\n",
       "      <td>0.227107</td>\n",
       "      <td>0.115484</td>\n",
       "      <td>0.031897</td>\n",
       "      <td>0.148000</td>\n",
       "      <td>0.032804</td>\n",
       "      <td>0.053853</td>\n",
       "      <td>0.070115</td>\n",
       "      <td>0.073506</td>\n",
       "      <td>0.204635</td>\n",
       "      <td>0.195675</td>\n",
       "      <td>...</td>\n",
       "      <td>0.048007</td>\n",
       "      <td>0.121490</td>\n",
       "      <td>0.305688</td>\n",
       "      <td>0.030695</td>\n",
       "      <td>0.013913</td>\n",
       "      <td>0.242249</td>\n",
       "      <td>0.114315</td>\n",
       "      <td>0.100457</td>\n",
       "      <td>0.076336</td>\n",
       "      <td>0</td>\n",
       "    </tr>\n",
       "    <tr>\n",
       "      <th>1</th>\n",
       "      <td>0.121110</td>\n",
       "      <td>0.140638</td>\n",
       "      <td>0.033685</td>\n",
       "      <td>0.326769</td>\n",
       "      <td>0.021254</td>\n",
       "      <td>0.077068</td>\n",
       "      <td>0.142478</td>\n",
       "      <td>0.691464</td>\n",
       "      <td>0.189431</td>\n",
       "      <td>0.294997</td>\n",
       "      <td>...</td>\n",
       "      <td>0.100909</td>\n",
       "      <td>0.021149</td>\n",
       "      <td>0.206095</td>\n",
       "      <td>0.150019</td>\n",
       "      <td>0.035602</td>\n",
       "      <td>0.676313</td>\n",
       "      <td>0.080490</td>\n",
       "      <td>0.046804</td>\n",
       "      <td>0.087627</td>\n",
       "      <td>0</td>\n",
       "    </tr>\n",
       "    <tr>\n",
       "      <th>2</th>\n",
       "      <td>0.053042</td>\n",
       "      <td>0.151513</td>\n",
       "      <td>0.027471</td>\n",
       "      <td>0.536154</td>\n",
       "      <td>0.100337</td>\n",
       "      <td>0.233083</td>\n",
       "      <td>0.127850</td>\n",
       "      <td>0.687512</td>\n",
       "      <td>0.287886</td>\n",
       "      <td>0.438944</td>\n",
       "      <td>...</td>\n",
       "      <td>0.084447</td>\n",
       "      <td>0.029413</td>\n",
       "      <td>0.228975</td>\n",
       "      <td>0.182091</td>\n",
       "      <td>0.040311</td>\n",
       "      <td>0.606449</td>\n",
       "      <td>0.078683</td>\n",
       "      <td>0.078196</td>\n",
       "      <td>0.081266</td>\n",
       "      <td>0</td>\n",
       "    </tr>\n",
       "    <tr>\n",
       "      <th>3</th>\n",
       "      <td>0.075560</td>\n",
       "      <td>0.136939</td>\n",
       "      <td>0.035451</td>\n",
       "      <td>0.297846</td>\n",
       "      <td>0.041787</td>\n",
       "      <td>0.425282</td>\n",
       "      <td>0.098431</td>\n",
       "      <td>0.579355</td>\n",
       "      <td>0.194826</td>\n",
       "      <td>0.127305</td>\n",
       "      <td>...</td>\n",
       "      <td>0.055119</td>\n",
       "      <td>0.023577</td>\n",
       "      <td>0.162454</td>\n",
       "      <td>0.122005</td>\n",
       "      <td>0.023188</td>\n",
       "      <td>0.326581</td>\n",
       "      <td>0.094860</td>\n",
       "      <td>0.069064</td>\n",
       "      <td>0.084288</td>\n",
       "      <td>0</td>\n",
       "    </tr>\n",
       "    <tr>\n",
       "      <th>4</th>\n",
       "      <td>0.042682</td>\n",
       "      <td>0.154842</td>\n",
       "      <td>0.029907</td>\n",
       "      <td>0.311231</td>\n",
       "      <td>0.030558</td>\n",
       "      <td>0.230451</td>\n",
       "      <td>0.059124</td>\n",
       "      <td>0.120202</td>\n",
       "      <td>0.178028</td>\n",
       "      <td>0.298919</td>\n",
       "      <td>...</td>\n",
       "      <td>0.089821</td>\n",
       "      <td>0.023891</td>\n",
       "      <td>0.042101</td>\n",
       "      <td>0.351762</td>\n",
       "      <td>0.009775</td>\n",
       "      <td>0.381976</td>\n",
       "      <td>0.191195</td>\n",
       "      <td>0.082192</td>\n",
       "      <td>0.076495</td>\n",
       "      <td>0</td>\n",
       "    </tr>\n",
       "    <tr>\n",
       "      <th>...</th>\n",
       "      <td>...</td>\n",
       "      <td>...</td>\n",
       "      <td>...</td>\n",
       "      <td>...</td>\n",
       "      <td>...</td>\n",
       "      <td>...</td>\n",
       "      <td>...</td>\n",
       "      <td>...</td>\n",
       "      <td>...</td>\n",
       "      <td>...</td>\n",
       "      <td>...</td>\n",
       "      <td>...</td>\n",
       "      <td>...</td>\n",
       "      <td>...</td>\n",
       "      <td>...</td>\n",
       "      <td>...</td>\n",
       "      <td>...</td>\n",
       "      <td>...</td>\n",
       "      <td>...</td>\n",
       "      <td>...</td>\n",
       "      <td>...</td>\n",
       "    </tr>\n",
       "    <tr>\n",
       "      <th>176</th>\n",
       "      <td>0.248555</td>\n",
       "      <td>0.110232</td>\n",
       "      <td>0.027516</td>\n",
       "      <td>0.140308</td>\n",
       "      <td>0.557026</td>\n",
       "      <td>0.036184</td>\n",
       "      <td>0.125848</td>\n",
       "      <td>0.081473</td>\n",
       "      <td>0.456229</td>\n",
       "      <td>0.124444</td>\n",
       "      <td>...</td>\n",
       "      <td>0.013425</td>\n",
       "      <td>0.160537</td>\n",
       "      <td>0.062485</td>\n",
       "      <td>0.026567</td>\n",
       "      <td>0.086187</td>\n",
       "      <td>0.250517</td>\n",
       "      <td>0.074152</td>\n",
       "      <td>0.218607</td>\n",
       "      <td>0.138041</td>\n",
       "      <td>1</td>\n",
       "    </tr>\n",
       "    <tr>\n",
       "      <th>177</th>\n",
       "      <td>0.346076</td>\n",
       "      <td>0.189243</td>\n",
       "      <td>0.067683</td>\n",
       "      <td>0.129077</td>\n",
       "      <td>0.542830</td>\n",
       "      <td>0.034211</td>\n",
       "      <td>0.258397</td>\n",
       "      <td>0.024028</td>\n",
       "      <td>0.561795</td>\n",
       "      <td>0.108544</td>\n",
       "      <td>...</td>\n",
       "      <td>0.025672</td>\n",
       "      <td>0.167979</td>\n",
       "      <td>0.058005</td>\n",
       "      <td>0.028190</td>\n",
       "      <td>0.146404</td>\n",
       "      <td>0.186441</td>\n",
       "      <td>0.054738</td>\n",
       "      <td>0.117580</td>\n",
       "      <td>0.113073</td>\n",
       "      <td>1</td>\n",
       "    </tr>\n",
       "    <tr>\n",
       "      <th>178</th>\n",
       "      <td>0.238067</td>\n",
       "      <td>0.183991</td>\n",
       "      <td>0.128884</td>\n",
       "      <td>0.149846</td>\n",
       "      <td>0.146615</td>\n",
       "      <td>0.050658</td>\n",
       "      <td>0.130179</td>\n",
       "      <td>0.061619</td>\n",
       "      <td>0.322707</td>\n",
       "      <td>0.146915</td>\n",
       "      <td>...</td>\n",
       "      <td>0.023774</td>\n",
       "      <td>0.292798</td>\n",
       "      <td>0.083348</td>\n",
       "      <td>0.023321</td>\n",
       "      <td>0.173373</td>\n",
       "      <td>0.145515</td>\n",
       "      <td>0.078792</td>\n",
       "      <td>0.567352</td>\n",
       "      <td>0.483779</td>\n",
       "      <td>1</td>\n",
       "    </tr>\n",
       "    <tr>\n",
       "      <th>179</th>\n",
       "      <td>0.125562</td>\n",
       "      <td>0.171192</td>\n",
       "      <td>0.123609</td>\n",
       "      <td>0.166462</td>\n",
       "      <td>0.121270</td>\n",
       "      <td>0.058929</td>\n",
       "      <td>0.298766</td>\n",
       "      <td>0.048498</td>\n",
       "      <td>0.298063</td>\n",
       "      <td>0.173945</td>\n",
       "      <td>...</td>\n",
       "      <td>0.049605</td>\n",
       "      <td>0.093291</td>\n",
       "      <td>0.114744</td>\n",
       "      <td>0.054652</td>\n",
       "      <td>0.090325</td>\n",
       "      <td>0.207110</td>\n",
       "      <td>0.054950</td>\n",
       "      <td>0.301370</td>\n",
       "      <td>0.123887</td>\n",
       "      <td>1</td>\n",
       "    </tr>\n",
       "    <tr>\n",
       "      <th>180</th>\n",
       "      <td>0.119954</td>\n",
       "      <td>0.310868</td>\n",
       "      <td>0.028477</td>\n",
       "      <td>0.130154</td>\n",
       "      <td>0.328842</td>\n",
       "      <td>0.062406</td>\n",
       "      <td>0.218763</td>\n",
       "      <td>0.077110</td>\n",
       "      <td>0.526116</td>\n",
       "      <td>0.071444</td>\n",
       "      <td>...</td>\n",
       "      <td>0.003836</td>\n",
       "      <td>0.463400</td>\n",
       "      <td>0.239646</td>\n",
       "      <td>0.013584</td>\n",
       "      <td>0.085474</td>\n",
       "      <td>0.126085</td>\n",
       "      <td>0.017199</td>\n",
       "      <td>0.212329</td>\n",
       "      <td>0.282920</td>\n",
       "      <td>1</td>\n",
       "    </tr>\n",
       "  </tbody>\n",
       "</table>\n",
       "<p>181 rows × 101 columns</p>\n",
       "</div>"
      ],
      "text/plain": [
       "            0         1         2         3         4         5         6  \\\n",
       "0    0.227107  0.115484  0.031897  0.148000  0.032804  0.053853  0.070115   \n",
       "1    0.121110  0.140638  0.033685  0.326769  0.021254  0.077068  0.142478   \n",
       "2    0.053042  0.151513  0.027471  0.536154  0.100337  0.233083  0.127850   \n",
       "3    0.075560  0.136939  0.035451  0.297846  0.041787  0.425282  0.098431   \n",
       "4    0.042682  0.154842  0.029907  0.311231  0.030558  0.230451  0.059124   \n",
       "..        ...       ...       ...       ...       ...       ...       ...   \n",
       "176  0.248555  0.110232  0.027516  0.140308  0.557026  0.036184  0.125848   \n",
       "177  0.346076  0.189243  0.067683  0.129077  0.542830  0.034211  0.258397   \n",
       "178  0.238067  0.183991  0.128884  0.149846  0.146615  0.050658  0.130179   \n",
       "179  0.125562  0.171192  0.123609  0.166462  0.121270  0.058929  0.298766   \n",
       "180  0.119954  0.310868  0.028477  0.130154  0.328842  0.062406  0.218763   \n",
       "\n",
       "            7         8         9  ...        91        92        93  \\\n",
       "0    0.073506  0.204635  0.195675  ...  0.048007  0.121490  0.305688   \n",
       "1    0.691464  0.189431  0.294997  ...  0.100909  0.021149  0.206095   \n",
       "2    0.687512  0.287886  0.438944  ...  0.084447  0.029413  0.228975   \n",
       "3    0.579355  0.194826  0.127305  ...  0.055119  0.023577  0.162454   \n",
       "4    0.120202  0.178028  0.298919  ...  0.089821  0.023891  0.042101   \n",
       "..        ...       ...       ...  ...       ...       ...       ...   \n",
       "176  0.081473  0.456229  0.124444  ...  0.013425  0.160537  0.062485   \n",
       "177  0.024028  0.561795  0.108544  ...  0.025672  0.167979  0.058005   \n",
       "178  0.061619  0.322707  0.146915  ...  0.023774  0.292798  0.083348   \n",
       "179  0.048498  0.298063  0.173945  ...  0.049605  0.093291  0.114744   \n",
       "180  0.077110  0.526116  0.071444  ...  0.003836  0.463400  0.239646   \n",
       "\n",
       "           94        95        96        97        98        99  label  \n",
       "0    0.030695  0.013913  0.242249  0.114315  0.100457  0.076336      0  \n",
       "1    0.150019  0.035602  0.676313  0.080490  0.046804  0.087627      0  \n",
       "2    0.182091  0.040311  0.606449  0.078683  0.078196  0.081266      0  \n",
       "3    0.122005  0.023188  0.326581  0.094860  0.069064  0.084288      0  \n",
       "4    0.351762  0.009775  0.381976  0.191195  0.082192  0.076495      0  \n",
       "..        ...       ...       ...       ...       ...       ...    ...  \n",
       "176  0.026567  0.086187  0.250517  0.074152  0.218607  0.138041      1  \n",
       "177  0.028190  0.146404  0.186441  0.054738  0.117580  0.113073      1  \n",
       "178  0.023321  0.173373  0.145515  0.078792  0.567352  0.483779      1  \n",
       "179  0.054652  0.090325  0.207110  0.054950  0.301370  0.123887      1  \n",
       "180  0.013584  0.085474  0.126085  0.017199  0.212329  0.282920      1  \n",
       "\n",
       "[181 rows x 101 columns]"
      ]
     },
     "execution_count": 9,
     "metadata": {},
     "output_type": "execute_result"
    }
   ],
   "source": [
    "data_X = data_new_lung.drop(['label'],axis=1)\n",
    "data_Y = data_new_lung['label']\n",
    "\n",
    "X_train, X_test, Y_train, Y_test = train_test_split(data_X, data_Y, test_size=0.3, random_state=0)\n",
    "\n",
    "sel_k_best = SelectKBest(mutual_info_classif, k=100)\n",
    "sel_k_best.fit(data_X, data_Y)\n",
    "data_X_new = sel_k_best.transform(data_X)\n",
    "\n",
    "Lung_IG = pd.DataFrame(data_X_new)\n",
    "Lung_IG['label'] = data_Y\n",
    "useddata_lung = Lung_IG\n",
    "print(useddata_lung.shape)\n",
    "Lung_IG"
   ]
  },
  {
   "cell_type": "markdown",
   "metadata": {
    "id": "PQoKkj8-OIPX"
   },
   "source": [
    "# 4. Classification"
   ]
  },
  {
   "cell_type": "markdown",
   "metadata": {
    "id": "yB5N-ClJUPf1"
   },
   "source": [
    "## Lung + IG"
   ]
  },
  {
   "cell_type": "code",
   "execution_count": 10,
   "metadata": {
    "colab": {
     "base_uri": "https://localhost:8080/",
     "height": 1000
    },
    "collapsed": true,
    "id": "Q4BVkKBVT0T7",
    "jupyter": {
     "outputs_hidden": true
    },
    "outputId": "b3ff5877-142f-4ae4-8b50-4afe1793b977"
   },
   "outputs": [
    {
     "name": "stdout",
     "output_type": "stream",
     "text": [
      "Train : [  0   1   5   6   7   8  10  11  12  14  15  16  18  19  20  21  22  23\n",
      "  26  27  28  29  30  31  32  33  34  36  37  38  39  40  41  42  43  44\n",
      "  45  46  47  49  51  52  54  55  57  58  59  60  61  62  63  64  65  66\n",
      "  67  68  69  70  72  73  74  75  76  78  79  80  81  82  83  84  85  86\n",
      "  87  88  90  91  92  93  99 101 102 103 104 105 106 107 108 109 110 111\n",
      " 113 115 117 118 119 120 121 122 123 124 125 126 127 128 131 132 133 134\n",
      " 135 137 139 142 143 144 145 147 148 149 150 151 152 153 154 155 156 157\n",
      " 158 159 161 163 164 165 166 169 170 171 172 173 174 175 176 177 178 179] Test : [  2   3   4   9  13  17  24  25  35  48  50  53  56  71  77  89  94  95\n",
      "  96  97  98 100 112 114 116 129 130 136 138 140 141 146 160 162 167 168\n",
      " 180]\n",
      "Y_Train : [0 0 0 0 0 0 0 0 0 0 1 1 1 1 1 1 1 1 1 1 1 1 1 1 1 1 1 1 1 1 1 1 1 1 1 1 1\n",
      " 1 1 1 1 1 1 1 1 1 1 1 1 1 1 1 1 1 1 1 1 1 1 1 1 1 1 1 1 1 1 1 1 1 1 1 1 1\n",
      " 1 1 1 1 1 1 1 1 1 1 1 1 1 1 1 1 1 1 1 1 1 1 1 1 1 1 1 1 1 1 1 1 1 1 1 1 1\n",
      " 1 1 1 1 1 1 0 0 0 0 0 0 0 0 0 0 0 0 0 0 1 1 1 1 1 1 1 1 1 1 1 1 1]\n",
      "Y_Test : [0 0 0 0 0 1 1 1 1 1 1 1 1 1 1 1 1 1 1 1 1 1 1 1 1 1 1 1 1 1 1 1 0 0 1 1 1]\n",
      "Akurasi :  1.0\n",
      "F1_Score :  1.0\n",
      "              precision    recall  f1-score   support\n",
      "\n",
      "           0       1.00      1.00      1.00         7\n",
      "           1       1.00      1.00      1.00        30\n",
      "\n",
      "    accuracy                           1.00        37\n",
      "   macro avg       1.00      1.00      1.00        37\n",
      "weighted avg       1.00      1.00      1.00        37\n",
      "\n"
     ]
    },
    {
     "data": {
      "image/png": "[encoded data removed]",
      "text/plain": [
       "<Figure size 360x360 with 1 Axes>"
      ]
     },
     "metadata": {
      "needs_background": "light"
     },
     "output_type": "display_data"
    },
    {
     "name": "stdout",
     "output_type": "stream",
     "text": [
      "Train : [  0   2   3   4   5   6   7   9  10  11  12  13  15  16  17  18  20  21\n",
      "  23  24  25  26  28  29  31  32  33  34  35  36  39  40  41  42  43  44\n",
      "  45  46  47  48  49  50  51  52  53  54  55  56  57  58  60  61  62  63\n",
      "  65  66  67  69  70  71  72  73  76  77  78  79  80  81  82  83  84  87\n",
      "  89  91  92  94  95  96  97  98  99 100 102 105 106 108 109 110 111 112\n",
      " 113 114 115 116 117 118 119 120 121 124 126 127 128 129 130 132 133 134\n",
      " 136 137 138 140 141 142 143 144 145 146 147 148 149 150 151 152 154 155\n",
      " 157 158 159 160 161 162 163 165 166 167 168 172 173 174 176 177 178 179\n",
      " 180] Test : [  1   8  14  19  22  27  30  37  38  59  64  68  74  75  85  86  88  90\n",
      "  93 101 103 104 107 122 123 125 131 135 139 153 156 164 169 170 171 175]\n",
      "Y_Train : [0 0 0 0 0 0 0 0 0 0 0 0 1 1 1 1 1 1 1 1 1 1 1 1 1 1 1 1 1 1 1 1 1 1 1 1 1\n",
      " 1 1 1 1 1 1 1 1 1 1 1 1 1 1 1 1 1 1 1 1 1 1 1 1 1 1 1 1 1 1 1 1 1 1 1 1 1\n",
      " 1 1 1 1 1 1 1 1 1 1 1 1 1 1 1 1 1 1 1 1 1 1 1 1 1 1 1 1 1 1 1 1 1 1 1 1 1\n",
      " 1 1 1 1 1 1 1 1 1 0 0 0 0 0 0 0 0 0 0 0 0 0 1 1 1 1 1 1 1 1 1 1 1 1]\n",
      "Y_Test : [0 0 0 1 1 1 1 1 1 1 1 1 1 1 1 1 1 1 1 1 1 1 1 1 1 1 1 1 1 0 0 0 1 1 1 1]\n",
      "Akurasi :  1.0\n",
      "F1_Score :  1.0\n",
      "              precision    recall  f1-score   support\n",
      "\n",
      "           0       1.00      1.00      1.00         6\n",
      "           1       1.00      1.00      1.00        30\n",
      "\n",
      "    accuracy                           1.00        36\n",
      "   macro avg       1.00      1.00      1.00        36\n",
      "weighted avg       1.00      1.00      1.00        36\n",
      "\n"
     ]
    },
    {
     "data": {
      "image/png": "[encoded data removed]",
      "text/plain": [
       "<Figure size 360x360 with 1 Axes>"
      ]
     },
     "metadata": {
      "needs_background": "light"
     },
     "output_type": "display_data"
    },
    {
     "name": "stdout",
     "output_type": "stream",
     "text": [
      "Train : [  0   1   2   3   4   5   7   8   9  10  13  14  16  17  18  19  20  21\n",
      "  22  23  24  25  27  29  30  33  34  35  36  37  38  40  42  45  46  48\n",
      "  49  50  51  52  53  54  55  56  57  59  60  61  64  65  66  67  68  71\n",
      "  72  73  74  75  76  77  78  79  80  83  84  85  86  87  88  89  90  91\n",
      "  92  93  94  95  96  97  98  99 100 101 103 104 105 106 107 109 111 112\n",
      " 113 114 116 117 118 119 120 121 122 123 124 125 126 127 128 129 130 131\n",
      " 132 133 135 136 138 139 140 141 144 145 146 148 149 150 151 152 153 154\n",
      " 155 156 157 160 162 163 164 166 167 168 169 170 171 173 175 177 178 179\n",
      " 180] Test : [  6  11  12  15  26  28  31  32  39  41  43  44  47  58  62  63  69  70\n",
      "  81  82 102 108 110 115 134 137 142 143 147 158 159 161 165 172 174 176]\n",
      "Y_Train : [0 0 0 0 0 0 0 0 0 0 0 0 1 1 1 1 1 1 1 1 1 1 1 1 1 1 1 1 1 1 1 1 1 1 1 1 1\n",
      " 1 1 1 1 1 1 1 1 1 1 1 1 1 1 1 1 1 1 1 1 1 1 1 1 1 1 1 1 1 1 1 1 1 1 1 1 1\n",
      " 1 1 1 1 1 1 1 1 1 1 1 1 1 1 1 1 1 1 1 1 1 1 1 1 1 1 1 1 1 1 1 1 1 1 1 1 1\n",
      " 1 1 1 1 1 1 1 1 1 0 0 0 0 0 0 0 0 0 0 0 0 0 1 1 1 1 1 1 1 1 1 1 1 1]\n",
      "Y_Test : [0 0 0 1 1 1 1 1 1 1 1 1 1 1 1 1 1 1 1 1 1 1 1 1 1 1 1 1 1 0 0 0 1 1 1 1]\n",
      "Akurasi :  1.0\n",
      "F1_Score :  1.0\n",
      "              precision    recall  f1-score   support\n",
      "\n",
      "           0       1.00      1.00      1.00         6\n",
      "           1       1.00      1.00      1.00        30\n",
      "\n",
      "    accuracy                           1.00        36\n",
      "   macro avg       1.00      1.00      1.00        36\n",
      "weighted avg       1.00      1.00      1.00        36\n",
      "\n"
     ]
    },
    {
     "data": {
      "image/png": "[encoded data removed]",
      "text/plain": [
       "<Figure size 360x360 with 1 Axes>"
      ]
     },
     "metadata": {
      "needs_background": "light"
     },
     "output_type": "display_data"
    },
    {
     "name": "stdout",
     "output_type": "stream",
     "text": [
      "Train : [  1   2   3   4   6   7   8   9  11  12  13  14  15  17  19  20  22  23\n",
      "  24  25  26  27  28  30  31  32  35  36  37  38  39  40  41  42  43  44\n",
      "  45  47  48  49  50  53  55  56  57  58  59  61  62  63  64  65  67  68\n",
      "  69  70  71  74  75  76  77  78  79  81  82  83  85  86  88  89  90  92\n",
      "  93  94  95  96  97  98  99 100 101 102 103 104 106 107 108 109 110 111\n",
      " 112 113 114 115 116 119 120 122 123 125 128 129 130 131 132 134 135 136\n",
      " 137 138 139 140 141 142 143 145 146 147 151 153 154 155 156 157 158 159\n",
      " 160 161 162 163 164 165 167 168 169 170 171 172 173 174 175 176 178 179\n",
      " 180] Test : [  0   5  10  16  18  21  29  33  34  46  51  52  54  60  66  72  73  80\n",
      "  84  87  91 105 117 118 121 124 126 127 133 144 148 149 150 152 166 177]\n",
      "Y_Train : [0 0 0 0 0 0 0 0 0 0 0 0 1 1 1 1 1 1 1 1 1 1 1 1 1 1 1 1 1 1 1 1 1 1 1 1 1\n",
      " 1 1 1 1 1 1 1 1 1 1 1 1 1 1 1 1 1 1 1 1 1 1 1 1 1 1 1 1 1 1 1 1 1 1 1 1 1\n",
      " 1 1 1 1 1 1 1 1 1 1 1 1 1 1 1 1 1 1 1 1 1 1 1 1 1 1 1 1 1 1 1 1 1 1 1 1 1\n",
      " 1 1 1 1 1 1 1 0 0 0 0 0 0 0 0 0 0 0 0 0 1 1 1 1 1 1 1 1 1 1 1 1 1 1]\n",
      "Y_Test : [0 0 0 1 1 1 1 1 1 1 1 1 1 1 1 1 1 1 1 1 1 1 1 1 1 1 1 1 1 1 1 0 0 0 1 1]\n",
      "Akurasi :  0.9722222222222222\n",
      "F1_Score :  0.9463487332339791\n",
      "              precision    recall  f1-score   support\n",
      "\n",
      "           0       1.00      0.83      0.91         6\n",
      "           1       0.97      1.00      0.98        30\n",
      "\n",
      "    accuracy                           0.97        36\n",
      "   macro avg       0.98      0.92      0.95        36\n",
      "weighted avg       0.97      0.97      0.97        36\n",
      "\n"
     ]
    },
    {
     "data": {
      "image/png": "[encoded data removed]",
      "text/plain": [
       "<Figure size 360x360 with 1 Axes>"
      ]
     },
     "metadata": {
      "needs_background": "light"
     },
     "output_type": "display_data"
    },
    {
     "name": "stdout",
     "output_type": "stream",
     "text": [
      "Train : [  0   1   2   3   4   5   6   8   9  10  11  12  13  14  15  16  17  18\n",
      "  19  21  22  24  25  26  27  28  29  30  31  32  33  34  35  37  38  39\n",
      "  41  43  44  46  47  48  50  51  52  53  54  56  58  59  60  62  63  64\n",
      "  66  68  69  70  71  72  73  74  75  77  80  81  82  84  85  86  87  88\n",
      "  89  90  91  93  94  95  96  97  98 100 101 102 103 104 105 107 108 110\n",
      " 112 114 115 116 117 118 121 122 123 124 125 126 127 129 130 131 133 134\n",
      " 135 136 137 138 139 140 141 142 143 144 146 147 148 149 150 152 153 156\n",
      " 158 159 160 161 162 164 165 166 167 168 169 170 171 172 174 175 176 177\n",
      " 180] Test : [  7  20  23  36  40  42  45  49  55  57  61  65  67  76  78  79  83  92\n",
      "  99 106 109 111 113 119 120 128 132 145 151 154 155 157 163 173 178 179]\n",
      "Y_Train : [0 0 0 0 0 0 0 0 0 0 0 0 0 0 1 1 1 1 1 1 1 1 1 1 1 1 1 1 1 1 1 1 1 1 1 1 1\n",
      " 1 1 1 1 1 1 1 1 1 1 1 1 1 1 1 1 1 1 1 1 1 1 1 1 1 1 1 1 1 1 1 1 1 1 1 1 1\n",
      " 1 1 1 1 1 1 1 1 1 1 1 1 1 1 1 1 1 1 1 1 1 1 1 1 1 1 1 1 1 1 1 1 1 1 1 1 1\n",
      " 1 1 1 1 1 1 1 1 1 1 0 0 0 0 0 0 0 0 0 0 0 1 1 1 1 1 1 1 1 1 1 1 1 1]\n",
      "Y_Test : [0 1 1 1 1 1 1 1 1 1 1 1 1 1 1 1 1 1 1 1 1 1 1 1 1 1 1 1 0 0 0 0 0 1 1 1]\n",
      "Akurasi :  1.0\n",
      "F1_Score :  1.0\n",
      "              precision    recall  f1-score   support\n",
      "\n",
      "           0       1.00      1.00      1.00         6\n",
      "           1       1.00      1.00      1.00        30\n",
      "\n",
      "    accuracy                           1.00        36\n",
      "   macro avg       1.00      1.00      1.00        36\n",
      "weighted avg       1.00      1.00      1.00        36\n",
      "\n"
     ]
    },
    {
     "data": {
      "image/png": "[encoded data removed]",
      "text/plain": [
       "<Figure size 360x360 with 1 Axes>"
      ]
     },
     "metadata": {
      "needs_background": "light"
     },
     "output_type": "display_data"
    },
    {
     "name": "stdout",
     "output_type": "stream",
     "text": [
      "avg accuraccy Lung cancer =  0.9944444444444445\n",
      "avg F1_Score Lung cancer =  0.9892697466467958\n",
      "max accuraccy Lung cancer =  1.0\n",
      "max F1_Score Lung cancer =  1.0\n",
      "min accuraccy Lung cancer =  0.9722222222222222\n",
      "min F1_Score Lung cancer =  0.9463487332339791\n",
      "Running Time:  97.18801820500084\n"
     ]
    },
    {
     "data": {
      "text/plain": [
       "(0.9944444444444445, 0.9892697466467958)"
      ]
     },
     "execution_count": 10,
     "metadata": {},
     "output_type": "execute_result"
    }
   ],
   "source": [
    "FLNN_Classifier(Lung_IG,\"Lung cancer\",2)"
   ]
  },
  {
   "cell_type": "code",
   "execution_count": 11,
   "metadata": {
    "colab": {
     "base_uri": "https://localhost:8080/",
     "height": 1000
    },
    "collapsed": true,
    "id": "qff5aKkNAAiZ",
    "jupyter": {
     "outputs_hidden": true
    },
    "outputId": "2ad41b4f-94b4-4970-ffb4-b4b939187278"
   },
   "outputs": [
    {
     "name": "stdout",
     "output_type": "stream",
     "text": [
      "Train : [  0   1   5   6   7   8  10  11  12  14  15  16  18  19  20  21  22  23\n",
      "  26  27  28  29  30  31  32  33  34  36  37  38  39  40  41  42  43  44\n",
      "  45  46  47  49  51  52  54  55  57  58  59  60  61  62  63  64  65  66\n",
      "  67  68  69  70  72  73  74  75  76  78  79  80  81  82  83  84  85  86\n",
      "  87  88  90  91  92  93  99 101 102 103 104 105 106 107 108 109 110 111\n",
      " 113 115 117 118 119 120 121 122 123 124 125 126 127 128 131 132 133 134\n",
      " 135 137 139 142 143 144 145 147 148 149 150 151 152 153 154 155 156 157\n",
      " 158 159 161 163 164 165 166 169 170 171 172 173 174 175 176 177 178 179] Test : [  2   3   4   9  13  17  24  25  35  48  50  53  56  71  77  89  94  95\n",
      "  96  97  98 100 112 114 116 129 130 136 138 140 141 146 160 162 167 168\n",
      " 180]\n",
      "Y_Train : [0 0 0 0 0 0 0 0 0 0 1 1 1 1 1 1 1 1 1 1 1 1 1 1 1 1 1 1 1 1 1 1 1 1 1 1 1\n",
      " 1 1 1 1 1 1 1 1 1 1 1 1 1 1 1 1 1 1 1 1 1 1 1 1 1 1 1 1 1 1 1 1 1 1 1 1 1\n",
      " 1 1 1 1 1 1 1 1 1 1 1 1 1 1 1 1 1 1 1 1 1 1 1 1 1 1 1 1 1 1 1 1 1 1 1 1 1\n",
      " 1 1 1 1 1 1 0 0 0 0 0 0 0 0 0 0 0 0 0 0 1 1 1 1 1 1 1 1 1 1 1 1 1]\n",
      "Y_Test : [0 0 0 0 0 1 1 1 1 1 1 1 1 1 1 1 1 1 1 1 1 1 1 1 1 1 1 1 1 1 1 1 0 0 1 1 1]\n",
      "Akurasi :  1.0\n",
      "F1_Score :  1.0\n",
      "              precision    recall  f1-score   support\n",
      "\n",
      "           0       1.00      1.00      1.00         7\n",
      "           1       1.00      1.00      1.00        30\n",
      "\n",
      "    accuracy                           1.00        37\n",
      "   macro avg       1.00      1.00      1.00        37\n",
      "weighted avg       1.00      1.00      1.00        37\n",
      "\n"
     ]
    },
    {
     "data": {
      "image/png": "[encoded data removed]",
      "text/plain": [
       "<Figure size 360x360 with 1 Axes>"
      ]
     },
     "metadata": {
      "needs_background": "light"
     },
     "output_type": "display_data"
    },
    {
     "name": "stdout",
     "output_type": "stream",
     "text": [
      "Train : [  0   2   3   4   5   6   7   9  10  11  12  13  15  16  17  18  20  21\n",
      "  23  24  25  26  28  29  31  32  33  34  35  36  39  40  41  42  43  44\n",
      "  45  46  47  48  49  50  51  52  53  54  55  56  57  58  60  61  62  63\n",
      "  65  66  67  69  70  71  72  73  76  77  78  79  80  81  82  83  84  87\n",
      "  89  91  92  94  95  96  97  98  99 100 102 105 106 108 109 110 111 112\n",
      " 113 114 115 116 117 118 119 120 121 124 126 127 128 129 130 132 133 134\n",
      " 136 137 138 140 141 142 143 144 145 146 147 148 149 150 151 152 154 155\n",
      " 157 158 159 160 161 162 163 165 166 167 168 172 173 174 176 177 178 179\n",
      " 180] Test : [  1   8  14  19  22  27  30  37  38  59  64  68  74  75  85  86  88  90\n",
      "  93 101 103 104 107 122 123 125 131 135 139 153 156 164 169 170 171 175]\n",
      "Y_Train : [0 0 0 0 0 0 0 0 0 0 0 0 1 1 1 1 1 1 1 1 1 1 1 1 1 1 1 1 1 1 1 1 1 1 1 1 1\n",
      " 1 1 1 1 1 1 1 1 1 1 1 1 1 1 1 1 1 1 1 1 1 1 1 1 1 1 1 1 1 1 1 1 1 1 1 1 1\n",
      " 1 1 1 1 1 1 1 1 1 1 1 1 1 1 1 1 1 1 1 1 1 1 1 1 1 1 1 1 1 1 1 1 1 1 1 1 1\n",
      " 1 1 1 1 1 1 1 1 1 0 0 0 0 0 0 0 0 0 0 0 0 0 1 1 1 1 1 1 1 1 1 1 1 1]\n",
      "Y_Test : [0 0 0 1 1 1 1 1 1 1 1 1 1 1 1 1 1 1 1 1 1 1 1 1 1 1 1 1 1 0 0 0 1 1 1 1]\n",
      "Akurasi :  1.0\n",
      "F1_Score :  1.0\n",
      "              precision    recall  f1-score   support\n",
      "\n",
      "           0       1.00      1.00      1.00         6\n",
      "           1       1.00      1.00      1.00        30\n",
      "\n",
      "    accuracy                           1.00        36\n",
      "   macro avg       1.00      1.00      1.00        36\n",
      "weighted avg       1.00      1.00      1.00        36\n",
      "\n"
     ]
    },
    {
     "data": {
      "image/png": "[encoded data removed]",
      "text/plain": [
       "<Figure size 360x360 with 1 Axes>"
      ]
     },
     "metadata": {
      "needs_background": "light"
     },
     "output_type": "display_data"
    },
    {
     "name": "stdout",
     "output_type": "stream",
     "text": [
      "Train : [  0   1   2   3   4   5   7   8   9  10  13  14  16  17  18  19  20  21\n",
      "  22  23  24  25  27  29  30  33  34  35  36  37  38  40  42  45  46  48\n",
      "  49  50  51  52  53  54  55  56  57  59  60  61  64  65  66  67  68  71\n",
      "  72  73  74  75  76  77  78  79  80  83  84  85  86  87  88  89  90  91\n",
      "  92  93  94  95  96  97  98  99 100 101 103 104 105 106 107 109 111 112\n",
      " 113 114 116 117 118 119 120 121 122 123 124 125 126 127 128 129 130 131\n",
      " 132 133 135 136 138 139 140 141 144 145 146 148 149 150 151 152 153 154\n",
      " 155 156 157 160 162 163 164 166 167 168 169 170 171 173 175 177 178 179\n",
      " 180] Test : [  6  11  12  15  26  28  31  32  39  41  43  44  47  58  62  63  69  70\n",
      "  81  82 102 108 110 115 134 137 142 143 147 158 159 161 165 172 174 176]\n",
      "Y_Train : [0 0 0 0 0 0 0 0 0 0 0 0 1 1 1 1 1 1 1 1 1 1 1 1 1 1 1 1 1 1 1 1 1 1 1 1 1\n",
      " 1 1 1 1 1 1 1 1 1 1 1 1 1 1 1 1 1 1 1 1 1 1 1 1 1 1 1 1 1 1 1 1 1 1 1 1 1\n",
      " 1 1 1 1 1 1 1 1 1 1 1 1 1 1 1 1 1 1 1 1 1 1 1 1 1 1 1 1 1 1 1 1 1 1 1 1 1\n",
      " 1 1 1 1 1 1 1 1 1 0 0 0 0 0 0 0 0 0 0 0 0 0 1 1 1 1 1 1 1 1 1 1 1 1]\n",
      "Y_Test : [0 0 0 1 1 1 1 1 1 1 1 1 1 1 1 1 1 1 1 1 1 1 1 1 1 1 1 1 1 0 0 0 1 1 1 1]\n",
      "Akurasi :  1.0\n",
      "F1_Score :  1.0\n",
      "              precision    recall  f1-score   support\n",
      "\n",
      "           0       1.00      1.00      1.00         6\n",
      "           1       1.00      1.00      1.00        30\n",
      "\n",
      "    accuracy                           1.00        36\n",
      "   macro avg       1.00      1.00      1.00        36\n",
      "weighted avg       1.00      1.00      1.00        36\n",
      "\n"
     ]
    },
    {
     "data": {
      "image/png": "[encoded data removed]",
      "text/plain": [
       "<Figure size 360x360 with 1 Axes>"
      ]
     },
     "metadata": {
      "needs_background": "light"
     },
     "output_type": "display_data"
    },
    {
     "name": "stdout",
     "output_type": "stream",
     "text": [
      "Train : [  1   2   3   4   6   7   8   9  11  12  13  14  15  17  19  20  22  23\n",
      "  24  25  26  27  28  30  31  32  35  36  37  38  39  40  41  42  43  44\n",
      "  45  47  48  49  50  53  55  56  57  58  59  61  62  63  64  65  67  68\n",
      "  69  70  71  74  75  76  77  78  79  81  82  83  85  86  88  89  90  92\n",
      "  93  94  95  96  97  98  99 100 101 102 103 104 106 107 108 109 110 111\n",
      " 112 113 114 115 116 119 120 122 123 125 128 129 130 131 132 134 135 136\n",
      " 137 138 139 140 141 142 143 145 146 147 151 153 154 155 156 157 158 159\n",
      " 160 161 162 163 164 165 167 168 169 170 171 172 173 174 175 176 178 179\n",
      " 180] Test : [  0   5  10  16  18  21  29  33  34  46  51  52  54  60  66  72  73  80\n",
      "  84  87  91 105 117 118 121 124 126 127 133 144 148 149 150 152 166 177]\n",
      "Y_Train : [0 0 0 0 0 0 0 0 0 0 0 0 1 1 1 1 1 1 1 1 1 1 1 1 1 1 1 1 1 1 1 1 1 1 1 1 1\n",
      " 1 1 1 1 1 1 1 1 1 1 1 1 1 1 1 1 1 1 1 1 1 1 1 1 1 1 1 1 1 1 1 1 1 1 1 1 1\n",
      " 1 1 1 1 1 1 1 1 1 1 1 1 1 1 1 1 1 1 1 1 1 1 1 1 1 1 1 1 1 1 1 1 1 1 1 1 1\n",
      " 1 1 1 1 1 1 1 0 0 0 0 0 0 0 0 0 0 0 0 0 1 1 1 1 1 1 1 1 1 1 1 1 1 1]\n",
      "Y_Test : [0 0 0 1 1 1 1 1 1 1 1 1 1 1 1 1 1 1 1 1 1 1 1 1 1 1 1 1 1 1 1 0 0 0 1 1]\n",
      "Akurasi :  0.9722222222222222\n",
      "F1_Score :  0.9463487332339791\n",
      "              precision    recall  f1-score   support\n",
      "\n",
      "           0       1.00      0.83      0.91         6\n",
      "           1       0.97      1.00      0.98        30\n",
      "\n",
      "    accuracy                           0.97        36\n",
      "   macro avg       0.98      0.92      0.95        36\n",
      "weighted avg       0.97      0.97      0.97        36\n",
      "\n"
     ]
    },
    {
     "data": {
      "image/png": "[encoded data removed]",
      "text/plain": [
       "<Figure size 360x360 with 1 Axes>"
      ]
     },
     "metadata": {
      "needs_background": "light"
     },
     "output_type": "display_data"
    },
    {
     "name": "stdout",
     "output_type": "stream",
     "text": [
      "Train : [  0   1   2   3   4   5   6   8   9  10  11  12  13  14  15  16  17  18\n",
      "  19  21  22  24  25  26  27  28  29  30  31  32  33  34  35  37  38  39\n",
      "  41  43  44  46  47  48  50  51  52  53  54  56  58  59  60  62  63  64\n",
      "  66  68  69  70  71  72  73  74  75  77  80  81  82  84  85  86  87  88\n",
      "  89  90  91  93  94  95  96  97  98 100 101 102 103 104 105 107 108 110\n",
      " 112 114 115 116 117 118 121 122 123 124 125 126 127 129 130 131 133 134\n",
      " 135 136 137 138 139 140 141 142 143 144 146 147 148 149 150 152 153 156\n",
      " 158 159 160 161 162 164 165 166 167 168 169 170 171 172 174 175 176 177\n",
      " 180] Test : [  7  20  23  36  40  42  45  49  55  57  61  65  67  76  78  79  83  92\n",
      "  99 106 109 111 113 119 120 128 132 145 151 154 155 157 163 173 178 179]\n",
      "Y_Train : [0 0 0 0 0 0 0 0 0 0 0 0 0 0 1 1 1 1 1 1 1 1 1 1 1 1 1 1 1 1 1 1 1 1 1 1 1\n",
      " 1 1 1 1 1 1 1 1 1 1 1 1 1 1 1 1 1 1 1 1 1 1 1 1 1 1 1 1 1 1 1 1 1 1 1 1 1\n",
      " 1 1 1 1 1 1 1 1 1 1 1 1 1 1 1 1 1 1 1 1 1 1 1 1 1 1 1 1 1 1 1 1 1 1 1 1 1\n",
      " 1 1 1 1 1 1 1 1 1 1 0 0 0 0 0 0 0 0 0 0 0 1 1 1 1 1 1 1 1 1 1 1 1 1]\n",
      "Y_Test : [0 1 1 1 1 1 1 1 1 1 1 1 1 1 1 1 1 1 1 1 1 1 1 1 1 1 1 1 0 0 0 0 0 1 1 1]\n",
      "Akurasi :  1.0\n",
      "F1_Score :  1.0\n",
      "              precision    recall  f1-score   support\n",
      "\n",
      "           0       1.00      1.00      1.00         6\n",
      "           1       1.00      1.00      1.00        30\n",
      "\n",
      "    accuracy                           1.00        36\n",
      "   macro avg       1.00      1.00      1.00        36\n",
      "weighted avg       1.00      1.00      1.00        36\n",
      "\n"
     ]
    },
    {
     "data": {
      "image/png": "[encoded data removed]",
      "text/plain": [
       "<Figure size 360x360 with 1 Axes>"
      ]
     },
     "metadata": {
      "needs_background": "light"
     },
     "output_type": "display_data"
    },
    {
     "name": "stdout",
     "output_type": "stream",
     "text": [
      "avg accuraccy Lung cancer =  0.9944444444444445\n",
      "avg F1_Score Lung cancer =  0.9892697466467958\n",
      "max accuraccy Lung cancer =  1.0\n",
      "max F1_Score Lung cancer =  1.0\n",
      "min accuraccy Lung cancer =  0.9722222222222222\n",
      "min F1_Score Lung cancer =  0.9463487332339791\n",
      "Running Time:  119.83169384100256\n"
     ]
    },
    {
     "data": {
      "text/plain": [
       "(0.9944444444444445, 0.9892697466467958)"
      ]
     },
     "execution_count": 11,
     "metadata": {},
     "output_type": "execute_result"
    }
   ],
   "source": [
    "FLNN_Classifier(Lung_IG,\"Lung cancer\",3)"
   ]
  },
  {
   "cell_type": "code",
   "execution_count": 12,
   "metadata": {
    "colab": {
     "base_uri": "https://localhost:8080/",
     "height": 1000
    },
    "collapsed": true,
    "id": "Ei0y5nwJAAlS",
    "jupyter": {
     "outputs_hidden": true
    },
    "outputId": "63c07331-3bbb-4ee1-ee7c-412c44c775d1"
   },
   "outputs": [
    {
     "name": "stdout",
     "output_type": "stream",
     "text": [
      "Train : [  0   1   5   6   7   8  10  11  12  14  15  16  18  19  20  21  22  23\n",
      "  26  27  28  29  30  31  32  33  34  36  37  38  39  40  41  42  43  44\n",
      "  45  46  47  49  51  52  54  55  57  58  59  60  61  62  63  64  65  66\n",
      "  67  68  69  70  72  73  74  75  76  78  79  80  81  82  83  84  85  86\n",
      "  87  88  90  91  92  93  99 101 102 103 104 105 106 107 108 109 110 111\n",
      " 113 115 117 118 119 120 121 122 123 124 125 126 127 128 131 132 133 134\n",
      " 135 137 139 142 143 144 145 147 148 149 150 151 152 153 154 155 156 157\n",
      " 158 159 161 163 164 165 166 169 170 171 172 173 174 175 176 177 178 179] Test : [  2   3   4   9  13  17  24  25  35  48  50  53  56  71  77  89  94  95\n",
      "  96  97  98 100 112 114 116 129 130 136 138 140 141 146 160 162 167 168\n",
      " 180]\n",
      "Y_Train : [0 0 0 0 0 0 0 0 0 0 1 1 1 1 1 1 1 1 1 1 1 1 1 1 1 1 1 1 1 1 1 1 1 1 1 1 1\n",
      " 1 1 1 1 1 1 1 1 1 1 1 1 1 1 1 1 1 1 1 1 1 1 1 1 1 1 1 1 1 1 1 1 1 1 1 1 1\n",
      " 1 1 1 1 1 1 1 1 1 1 1 1 1 1 1 1 1 1 1 1 1 1 1 1 1 1 1 1 1 1 1 1 1 1 1 1 1\n",
      " 1 1 1 1 1 1 0 0 0 0 0 0 0 0 0 0 0 0 0 0 1 1 1 1 1 1 1 1 1 1 1 1 1]\n",
      "Y_Test : [0 0 0 0 0 1 1 1 1 1 1 1 1 1 1 1 1 1 1 1 1 1 1 1 1 1 1 1 1 1 1 1 0 0 1 1 1]\n",
      "Akurasi :  1.0\n",
      "F1_Score :  1.0\n",
      "              precision    recall  f1-score   support\n",
      "\n",
      "           0       1.00      1.00      1.00         7\n",
      "           1       1.00      1.00      1.00        30\n",
      "\n",
      "    accuracy                           1.00        37\n",
      "   macro avg       1.00      1.00      1.00        37\n",
      "weighted avg       1.00      1.00      1.00        37\n",
      "\n"
     ]
    },
    {
     "data": {
      "image/png": "[encoded data removed]",
      "text/plain": [
       "<Figure size 360x360 with 1 Axes>"
      ]
     },
     "metadata": {
      "needs_background": "light"
     },
     "output_type": "display_data"
    },
    {
     "name": "stdout",
     "output_type": "stream",
     "text": [
      "Train : [  0   2   3   4   5   6   7   9  10  11  12  13  15  16  17  18  20  21\n",
      "  23  24  25  26  28  29  31  32  33  34  35  36  39  40  41  42  43  44\n",
      "  45  46  47  48  49  50  51  52  53  54  55  56  57  58  60  61  62  63\n",
      "  65  66  67  69  70  71  72  73  76  77  78  79  80  81  82  83  84  87\n",
      "  89  91  92  94  95  96  97  98  99 100 102 105 106 108 109 110 111 112\n",
      " 113 114 115 116 117 118 119 120 121 124 126 127 128 129 130 132 133 134\n",
      " 136 137 138 140 141 142 143 144 145 146 147 148 149 150 151 152 154 155\n",
      " 157 158 159 160 161 162 163 165 166 167 168 172 173 174 176 177 178 179\n",
      " 180] Test : [  1   8  14  19  22  27  30  37  38  59  64  68  74  75  85  86  88  90\n",
      "  93 101 103 104 107 122 123 125 131 135 139 153 156 164 169 170 171 175]\n",
      "Y_Train : [0 0 0 0 0 0 0 0 0 0 0 0 1 1 1 1 1 1 1 1 1 1 1 1 1 1 1 1 1 1 1 1 1 1 1 1 1\n",
      " 1 1 1 1 1 1 1 1 1 1 1 1 1 1 1 1 1 1 1 1 1 1 1 1 1 1 1 1 1 1 1 1 1 1 1 1 1\n",
      " 1 1 1 1 1 1 1 1 1 1 1 1 1 1 1 1 1 1 1 1 1 1 1 1 1 1 1 1 1 1 1 1 1 1 1 1 1\n",
      " 1 1 1 1 1 1 1 1 1 0 0 0 0 0 0 0 0 0 0 0 0 0 1 1 1 1 1 1 1 1 1 1 1 1]\n",
      "Y_Test : [0 0 0 1 1 1 1 1 1 1 1 1 1 1 1 1 1 1 1 1 1 1 1 1 1 1 1 1 1 0 0 0 1 1 1 1]\n",
      "Akurasi :  1.0\n",
      "F1_Score :  1.0\n",
      "              precision    recall  f1-score   support\n",
      "\n",
      "           0       1.00      1.00      1.00         6\n",
      "           1       1.00      1.00      1.00        30\n",
      "\n",
      "    accuracy                           1.00        36\n",
      "   macro avg       1.00      1.00      1.00        36\n",
      "weighted avg       1.00      1.00      1.00        36\n",
      "\n"
     ]
    },
    {
     "data": {
      "image/png": "[encoded data removed]",
      "text/plain": [
       "<Figure size 360x360 with 1 Axes>"
      ]
     },
     "metadata": {
      "needs_background": "light"
     },
     "output_type": "display_data"
    },
    {
     "name": "stdout",
     "output_type": "stream",
     "text": [
      "Train : [  0   1   2   3   4   5   7   8   9  10  13  14  16  17  18  19  20  21\n",
      "  22  23  24  25  27  29  30  33  34  35  36  37  38  40  42  45  46  48\n",
      "  49  50  51  52  53  54  55  56  57  59  60  61  64  65  66  67  68  71\n",
      "  72  73  74  75  76  77  78  79  80  83  84  85  86  87  88  89  90  91\n",
      "  92  93  94  95  96  97  98  99 100 101 103 104 105 106 107 109 111 112\n",
      " 113 114 116 117 118 119 120 121 122 123 124 125 126 127 128 129 130 131\n",
      " 132 133 135 136 138 139 140 141 144 145 146 148 149 150 151 152 153 154\n",
      " 155 156 157 160 162 163 164 166 167 168 169 170 171 173 175 177 178 179\n",
      " 180] Test : [  6  11  12  15  26  28  31  32  39  41  43  44  47  58  62  63  69  70\n",
      "  81  82 102 108 110 115 134 137 142 143 147 158 159 161 165 172 174 176]\n",
      "Y_Train : [0 0 0 0 0 0 0 0 0 0 0 0 1 1 1 1 1 1 1 1 1 1 1 1 1 1 1 1 1 1 1 1 1 1 1 1 1\n",
      " 1 1 1 1 1 1 1 1 1 1 1 1 1 1 1 1 1 1 1 1 1 1 1 1 1 1 1 1 1 1 1 1 1 1 1 1 1\n",
      " 1 1 1 1 1 1 1 1 1 1 1 1 1 1 1 1 1 1 1 1 1 1 1 1 1 1 1 1 1 1 1 1 1 1 1 1 1\n",
      " 1 1 1 1 1 1 1 1 1 0 0 0 0 0 0 0 0 0 0 0 0 0 1 1 1 1 1 1 1 1 1 1 1 1]\n",
      "Y_Test : [0 0 0 1 1 1 1 1 1 1 1 1 1 1 1 1 1 1 1 1 1 1 1 1 1 1 1 1 1 0 0 0 1 1 1 1]\n",
      "Akurasi :  1.0\n",
      "F1_Score :  1.0\n",
      "              precision    recall  f1-score   support\n",
      "\n",
      "           0       1.00      1.00      1.00         6\n",
      "           1       1.00      1.00      1.00        30\n",
      "\n",
      "    accuracy                           1.00        36\n",
      "   macro avg       1.00      1.00      1.00        36\n",
      "weighted avg       1.00      1.00      1.00        36\n",
      "\n"
     ]
    },
    {
     "data": {
      "image/png": "[encoded data removed]",
      "text/plain": [
       "<Figure size 360x360 with 1 Axes>"
      ]
     },
     "metadata": {
      "needs_background": "light"
     },
     "output_type": "display_data"
    },
    {
     "name": "stdout",
     "output_type": "stream",
     "text": [
      "Train : [  1   2   3   4   6   7   8   9  11  12  13  14  15  17  19  20  22  23\n",
      "  24  25  26  27  28  30  31  32  35  36  37  38  39  40  41  42  43  44\n",
      "  45  47  48  49  50  53  55  56  57  58  59  61  62  63  64  65  67  68\n",
      "  69  70  71  74  75  76  77  78  79  81  82  83  85  86  88  89  90  92\n",
      "  93  94  95  96  97  98  99 100 101 102 103 104 106 107 108 109 110 111\n",
      " 112 113 114 115 116 119 120 122 123 125 128 129 130 131 132 134 135 136\n",
      " 137 138 139 140 141 142 143 145 146 147 151 153 154 155 156 157 158 159\n",
      " 160 161 162 163 164 165 167 168 169 170 171 172 173 174 175 176 178 179\n",
      " 180] Test : [  0   5  10  16  18  21  29  33  34  46  51  52  54  60  66  72  73  80\n",
      "  84  87  91 105 117 118 121 124 126 127 133 144 148 149 150 152 166 177]\n",
      "Y_Train : [0 0 0 0 0 0 0 0 0 0 0 0 1 1 1 1 1 1 1 1 1 1 1 1 1 1 1 1 1 1 1 1 1 1 1 1 1\n",
      " 1 1 1 1 1 1 1 1 1 1 1 1 1 1 1 1 1 1 1 1 1 1 1 1 1 1 1 1 1 1 1 1 1 1 1 1 1\n",
      " 1 1 1 1 1 1 1 1 1 1 1 1 1 1 1 1 1 1 1 1 1 1 1 1 1 1 1 1 1 1 1 1 1 1 1 1 1\n",
      " 1 1 1 1 1 1 1 0 0 0 0 0 0 0 0 0 0 0 0 0 1 1 1 1 1 1 1 1 1 1 1 1 1 1]\n",
      "Y_Test : [0 0 0 1 1 1 1 1 1 1 1 1 1 1 1 1 1 1 1 1 1 1 1 1 1 1 1 1 1 1 1 0 0 0 1 1]\n",
      "Akurasi :  0.9722222222222222\n",
      "F1_Score :  0.9463487332339791\n",
      "              precision    recall  f1-score   support\n",
      "\n",
      "           0       1.00      0.83      0.91         6\n",
      "           1       0.97      1.00      0.98        30\n",
      "\n",
      "    accuracy                           0.97        36\n",
      "   macro avg       0.98      0.92      0.95        36\n",
      "weighted avg       0.97      0.97      0.97        36\n",
      "\n"
     ]
    },
    {
     "data": {
      "image/png": "[encoded data removed]",
      "text/plain": [
       "<Figure size 360x360 with 1 Axes>"
      ]
     },
     "metadata": {
      "needs_background": "light"
     },
     "output_type": "display_data"
    },
    {
     "name": "stdout",
     "output_type": "stream",
     "text": [
      "Train : [  0   1   2   3   4   5   6   8   9  10  11  12  13  14  15  16  17  18\n",
      "  19  21  22  24  25  26  27  28  29  30  31  32  33  34  35  37  38  39\n",
      "  41  43  44  46  47  48  50  51  52  53  54  56  58  59  60  62  63  64\n",
      "  66  68  69  70  71  72  73  74  75  77  80  81  82  84  85  86  87  88\n",
      "  89  90  91  93  94  95  96  97  98 100 101 102 103 104 105 107 108 110\n",
      " 112 114 115 116 117 118 121 122 123 124 125 126 127 129 130 131 133 134\n",
      " 135 136 137 138 139 140 141 142 143 144 146 147 148 149 150 152 153 156\n",
      " 158 159 160 161 162 164 165 166 167 168 169 170 171 172 174 175 176 177\n",
      " 180] Test : [  7  20  23  36  40  42  45  49  55  57  61  65  67  76  78  79  83  92\n",
      "  99 106 109 111 113 119 120 128 132 145 151 154 155 157 163 173 178 179]\n",
      "Y_Train : [0 0 0 0 0 0 0 0 0 0 0 0 0 0 1 1 1 1 1 1 1 1 1 1 1 1 1 1 1 1 1 1 1 1 1 1 1\n",
      " 1 1 1 1 1 1 1 1 1 1 1 1 1 1 1 1 1 1 1 1 1 1 1 1 1 1 1 1 1 1 1 1 1 1 1 1 1\n",
      " 1 1 1 1 1 1 1 1 1 1 1 1 1 1 1 1 1 1 1 1 1 1 1 1 1 1 1 1 1 1 1 1 1 1 1 1 1\n",
      " 1 1 1 1 1 1 1 1 1 1 0 0 0 0 0 0 0 0 0 0 0 1 1 1 1 1 1 1 1 1 1 1 1 1]\n",
      "Y_Test : [0 1 1 1 1 1 1 1 1 1 1 1 1 1 1 1 1 1 1 1 1 1 1 1 1 1 1 1 0 0 0 0 0 1 1 1]\n",
      "Akurasi :  1.0\n",
      "F1_Score :  1.0\n",
      "              precision    recall  f1-score   support\n",
      "\n",
      "           0       1.00      1.00      1.00         6\n",
      "           1       1.00      1.00      1.00        30\n",
      "\n",
      "    accuracy                           1.00        36\n",
      "   macro avg       1.00      1.00      1.00        36\n",
      "weighted avg       1.00      1.00      1.00        36\n",
      "\n"
     ]
    },
    {
     "data": {
      "image/png": "[encoded data removed]",
      "text/plain": [
       "<Figure size 360x360 with 1 Axes>"
      ]
     },
     "metadata": {
      "needs_background": "light"
     },
     "output_type": "display_data"
    },
    {
     "name": "stdout",
     "output_type": "stream",
     "text": [
      "avg accuraccy Lung cancer =  0.9944444444444445\n",
      "avg F1_Score Lung cancer =  0.9892697466467958\n",
      "max accuraccy Lung cancer =  1.0\n",
      "max F1_Score Lung cancer =  1.0\n",
      "min accuraccy Lung cancer =  0.9722222222222222\n",
      "min F1_Score Lung cancer =  0.9463487332339791\n",
      "Running Time:  95.8462829759992\n"
     ]
    },
    {
     "data": {
      "text/plain": [
       "(0.9944444444444445, 0.9892697466467958)"
      ]
     },
     "execution_count": 12,
     "metadata": {},
     "output_type": "execute_result"
    }
   ],
   "source": [
    "FLNN_Classifier(Lung_IG,\"Lung cancer\",4)"
   ]
  },
  {
   "cell_type": "markdown",
   "metadata": {
    "id": "8i5P6okDEl92"
   },
   "source": [
    "## Lung + IG + GA"
   ]
  },
  {
   "cell_type": "code",
   "execution_count": 13,
   "metadata": {
    "colab": {
     "base_uri": "https://localhost:8080/",
     "height": 1000
    },
    "collapsed": true,
    "id": "KeI98A94El9_",
    "jupyter": {
     "outputs_hidden": true
    },
    "outputId": "b132291d-3c62-475d-c310-09b69a00e994"
   },
   "outputs": [
    {
     "name": "stdout",
     "output_type": "stream",
     "text": [
      "Generation : 0\n",
      "gene : [0, 0, 1, 1, 1, 1, 0, 1, 1, 1, 0, 0, 0, 1, 1, 1, 1, 1, 1, 1, 1, 0, 1, 1, 0, 1, 0, 1, 1, 0, 0, 0, 0, 1, 1, 0, 1, 0, 0, 1, 1, 1, 0, 0, 1, 1, 0, 0, 1, 0, 0, 0, 1, 0, 1, 1, 0, 1, 1, 0, 0, 1, 0, 1, 0, 0, 1, 1, 0, 0, 0, 0, 0, 0, 0, 0, 0, 0, 1, 1, 0, 0, 0, 1, 0, 1, 1, 1, 0, 1, 1, 1, 1, 0, 1, 0, 1, 1, 0, 0]\n",
      "Train : [  0   1   5   6   7   8  10  11  12  14  15  16  18  19  20  21  22  23\n",
      "  26  27  28  29  30  31  32  33  34  36  37  38  39  40  41  42  43  44\n",
      "  45  46  47  49  51  52  54  55  57  58  59  60  61  62  63  64  65  66\n",
      "  67  68  69  70  72  73  74  75  76  78  79  80  81  82  83  84  85  86\n",
      "  87  88  90  91  92  93  99 101 102 103 104 105 106 107 108 109 110 111\n",
      " 113 115 117 118 119 120 121 122 123 124 125 126 127 128 131 132 133 134\n",
      " 135 137 139 142 143 144 145 147 148 149 150 151 152 153 154 155 156 157\n",
      " 158 159 161 163 164 165 166 169 170 171 172 173 174 175 176 177 178 179] Test : [  2   3   4   9  13  17  24  25  35  48  50  53  56  71  77  89  94  95\n",
      "  96  97  98 100 112 114 116 129 130 136 138 140 141 146 160 162 167 168\n",
      " 180]\n",
      "Y_Train : [0 0 0 0 0 0 0 0 0 0 1 1 1 1 1 1 1 1 1 1 1 1 1 1 1 1 1 1 1 1 1 1 1 1 1 1 1\n",
      " 1 1 1 1 1 1 1 1 1 1 1 1 1 1 1 1 1 1 1 1 1 1 1 1 1 1 1 1 1 1 1 1 1 1 1 1 1\n",
      " 1 1 1 1 1 1 1 1 1 1 1 1 1 1 1 1 1 1 1 1 1 1 1 1 1 1 1 1 1 1 1 1 1 1 1 1 1\n",
      " 1 1 1 1 1 1 0 0 0 0 0 0 0 0 0 0 0 0 0 0 1 1 1 1 1 1 1 1 1 1 1 1 1]\n",
      "Y_Test : [0 0 0 0 0 1 1 1 1 1 1 1 1 1 1 1 1 1 1 1 1 1 1 1 1 1 1 1 1 1 1 1 0 0 1 1 1]\n",
      "Akurasi :  1.0\n",
      "F1_Score :  1.0\n",
      "              precision    recall  f1-score   support\n",
      "\n",
      "           0       1.00      1.00      1.00         7\n",
      "           1       1.00      1.00      1.00        30\n",
      "\n",
      "    accuracy                           1.00        37\n",
      "   macro avg       1.00      1.00      1.00        37\n",
      "weighted avg       1.00      1.00      1.00        37\n",
      "\n"
     ]
    },
    {
     "data": {
      "image/png": "[encoded data removed]",
      "text/plain": [
       "<Figure size 360x360 with 1 Axes>"
      ]
     },
     "metadata": {
      "needs_background": "light"
     },
     "output_type": "display_data"
    },
    {
     "name": "stdout",
     "output_type": "stream",
     "text": [
      "Train : [  0   2   3   4   5   6   7   9  10  11  12  13  15  16  17  18  20  21\n",
      "  23  24  25  26  28  29  31  32  33  34  35  36  39  40  41  42  43  44\n",
      "  45  46  47  48  49  50  51  52  53  54  55  56  57  58  60  61  62  63\n",
      "  65  66  67  69  70  71  72  73  76  77  78  79  80  81  82  83  84  87\n",
      "  89  91  92  94  95  96  97  98  99 100 102 105 106 108 109 110 111 112\n",
      " 113 114 115 116 117 118 119 120 121 124 126 127 128 129 130 132 133 134\n",
      " 136 137 138 140 141 142 143 144 145 146 147 148 149 150 151 152 154 155\n",
      " 157 158 159 160 161 162 163 165 166 167 168 172 173 174 176 177 178 179\n",
      " 180] Test : [  1   8  14  19  22  27  30  37  38  59  64  68  74  75  85  86  88  90\n",
      "  93 101 103 104 107 122 123 125 131 135 139 153 156 164 169 170 171 175]\n",
      "Y_Train : [0 0 0 0 0 0 0 0 0 0 0 0 1 1 1 1 1 1 1 1 1 1 1 1 1 1 1 1 1 1 1 1 1 1 1 1 1\n",
      " 1 1 1 1 1 1 1 1 1 1 1 1 1 1 1 1 1 1 1 1 1 1 1 1 1 1 1 1 1 1 1 1 1 1 1 1 1\n",
      " 1 1 1 1 1 1 1 1 1 1 1 1 1 1 1 1 1 1 1 1 1 1 1 1 1 1 1 1 1 1 1 1 1 1 1 1 1\n",
      " 1 1 1 1 1 1 1 1 1 0 0 0 0 0 0 0 0 0 0 0 0 0 1 1 1 1 1 1 1 1 1 1 1 1]\n",
      "Y_Test : [0 0 0 1 1 1 1 1 1 1 1 1 1 1 1 1 1 1 1 1 1 1 1 1 1 1 1 1 1 0 0 0 1 1 1 1]\n",
      "Akurasi :  1.0\n",
      "F1_Score :  1.0\n",
      "              precision    recall  f1-score   support\n",
      "\n",
      "           0       1.00      1.00      1.00         6\n",
      "           1       1.00      1.00      1.00        30\n",
      "\n",
      "    accuracy                           1.00        36\n",
      "   macro avg       1.00      1.00      1.00        36\n",
      "weighted avg       1.00      1.00      1.00        36\n",
      "\n"
     ]
    },
    {
     "data": {
      "image/png": "[encoded data removed]",
      "text/plain": [
       "<Figure size 360x360 with 1 Axes>"
      ]
     },
     "metadata": {
      "needs_background": "light"
     },
     "output_type": "display_data"
    },
    {
     "name": "stdout",
     "output_type": "stream",
     "text": [
      "Train : [  0   1   2   3   4   5   7   8   9  10  13  14  16  17  18  19  20  21\n",
      "  22  23  24  25  27  29  30  33  34  35  36  37  38  40  42  45  46  48\n",
      "  49  50  51  52  53  54  55  56  57  59  60  61  64  65  66  67  68  71\n",
      "  72  73  74  75  76  77  78  79  80  83  84  85  86  87  88  89  90  91\n",
      "  92  93  94  95  96  97  98  99 100 101 103 104 105 106 107 109 111 112\n",
      " 113 114 116 117 118 119 120 121 122 123 124 125 126 127 128 129 130 131\n",
      " 132 133 135 136 138 139 140 141 144 145 146 148 149 150 151 152 153 154\n",
      " 155 156 157 160 162 163 164 166 167 168 169 170 171 173 175 177 178 179\n",
      " 180] Test : [  6  11  12  15  26  28  31  32  39  41  43  44  47  58  62  63  69  70\n",
      "  81  82 102 108 110 115 134 137 142 143 147 158 159 161 165 172 174 176]\n",
      "Y_Train : [0 0 0 0 0 0 0 0 0 0 0 0 1 1 1 1 1 1 1 1 1 1 1 1 1 1 1 1 1 1 1 1 1 1 1 1 1\n",
      " 1 1 1 1 1 1 1 1 1 1 1 1 1 1 1 1 1 1 1 1 1 1 1 1 1 1 1 1 1 1 1 1 1 1 1 1 1\n",
      " 1 1 1 1 1 1 1 1 1 1 1 1 1 1 1 1 1 1 1 1 1 1 1 1 1 1 1 1 1 1 1 1 1 1 1 1 1\n",
      " 1 1 1 1 1 1 1 1 1 0 0 0 0 0 0 0 0 0 0 0 0 0 1 1 1 1 1 1 1 1 1 1 1 1]\n",
      "Y_Test : [0 0 0 1 1 1 1 1 1 1 1 1 1 1 1 1 1 1 1 1 1 1 1 1 1 1 1 1 1 0 0 0 1 1 1 1]\n",
      "Akurasi :  1.0\n",
      "F1_Score :  1.0\n",
      "              precision    recall  f1-score   support\n",
      "\n",
      "           0       1.00      1.00      1.00         6\n",
      "           1       1.00      1.00      1.00        30\n",
      "\n",
      "    accuracy                           1.00        36\n",
      "   macro avg       1.00      1.00      1.00        36\n",
      "weighted avg       1.00      1.00      1.00        36\n",
      "\n"
     ]
    },
    {
     "data": {
      "image/png": "[encoded data removed]",
      "text/plain": [
       "<Figure size 360x360 with 1 Axes>"
      ]
     },
     "metadata": {
      "needs_background": "light"
     },
     "output_type": "display_data"
    },
    {
     "name": "stdout",
     "output_type": "stream",
     "text": [
      "Train : [  1   2   3   4   6   7   8   9  11  12  13  14  15  17  19  20  22  23\n",
      "  24  25  26  27  28  30  31  32  35  36  37  38  39  40  41  42  43  44\n",
      "  45  47  48  49  50  53  55  56  57  58  59  61  62  63  64  65  67  68\n",
      "  69  70  71  74  75  76  77  78  79  81  82  83  85  86  88  89  90  92\n",
      "  93  94  95  96  97  98  99 100 101 102 103 104 106 107 108 109 110 111\n",
      " 112 113 114 115 116 119 120 122 123 125 128 129 130 131 132 134 135 136\n",
      " 137 138 139 140 141 142 143 145 146 147 151 153 154 155 156 157 158 159\n",
      " 160 161 162 163 164 165 167 168 169 170 171 172 173 174 175 176 178 179\n",
      " 180] Test : [  0   5  10  16  18  21  29  33  34  46  51  52  54  60  66  72  73  80\n",
      "  84  87  91 105 117 118 121 124 126 127 133 144 148 149 150 152 166 177]\n",
      "Y_Train : [0 0 0 0 0 0 0 0 0 0 0 0 1 1 1 1 1 1 1 1 1 1 1 1 1 1 1 1 1 1 1 1 1 1 1 1 1\n",
      " 1 1 1 1 1 1 1 1 1 1 1 1 1 1 1 1 1 1 1 1 1 1 1 1 1 1 1 1 1 1 1 1 1 1 1 1 1\n",
      " 1 1 1 1 1 1 1 1 1 1 1 1 1 1 1 1 1 1 1 1 1 1 1 1 1 1 1 1 1 1 1 1 1 1 1 1 1\n",
      " 1 1 1 1 1 1 1 0 0 0 0 0 0 0 0 0 0 0 0 0 1 1 1 1 1 1 1 1 1 1 1 1 1 1]\n",
      "Y_Test : [0 0 0 1 1 1 1 1 1 1 1 1 1 1 1 1 1 1 1 1 1 1 1 1 1 1 1 1 1 1 1 0 0 0 1 1]\n",
      "Akurasi :  0.9444444444444444\n",
      "F1_Score :  0.8838709677419355\n",
      "              precision    recall  f1-score   support\n",
      "\n",
      "           0       1.00      0.67      0.80         6\n",
      "           1       0.94      1.00      0.97        30\n",
      "\n",
      "    accuracy                           0.94        36\n",
      "   macro avg       0.97      0.83      0.88        36\n",
      "weighted avg       0.95      0.94      0.94        36\n",
      "\n"
     ]
    },
    {
     "data": {
      "image/png": "[encoded data removed]",
      "text/plain": [
       "<Figure size 360x360 with 1 Axes>"
      ]
     },
     "metadata": {
      "needs_background": "light"
     },
     "output_type": "display_data"
    },
    {
     "name": "stdout",
     "output_type": "stream",
     "text": [
      "Train : [  0   1   2   3   4   5   6   8   9  10  11  12  13  14  15  16  17  18\n",
      "  19  21  22  24  25  26  27  28  29  30  31  32  33  34  35  37  38  39\n",
      "  41  43  44  46  47  48  50  51  52  53  54  56  58  59  60  62  63  64\n",
      "  66  68  69  70  71  72  73  74  75  77  80  81  82  84  85  86  87  88\n",
      "  89  90  91  93  94  95  96  97  98 100 101 102 103 104 105 107 108 110\n",
      " 112 114 115 116 117 118 121 122 123 124 125 126 127 129 130 131 133 134\n",
      " 135 136 137 138 139 140 141 142 143 144 146 147 148 149 150 152 153 156\n",
      " 158 159 160 161 162 164 165 166 167 168 169 170 171 172 174 175 176 177\n",
      " 180] Test : [  7  20  23  36  40  42  45  49  55  57  61  65  67  76  78  79  83  92\n",
      "  99 106 109 111 113 119 120 128 132 145 151 154 155 157 163 173 178 179]\n",
      "Y_Train : [0 0 0 0 0 0 0 0 0 0 0 0 0 0 1 1 1 1 1 1 1 1 1 1 1 1 1 1 1 1 1 1 1 1 1 1 1\n",
      " 1 1 1 1 1 1 1 1 1 1 1 1 1 1 1 1 1 1 1 1 1 1 1 1 1 1 1 1 1 1 1 1 1 1 1 1 1\n",
      " 1 1 1 1 1 1 1 1 1 1 1 1 1 1 1 1 1 1 1 1 1 1 1 1 1 1 1 1 1 1 1 1 1 1 1 1 1\n",
      " 1 1 1 1 1 1 1 1 1 1 0 0 0 0 0 0 0 0 0 0 0 1 1 1 1 1 1 1 1 1 1 1 1 1]\n",
      "Y_Test : [0 1 1 1 1 1 1 1 1 1 1 1 1 1 1 1 1 1 1 1 1 1 1 1 1 1 1 1 0 0 0 0 0 1 1 1]\n",
      "Akurasi :  1.0\n",
      "F1_Score :  1.0\n",
      "              precision    recall  f1-score   support\n",
      "\n",
      "           0       1.00      1.00      1.00         6\n",
      "           1       1.00      1.00      1.00        30\n",
      "\n",
      "    accuracy                           1.00        36\n",
      "   macro avg       1.00      1.00      1.00        36\n",
      "weighted avg       1.00      1.00      1.00        36\n",
      "\n"
     ]
    },
    {
     "data": {
      "image/png": "[encoded data removed]",
      "text/plain": [
       "<Figure size 360x360 with 1 Axes>"
      ]
     },
     "metadata": {
      "needs_background": "light"
     },
     "output_type": "display_data"
    },
    {
     "name": "stdout",
     "output_type": "stream",
     "text": [
      "avg accuraccy Lung Cancer =  0.9888888888888889\n",
      "avg F1_Score Lung Cancer =  0.9767741935483871\n",
      "max accuraccy Lung Cancer =  1.0\n",
      "max F1_Score Lung Cancer =  1.0\n",
      "min accuraccy Lung Cancer =  0.9444444444444444\n",
      "min F1_Score Lung Cancer =  0.8838709677419355\n",
      "Running Time:  57.73699718499847\n",
      "gene : [0, 0, 1, 0, 0, 1, 1, 1, 1, 1, 0, 0, 0, 0, 1, 0, 0, 1, 1, 0, 1, 0, 1, 0, 1, 1, 1, 1, 0, 1, 1, 1, 1, 0, 1, 0, 1, 1, 0, 0, 0, 1, 1, 1, 1, 1, 0, 1, 1, 0, 1, 0, 0, 0, 1, 1, 0, 0, 0, 0, 1, 0, 0, 1, 0, 1, 1, 1, 0, 0, 0, 0, 1, 1, 0, 0, 1, 1, 0, 1, 1, 0, 1, 1, 0, 1, 1, 1, 0, 0, 0, 0, 0, 0, 0, 1, 0, 1, 1, 0]\n",
      "Train : [  0   1   5   6   7   8  10  11  12  14  15  16  18  19  20  21  22  23\n",
      "  26  27  28  29  30  31  32  33  34  36  37  38  39  40  41  42  43  44\n",
      "  45  46  47  49  51  52  54  55  57  58  59  60  61  62  63  64  65  66\n",
      "  67  68  69  70  72  73  74  75  76  78  79  80  81  82  83  84  85  86\n",
      "  87  88  90  91  92  93  99 101 102 103 104 105 106 107 108 109 110 111\n",
      " 113 115 117 118 119 120 121 122 123 124 125 126 127 128 131 132 133 134\n",
      " 135 137 139 142 143 144 145 147 148 149 150 151 152 153 154 155 156 157\n",
      " 158 159 161 163 164 165 166 169 170 171 172 173 174 175 176 177 178 179] Test : [  2   3   4   9  13  17  24  25  35  48  50  53  56  71  77  89  94  95\n",
      "  96  97  98 100 112 114 116 129 130 136 138 140 141 146 160 162 167 168\n",
      " 180]\n"
     ]
    },
    {
     "ename": "KeyboardInterrupt",
     "evalue": "",
     "output_type": "error",
     "traceback": [
      "\u001b[0;31m---------------------------------------------------------------------------\u001b[0m",
      "\u001b[0;31mInvalidArgumentError\u001b[0m                      Traceback (most recent call last)",
      "\u001b[0;32m~/.local/lib/python3.8/site-packages/tensorflow/python/framework/ops.py\u001b[0m in \u001b[0;36mget_attr\u001b[0;34m(self, name)\u001b[0m\n\u001b[1;32m   2530\u001b[0m       \u001b[0;32mwith\u001b[0m \u001b[0mc_api_util\u001b[0m\u001b[0;34m.\u001b[0m\u001b[0mtf_buffer\u001b[0m\u001b[0;34m(\u001b[0m\u001b[0;34m)\u001b[0m \u001b[0;32mas\u001b[0m \u001b[0mbuf\u001b[0m\u001b[0;34m:\u001b[0m\u001b[0;34m\u001b[0m\u001b[0;34m\u001b[0m\u001b[0m\n\u001b[0;32m-> 2531\u001b[0;31m         \u001b[0mpywrap_tf_session\u001b[0m\u001b[0;34m.\u001b[0m\u001b[0mTF_OperationGetAttrValueProto\u001b[0m\u001b[0;34m(\u001b[0m\u001b[0mself\u001b[0m\u001b[0;34m.\u001b[0m\u001b[0m_c_op\u001b[0m\u001b[0;34m,\u001b[0m \u001b[0mname\u001b[0m\u001b[0;34m,\u001b[0m \u001b[0mbuf\u001b[0m\u001b[0;34m)\u001b[0m\u001b[0;34m\u001b[0m\u001b[0;34m\u001b[0m\u001b[0m\n\u001b[0m\u001b[1;32m   2532\u001b[0m         \u001b[0mdata\u001b[0m \u001b[0;34m=\u001b[0m \u001b[0mpywrap_tf_session\u001b[0m\u001b[0;34m.\u001b[0m\u001b[0mTF_GetBuffer\u001b[0m\u001b[0;34m(\u001b[0m\u001b[0mbuf\u001b[0m\u001b[0;34m)\u001b[0m\u001b[0;34m\u001b[0m\u001b[0;34m\u001b[0m\u001b[0m\n",
      "\u001b[0;31mInvalidArgumentError\u001b[0m: Operation 'GatherV2' has no attr named '_read_only_resource_inputs'.",
      "\nDuring handling of the above exception, another exception occurred:\n",
      "\u001b[0;31mValueError\u001b[0m                                Traceback (most recent call last)",
      "\u001b[0;32m~/.local/lib/python3.8/site-packages/tensorflow/python/framework/auto_control_deps_utils.py\u001b[0m in \u001b[0;36mget_read_write_resource_inputs\u001b[0;34m(op)\u001b[0m\n\u001b[1;32m    108\u001b[0m   \u001b[0;32mtry\u001b[0m\u001b[0;34m:\u001b[0m\u001b[0;34m\u001b[0m\u001b[0;34m\u001b[0m\u001b[0m\n\u001b[0;32m--> 109\u001b[0;31m     \u001b[0mread_only_input_indices\u001b[0m \u001b[0;34m=\u001b[0m \u001b[0mop\u001b[0m\u001b[0;34m.\u001b[0m\u001b[0mget_attr\u001b[0m\u001b[0;34m(\u001b[0m\u001b[0mREAD_ONLY_RESOURCE_INPUTS_ATTR\u001b[0m\u001b[0;34m)\u001b[0m\u001b[0;34m\u001b[0m\u001b[0;34m\u001b[0m\u001b[0m\n\u001b[0m\u001b[1;32m    110\u001b[0m   \u001b[0;32mexcept\u001b[0m \u001b[0mValueError\u001b[0m\u001b[0;34m:\u001b[0m\u001b[0;34m\u001b[0m\u001b[0;34m\u001b[0m\u001b[0m\n",
      "\u001b[0;32m~/.local/lib/python3.8/site-packages/tensorflow/python/framework/ops.py\u001b[0m in \u001b[0;36mget_attr\u001b[0;34m(self, name)\u001b[0m\n\u001b[1;32m   2534\u001b[0m       \u001b[0;31m# Convert to ValueError for backwards compatibility.\u001b[0m\u001b[0;34m\u001b[0m\u001b[0;34m\u001b[0m\u001b[0;34m\u001b[0m\u001b[0m\n\u001b[0;32m-> 2535\u001b[0;31m       \u001b[0;32mraise\u001b[0m \u001b[0mValueError\u001b[0m\u001b[0;34m(\u001b[0m\u001b[0mstr\u001b[0m\u001b[0;34m(\u001b[0m\u001b[0me\u001b[0m\u001b[0;34m)\u001b[0m\u001b[0;34m)\u001b[0m\u001b[0;34m\u001b[0m\u001b[0;34m\u001b[0m\u001b[0m\n\u001b[0m\u001b[1;32m   2536\u001b[0m     \u001b[0mx\u001b[0m \u001b[0;34m=\u001b[0m \u001b[0mattr_value_pb2\u001b[0m\u001b[0;34m.\u001b[0m\u001b[0mAttrValue\u001b[0m\u001b[0;34m(\u001b[0m\u001b[0;34m)\u001b[0m\u001b[0;34m\u001b[0m\u001b[0;34m\u001b[0m\u001b[0m\n",
      "\u001b[0;31mValueError\u001b[0m: Operation 'GatherV2' has no attr named '_read_only_resource_inputs'.",
      "\nDuring handling of the above exception, another exception occurred:\n",
      "\u001b[0;31mKeyboardInterrupt\u001b[0m                         Traceback (most recent call last)",
      "\u001b[0;32m<ipython-input-13-d30bb1976834>\u001b[0m in \u001b[0;36m<module>\u001b[0;34m\u001b[0m\n\u001b[0;32m----> 1\u001b[0;31m \u001b[0mLung_IG_GA\u001b[0m \u001b[0;34m=\u001b[0m \u001b[0mGeneticAlgorithm\u001b[0m\u001b[0;34m(\u001b[0m\u001b[0mLung_IG\u001b[0m\u001b[0;34m,\u001b[0m \u001b[0;36m2\u001b[0m\u001b[0;34m)\u001b[0m\u001b[0;34m\u001b[0m\u001b[0;34m\u001b[0m\u001b[0m\n\u001b[0m",
      "\u001b[0;32m<ipython-input-8-70126e5d6058>\u001b[0m in \u001b[0;36mGeneticAlgorithm\u001b[0;34m(dataset, orde)\u001b[0m\n\u001b[1;32m     25\u001b[0m       \u001b[0;32mif\u001b[0m \u001b[0mZeroGene\u001b[0m\u001b[0;34m(\u001b[0m\u001b[0mpopulation\u001b[0m\u001b[0;34m[\u001b[0m\u001b[0mi\u001b[0m\u001b[0;34m]\u001b[0m\u001b[0;34m)\u001b[0m \u001b[0;34m==\u001b[0m \u001b[0;32mFalse\u001b[0m\u001b[0;34m:\u001b[0m\u001b[0;34m\u001b[0m\u001b[0;34m\u001b[0m\u001b[0m\n\u001b[1;32m     26\u001b[0m         \u001b[0mprint\u001b[0m\u001b[0;34m(\u001b[0m\u001b[0;34m'gene :'\u001b[0m\u001b[0;34m,\u001b[0m \u001b[0mpopulation\u001b[0m\u001b[0;34m[\u001b[0m\u001b[0mi\u001b[0m\u001b[0;34m]\u001b[0m\u001b[0;34m)\u001b[0m\u001b[0;34m\u001b[0m\u001b[0;34m\u001b[0m\u001b[0m\n\u001b[0;32m---> 27\u001b[0;31m         \u001b[0maccuracy\u001b[0m\u001b[0;34m,\u001b[0m \u001b[0mf1\u001b[0m\u001b[0;34m,\u001b[0m \u001b[0mtotalFeatures\u001b[0m \u001b[0;34m=\u001b[0m \u001b[0mClassification\u001b[0m\u001b[0;34m(\u001b[0m\u001b[0mpopulation\u001b[0m\u001b[0;34m[\u001b[0m\u001b[0mi\u001b[0m\u001b[0;34m]\u001b[0m\u001b[0;34m,\u001b[0m \u001b[0mdataset\u001b[0m\u001b[0;34m,\u001b[0m \u001b[0morde\u001b[0m\u001b[0;34m)\u001b[0m \u001b[0;31m# Count Fitness Value\u001b[0m\u001b[0;34m\u001b[0m\u001b[0;34m\u001b[0m\u001b[0m\n\u001b[0m\u001b[1;32m     28\u001b[0m         \u001b[0macc\u001b[0m\u001b[0;34m.\u001b[0m\u001b[0mappend\u001b[0m\u001b[0;34m(\u001b[0m\u001b[0maccuracy\u001b[0m\u001b[0;34m)\u001b[0m\u001b[0;34m\u001b[0m\u001b[0;34m\u001b[0m\u001b[0m\n\u001b[1;32m     29\u001b[0m         \u001b[0mf1score\u001b[0m\u001b[0;34m.\u001b[0m\u001b[0mappend\u001b[0m\u001b[0;34m(\u001b[0m\u001b[0mf1\u001b[0m\u001b[0;34m)\u001b[0m\u001b[0;34m\u001b[0m\u001b[0;34m\u001b[0m\u001b[0m\n",
      "\u001b[0;32m<ipython-input-7-5243ee7cf49f>\u001b[0m in \u001b[0;36mClassification\u001b[0;34m(indv, dataset, orde)\u001b[0m\n\u001b[1;32m     58\u001b[0m       \u001b[0midxDatasetGA\u001b[0m \u001b[0;34m+=\u001b[0m \u001b[0;36m1\u001b[0m\u001b[0;34m\u001b[0m\u001b[0;34m\u001b[0m\u001b[0m\n\u001b[1;32m     59\u001b[0m   \u001b[0mdatasetGA\u001b[0m\u001b[0;34m[\u001b[0m\u001b[0;34m'label'\u001b[0m\u001b[0;34m]\u001b[0m \u001b[0;34m=\u001b[0m \u001b[0mdataset\u001b[0m\u001b[0;34m[\u001b[0m\u001b[0;34m'label'\u001b[0m\u001b[0;34m]\u001b[0m\u001b[0;34m\u001b[0m\u001b[0;34m\u001b[0m\u001b[0m\n\u001b[0;32m---> 60\u001b[0;31m   \u001b[0mAcc_score\u001b[0m\u001b[0;34m,\u001b[0m \u001b[0mF1_score\u001b[0m \u001b[0;34m=\u001b[0m \u001b[0mFLNN_Classifier\u001b[0m\u001b[0;34m(\u001b[0m\u001b[0mdatasetGA\u001b[0m\u001b[0;34m,\u001b[0m \u001b[0;34m\"Lung Cancer\"\u001b[0m\u001b[0;34m,\u001b[0m \u001b[0morde\u001b[0m\u001b[0;34m)\u001b[0m\u001b[0;34m\u001b[0m\u001b[0;34m\u001b[0m\u001b[0m\n\u001b[0m\u001b[1;32m     61\u001b[0m   \u001b[0mtotalFeatures\u001b[0m \u001b[0;34m=\u001b[0m \u001b[0midxDatasetGA\u001b[0m\u001b[0;34m+\u001b[0m\u001b[0;36m1\u001b[0m\u001b[0;34m\u001b[0m\u001b[0;34m\u001b[0m\u001b[0m\n\u001b[1;32m     62\u001b[0m   \u001b[0;32mreturn\u001b[0m \u001b[0mAcc_score\u001b[0m\u001b[0;34m,\u001b[0m \u001b[0mF1_score\u001b[0m\u001b[0;34m,\u001b[0m \u001b[0mtotalFeatures\u001b[0m\u001b[0;34m\u001b[0m\u001b[0;34m\u001b[0m\u001b[0m\n",
      "\u001b[0;32m<ipython-input-6-e872e11f43a9>\u001b[0m in \u001b[0;36mFLNN_Classifier\u001b[0;34m(dataset, cancer_name, orde)\u001b[0m\n\u001b[1;32m     34\u001b[0m     \u001b[0mModel\u001b[0m\u001b[0;34m.\u001b[0m\u001b[0mcompile\u001b[0m\u001b[0;34m(\u001b[0m\u001b[0moptimizer\u001b[0m \u001b[0;34m=\u001b[0m \u001b[0mAdam\u001b[0m\u001b[0;34m(\u001b[0m\u001b[0mlearning_rate\u001b[0m\u001b[0;34m=\u001b[0m\u001b[0;36m0.001\u001b[0m\u001b[0;34m)\u001b[0m\u001b[0;34m,\u001b[0m \u001b[0mloss\u001b[0m \u001b[0;34m=\u001b[0m \u001b[0;34m'binary_crossentropy'\u001b[0m\u001b[0;34m,\u001b[0m \u001b[0mmetrics\u001b[0m \u001b[0;34m=\u001b[0m \u001b[0;34m[\u001b[0m\u001b[0;34m'accuracy'\u001b[0m\u001b[0;34m]\u001b[0m\u001b[0;34m)\u001b[0m\u001b[0;34m\u001b[0m\u001b[0;34m\u001b[0m\u001b[0m\n\u001b[1;32m     35\u001b[0m     \u001b[0;31m# Fitting ANN ke training set\u001b[0m\u001b[0;34m\u001b[0m\u001b[0;34m\u001b[0m\u001b[0;34m\u001b[0m\u001b[0m\n\u001b[0;32m---> 36\u001b[0;31m     \u001b[0mhistory\u001b[0m \u001b[0;34m=\u001b[0m \u001b[0mModel\u001b[0m\u001b[0;34m.\u001b[0m\u001b[0mfit\u001b[0m\u001b[0;34m(\u001b[0m\u001b[0mX_train\u001b[0m\u001b[0;34m,\u001b[0m \u001b[0my_train\u001b[0m\u001b[0;34m,\u001b[0m \u001b[0mbatch_size\u001b[0m \u001b[0;34m=\u001b[0m \u001b[0;36m35\u001b[0m\u001b[0;34m,\u001b[0m \u001b[0mepochs\u001b[0m \u001b[0;34m=\u001b[0m \u001b[0;36m100\u001b[0m\u001b[0;34m,\u001b[0m \u001b[0mvalidation_split\u001b[0m \u001b[0;34m=\u001b[0m \u001b[0;36m0.2\u001b[0m\u001b[0;34m,\u001b[0m \u001b[0mverbose\u001b[0m\u001b[0;34m=\u001b[0m\u001b[0;32mFalse\u001b[0m\u001b[0;34m)\u001b[0m\u001b[0;34m\u001b[0m\u001b[0;34m\u001b[0m\u001b[0m\n\u001b[0m\u001b[1;32m     37\u001b[0m \u001b[0;34m\u001b[0m\u001b[0m\n\u001b[1;32m     38\u001b[0m     \u001b[0;31m#Memprediksi hasil test set\u001b[0m\u001b[0;34m\u001b[0m\u001b[0;34m\u001b[0m\u001b[0;34m\u001b[0m\u001b[0m\n",
      "\u001b[0;32m~/.local/lib/python3.8/site-packages/tensorflow/python/keras/engine/training.py\u001b[0m in \u001b[0;36mfit\u001b[0;34m(self, x, y, batch_size, epochs, verbose, callbacks, validation_split, validation_data, shuffle, class_weight, sample_weight, initial_epoch, steps_per_epoch, validation_steps, validation_batch_size, validation_freq, max_queue_size, workers, use_multiprocessing)\u001b[0m\n\u001b[1;32m   1116\u001b[0m           \u001b[0;32mif\u001b[0m \u001b[0mgetattr\u001b[0m\u001b[0;34m(\u001b[0m\u001b[0mself\u001b[0m\u001b[0;34m,\u001b[0m \u001b[0;34m'_eval_data_handler'\u001b[0m\u001b[0;34m,\u001b[0m \u001b[0;32mNone\u001b[0m\u001b[0;34m)\u001b[0m \u001b[0;32mis\u001b[0m \u001b[0;32mNone\u001b[0m\u001b[0;34m:\u001b[0m\u001b[0;34m\u001b[0m\u001b[0;34m\u001b[0m\u001b[0m\n\u001b[1;32m   1117\u001b[0m             \u001b[0mself\u001b[0m\u001b[0;34m.\u001b[0m\u001b[0m_fit_frame\u001b[0m \u001b[0;34m=\u001b[0m \u001b[0mtf_inspect\u001b[0m\u001b[0;34m.\u001b[0m\u001b[0mcurrentframe\u001b[0m\u001b[0;34m(\u001b[0m\u001b[0;34m)\u001b[0m\u001b[0;34m\u001b[0m\u001b[0;34m\u001b[0m\u001b[0m\n\u001b[0;32m-> 1118\u001b[0;31m             self._eval_data_handler = data_adapter.DataHandler(\n\u001b[0m\u001b[1;32m   1119\u001b[0m                 \u001b[0mx\u001b[0m\u001b[0;34m=\u001b[0m\u001b[0mval_x\u001b[0m\u001b[0;34m,\u001b[0m\u001b[0;34m\u001b[0m\u001b[0;34m\u001b[0m\u001b[0m\n\u001b[1;32m   1120\u001b[0m                 \u001b[0my\u001b[0m\u001b[0;34m=\u001b[0m\u001b[0mval_y\u001b[0m\u001b[0;34m,\u001b[0m\u001b[0;34m\u001b[0m\u001b[0;34m\u001b[0m\u001b[0m\n",
      "\u001b[0;32m~/.local/lib/python3.8/site-packages/tensorflow/python/keras/engine/data_adapter.py\u001b[0m in \u001b[0;36m__init__\u001b[0;34m(self, x, y, sample_weight, batch_size, steps_per_epoch, initial_epoch, epochs, shuffle, class_weight, max_queue_size, workers, use_multiprocessing, model, steps_per_execution)\u001b[0m\n\u001b[1;32m   1098\u001b[0m \u001b[0;34m\u001b[0m\u001b[0m\n\u001b[1;32m   1099\u001b[0m     \u001b[0madapter_cls\u001b[0m \u001b[0;34m=\u001b[0m \u001b[0mselect_data_adapter\u001b[0m\u001b[0;34m(\u001b[0m\u001b[0mx\u001b[0m\u001b[0;34m,\u001b[0m \u001b[0my\u001b[0m\u001b[0;34m)\u001b[0m\u001b[0;34m\u001b[0m\u001b[0;34m\u001b[0m\u001b[0m\n\u001b[0;32m-> 1100\u001b[0;31m     self._adapter = adapter_cls(\n\u001b[0m\u001b[1;32m   1101\u001b[0m         \u001b[0mx\u001b[0m\u001b[0;34m,\u001b[0m\u001b[0;34m\u001b[0m\u001b[0;34m\u001b[0m\u001b[0m\n\u001b[1;32m   1102\u001b[0m         \u001b[0my\u001b[0m\u001b[0;34m,\u001b[0m\u001b[0;34m\u001b[0m\u001b[0;34m\u001b[0m\u001b[0m\n",
      "\u001b[0;32m~/.local/lib/python3.8/site-packages/tensorflow/python/keras/engine/data_adapter.py\u001b[0m in \u001b[0;36m__init__\u001b[0;34m(self, x, y, sample_weights, sample_weight_modes, batch_size, epochs, steps, shuffle, **kwargs)\u001b[0m\n\u001b[1;32m    353\u001b[0m     \u001b[0mindices_dataset\u001b[0m \u001b[0;34m=\u001b[0m \u001b[0mindices_dataset\u001b[0m\u001b[0;34m.\u001b[0m\u001b[0mflat_map\u001b[0m\u001b[0;34m(\u001b[0m\u001b[0mslice_batch_indices\u001b[0m\u001b[0;34m)\u001b[0m\u001b[0;34m\u001b[0m\u001b[0;34m\u001b[0m\u001b[0m\n\u001b[1;32m    354\u001b[0m \u001b[0;34m\u001b[0m\u001b[0m\n\u001b[0;32m--> 355\u001b[0;31m     \u001b[0mdataset\u001b[0m \u001b[0;34m=\u001b[0m \u001b[0mself\u001b[0m\u001b[0;34m.\u001b[0m\u001b[0mslice_inputs\u001b[0m\u001b[0;34m(\u001b[0m\u001b[0mindices_dataset\u001b[0m\u001b[0;34m,\u001b[0m \u001b[0minputs\u001b[0m\u001b[0;34m)\u001b[0m\u001b[0;34m\u001b[0m\u001b[0;34m\u001b[0m\u001b[0m\n\u001b[0m\u001b[1;32m    356\u001b[0m \u001b[0;34m\u001b[0m\u001b[0m\n\u001b[1;32m    357\u001b[0m     \u001b[0;32mif\u001b[0m \u001b[0mshuffle\u001b[0m \u001b[0;34m==\u001b[0m \u001b[0;34m\"batch\"\u001b[0m\u001b[0;34m:\u001b[0m\u001b[0;34m\u001b[0m\u001b[0;34m\u001b[0m\u001b[0m\n",
      "\u001b[0;32m~/.local/lib/python3.8/site-packages/tensorflow/python/keras/engine/data_adapter.py\u001b[0m in \u001b[0;36mslice_inputs\u001b[0;34m(self, indices_dataset, inputs)\u001b[0m\n\u001b[1;32m    385\u001b[0m       \u001b[0;32mreturn\u001b[0m \u001b[0mnest\u001b[0m\u001b[0;34m.\u001b[0m\u001b[0mmap_structure\u001b[0m\u001b[0;34m(\u001b[0m\u001b[0;32mlambda\u001b[0m \u001b[0md\u001b[0m\u001b[0;34m:\u001b[0m \u001b[0marray_ops\u001b[0m\u001b[0;34m.\u001b[0m\u001b[0mgather\u001b[0m\u001b[0;34m(\u001b[0m\u001b[0md\u001b[0m\u001b[0;34m,\u001b[0m \u001b[0mi\u001b[0m\u001b[0;34m,\u001b[0m \u001b[0maxis\u001b[0m\u001b[0;34m=\u001b[0m\u001b[0;36m0\u001b[0m\u001b[0;34m)\u001b[0m\u001b[0;34m,\u001b[0m \u001b[0mdata\u001b[0m\u001b[0;34m)\u001b[0m\u001b[0;34m\u001b[0m\u001b[0;34m\u001b[0m\u001b[0m\n\u001b[1;32m    386\u001b[0m \u001b[0;34m\u001b[0m\u001b[0m\n\u001b[0;32m--> 387\u001b[0;31m     dataset = dataset.map(\n\u001b[0m\u001b[1;32m    388\u001b[0m         grab_batch, num_parallel_calls=dataset_ops.AUTOTUNE)\n\u001b[1;32m    389\u001b[0m \u001b[0;34m\u001b[0m\u001b[0m\n",
      "\u001b[0;32m~/.local/lib/python3.8/site-packages/tensorflow/python/data/ops/dataset_ops.py\u001b[0m in \u001b[0;36mmap\u001b[0;34m(self, map_func, num_parallel_calls, deterministic)\u001b[0m\n\u001b[1;32m   1805\u001b[0m       \u001b[0;32mreturn\u001b[0m \u001b[0mMapDataset\u001b[0m\u001b[0;34m(\u001b[0m\u001b[0mself\u001b[0m\u001b[0;34m,\u001b[0m \u001b[0mmap_func\u001b[0m\u001b[0;34m,\u001b[0m \u001b[0mpreserve_cardinality\u001b[0m\u001b[0;34m=\u001b[0m\u001b[0;32mTrue\u001b[0m\u001b[0;34m)\u001b[0m\u001b[0;34m\u001b[0m\u001b[0;34m\u001b[0m\u001b[0m\n\u001b[1;32m   1806\u001b[0m     \u001b[0;32melse\u001b[0m\u001b[0;34m:\u001b[0m\u001b[0;34m\u001b[0m\u001b[0;34m\u001b[0m\u001b[0m\n\u001b[0;32m-> 1807\u001b[0;31m       return ParallelMapDataset(\n\u001b[0m\u001b[1;32m   1808\u001b[0m           \u001b[0mself\u001b[0m\u001b[0;34m,\u001b[0m\u001b[0;34m\u001b[0m\u001b[0;34m\u001b[0m\u001b[0m\n\u001b[1;32m   1809\u001b[0m           \u001b[0mmap_func\u001b[0m\u001b[0;34m,\u001b[0m\u001b[0;34m\u001b[0m\u001b[0;34m\u001b[0m\u001b[0m\n",
      "\u001b[0;32m~/.local/lib/python3.8/site-packages/tensorflow/python/data/ops/dataset_ops.py\u001b[0m in \u001b[0;36m__init__\u001b[0;34m(self, input_dataset, map_func, num_parallel_calls, deterministic, use_inter_op_parallelism, preserve_cardinality, use_legacy_function)\u001b[0m\n\u001b[1;32m   4240\u001b[0m     \u001b[0mself\u001b[0m\u001b[0;34m.\u001b[0m\u001b[0m_input_dataset\u001b[0m \u001b[0;34m=\u001b[0m \u001b[0minput_dataset\u001b[0m\u001b[0;34m\u001b[0m\u001b[0;34m\u001b[0m\u001b[0m\n\u001b[1;32m   4241\u001b[0m     \u001b[0mself\u001b[0m\u001b[0;34m.\u001b[0m\u001b[0m_use_inter_op_parallelism\u001b[0m \u001b[0;34m=\u001b[0m \u001b[0muse_inter_op_parallelism\u001b[0m\u001b[0;34m\u001b[0m\u001b[0;34m\u001b[0m\u001b[0m\n\u001b[0;32m-> 4242\u001b[0;31m     self._map_func = StructuredFunctionWrapper(\n\u001b[0m\u001b[1;32m   4243\u001b[0m         \u001b[0mmap_func\u001b[0m\u001b[0;34m,\u001b[0m\u001b[0;34m\u001b[0m\u001b[0;34m\u001b[0m\u001b[0m\n\u001b[1;32m   4244\u001b[0m         \u001b[0mself\u001b[0m\u001b[0;34m.\u001b[0m\u001b[0m_transformation_name\u001b[0m\u001b[0;34m(\u001b[0m\u001b[0;34m)\u001b[0m\u001b[0;34m,\u001b[0m\u001b[0;34m\u001b[0m\u001b[0;34m\u001b[0m\u001b[0m\n",
      "\u001b[0;32m~/.local/lib/python3.8/site-packages/tensorflow/python/data/ops/dataset_ops.py\u001b[0m in \u001b[0;36m__init__\u001b[0;34m(self, func, transformation_name, dataset, input_classes, input_shapes, input_types, input_structure, add_to_graph, use_legacy_function, defun_kwargs)\u001b[0m\n\u001b[1;32m   3523\u001b[0m       \u001b[0;32mwith\u001b[0m \u001b[0mtracking\u001b[0m\u001b[0;34m.\u001b[0m\u001b[0mresource_tracker_scope\u001b[0m\u001b[0;34m(\u001b[0m\u001b[0mresource_tracker\u001b[0m\u001b[0;34m)\u001b[0m\u001b[0;34m:\u001b[0m\u001b[0;34m\u001b[0m\u001b[0;34m\u001b[0m\u001b[0m\n\u001b[1;32m   3524\u001b[0m         \u001b[0;31m# TODO(b/141462134): Switch to using garbage collection.\u001b[0m\u001b[0;34m\u001b[0m\u001b[0;34m\u001b[0m\u001b[0;34m\u001b[0m\u001b[0m\n\u001b[0;32m-> 3525\u001b[0;31m         \u001b[0mself\u001b[0m\u001b[0;34m.\u001b[0m\u001b[0m_function\u001b[0m \u001b[0;34m=\u001b[0m \u001b[0mwrapper_fn\u001b[0m\u001b[0;34m.\u001b[0m\u001b[0mget_concrete_function\u001b[0m\u001b[0;34m(\u001b[0m\u001b[0;34m)\u001b[0m\u001b[0;34m\u001b[0m\u001b[0;34m\u001b[0m\u001b[0m\n\u001b[0m\u001b[1;32m   3526\u001b[0m         \u001b[0;32mif\u001b[0m \u001b[0madd_to_graph\u001b[0m\u001b[0;34m:\u001b[0m\u001b[0;34m\u001b[0m\u001b[0;34m\u001b[0m\u001b[0m\n\u001b[1;32m   3527\u001b[0m           \u001b[0mself\u001b[0m\u001b[0;34m.\u001b[0m\u001b[0m_function\u001b[0m\u001b[0;34m.\u001b[0m\u001b[0madd_to_graph\u001b[0m\u001b[0;34m(\u001b[0m\u001b[0mops\u001b[0m\u001b[0;34m.\u001b[0m\u001b[0mget_default_graph\u001b[0m\u001b[0;34m(\u001b[0m\u001b[0;34m)\u001b[0m\u001b[0;34m)\u001b[0m\u001b[0;34m\u001b[0m\u001b[0;34m\u001b[0m\u001b[0m\n",
      "\u001b[0;32m~/.local/lib/python3.8/site-packages/tensorflow/python/eager/function.py\u001b[0m in \u001b[0;36mget_concrete_function\u001b[0;34m(self, *args, **kwargs)\u001b[0m\n\u001b[1;32m   3049\u001b[0m       \u001b[0;34m**\u001b[0m\u001b[0mkwargs\u001b[0m\u001b[0;34m:\u001b[0m \u001b[0minputs\u001b[0m \u001b[0mto\u001b[0m \u001b[0mspecialize\u001b[0m \u001b[0mon\u001b[0m\u001b[0;34m.\u001b[0m\u001b[0;34m\u001b[0m\u001b[0;34m\u001b[0m\u001b[0m\n\u001b[1;32m   3050\u001b[0m     \"\"\"\n\u001b[0;32m-> 3051\u001b[0;31m     graph_function = self._get_concrete_function_garbage_collected(\n\u001b[0m\u001b[1;32m   3052\u001b[0m         *args, **kwargs)\n\u001b[1;32m   3053\u001b[0m     \u001b[0mgraph_function\u001b[0m\u001b[0;34m.\u001b[0m\u001b[0m_garbage_collector\u001b[0m\u001b[0;34m.\u001b[0m\u001b[0mrelease\u001b[0m\u001b[0;34m(\u001b[0m\u001b[0;34m)\u001b[0m  \u001b[0;31m# pylint: disable=protected-access\u001b[0m\u001b[0;34m\u001b[0m\u001b[0;34m\u001b[0m\u001b[0m\n",
      "\u001b[0;32m~/.local/lib/python3.8/site-packages/tensorflow/python/eager/function.py\u001b[0m in \u001b[0;36m_get_concrete_function_garbage_collected\u001b[0;34m(self, *args, **kwargs)\u001b[0m\n\u001b[1;32m   3017\u001b[0m       \u001b[0margs\u001b[0m\u001b[0;34m,\u001b[0m \u001b[0mkwargs\u001b[0m \u001b[0;34m=\u001b[0m \u001b[0;32mNone\u001b[0m\u001b[0;34m,\u001b[0m \u001b[0;32mNone\u001b[0m\u001b[0;34m\u001b[0m\u001b[0;34m\u001b[0m\u001b[0m\n\u001b[1;32m   3018\u001b[0m     \u001b[0;32mwith\u001b[0m \u001b[0mself\u001b[0m\u001b[0;34m.\u001b[0m\u001b[0m_lock\u001b[0m\u001b[0;34m:\u001b[0m\u001b[0;34m\u001b[0m\u001b[0;34m\u001b[0m\u001b[0m\n\u001b[0;32m-> 3019\u001b[0;31m       \u001b[0mgraph_function\u001b[0m\u001b[0;34m,\u001b[0m \u001b[0m_\u001b[0m \u001b[0;34m=\u001b[0m \u001b[0mself\u001b[0m\u001b[0;34m.\u001b[0m\u001b[0m_maybe_define_function\u001b[0m\u001b[0;34m(\u001b[0m\u001b[0margs\u001b[0m\u001b[0;34m,\u001b[0m \u001b[0mkwargs\u001b[0m\u001b[0;34m)\u001b[0m\u001b[0;34m\u001b[0m\u001b[0;34m\u001b[0m\u001b[0m\n\u001b[0m\u001b[1;32m   3020\u001b[0m       \u001b[0mseen_names\u001b[0m \u001b[0;34m=\u001b[0m \u001b[0mset\u001b[0m\u001b[0;34m(\u001b[0m\u001b[0;34m)\u001b[0m\u001b[0;34m\u001b[0m\u001b[0;34m\u001b[0m\u001b[0m\n\u001b[1;32m   3021\u001b[0m       captured = object_identity.ObjectIdentitySet(\n",
      "\u001b[0;32m~/.local/lib/python3.8/site-packages/tensorflow/python/eager/function.py\u001b[0m in \u001b[0;36m_maybe_define_function\u001b[0;34m(self, args, kwargs)\u001b[0m\n\u001b[1;32m   3359\u001b[0m \u001b[0;34m\u001b[0m\u001b[0m\n\u001b[1;32m   3360\u001b[0m           \u001b[0mself\u001b[0m\u001b[0;34m.\u001b[0m\u001b[0m_function_cache\u001b[0m\u001b[0;34m.\u001b[0m\u001b[0mmissed\u001b[0m\u001b[0;34m.\u001b[0m\u001b[0madd\u001b[0m\u001b[0;34m(\u001b[0m\u001b[0mcall_context_key\u001b[0m\u001b[0;34m)\u001b[0m\u001b[0;34m\u001b[0m\u001b[0;34m\u001b[0m\u001b[0m\n\u001b[0;32m-> 3361\u001b[0;31m           \u001b[0mgraph_function\u001b[0m \u001b[0;34m=\u001b[0m \u001b[0mself\u001b[0m\u001b[0;34m.\u001b[0m\u001b[0m_create_graph_function\u001b[0m\u001b[0;34m(\u001b[0m\u001b[0margs\u001b[0m\u001b[0;34m,\u001b[0m \u001b[0mkwargs\u001b[0m\u001b[0;34m)\u001b[0m\u001b[0;34m\u001b[0m\u001b[0;34m\u001b[0m\u001b[0m\n\u001b[0m\u001b[1;32m   3362\u001b[0m           \u001b[0mself\u001b[0m\u001b[0;34m.\u001b[0m\u001b[0m_function_cache\u001b[0m\u001b[0;34m.\u001b[0m\u001b[0mprimary\u001b[0m\u001b[0;34m[\u001b[0m\u001b[0mcache_key\u001b[0m\u001b[0;34m]\u001b[0m \u001b[0;34m=\u001b[0m \u001b[0mgraph_function\u001b[0m\u001b[0;34m\u001b[0m\u001b[0;34m\u001b[0m\u001b[0m\n\u001b[1;32m   3363\u001b[0m \u001b[0;34m\u001b[0m\u001b[0m\n",
      "\u001b[0;32m~/.local/lib/python3.8/site-packages/tensorflow/python/eager/function.py\u001b[0m in \u001b[0;36m_create_graph_function\u001b[0;34m(self, args, kwargs, override_flat_arg_shapes)\u001b[0m\n\u001b[1;32m   3194\u001b[0m     \u001b[0marg_names\u001b[0m \u001b[0;34m=\u001b[0m \u001b[0mbase_arg_names\u001b[0m \u001b[0;34m+\u001b[0m \u001b[0mmissing_arg_names\u001b[0m\u001b[0;34m\u001b[0m\u001b[0;34m\u001b[0m\u001b[0m\n\u001b[1;32m   3195\u001b[0m     graph_function = ConcreteFunction(\n\u001b[0;32m-> 3196\u001b[0;31m         func_graph_module.func_graph_from_py_func(\n\u001b[0m\u001b[1;32m   3197\u001b[0m             \u001b[0mself\u001b[0m\u001b[0;34m.\u001b[0m\u001b[0m_name\u001b[0m\u001b[0;34m,\u001b[0m\u001b[0;34m\u001b[0m\u001b[0;34m\u001b[0m\u001b[0m\n\u001b[1;32m   3198\u001b[0m             \u001b[0mself\u001b[0m\u001b[0;34m.\u001b[0m\u001b[0m_python_function\u001b[0m\u001b[0;34m,\u001b[0m\u001b[0;34m\u001b[0m\u001b[0;34m\u001b[0m\u001b[0m\n",
      "\u001b[0;32m~/.local/lib/python3.8/site-packages/tensorflow/python/framework/func_graph.py\u001b[0m in \u001b[0;36mfunc_graph_from_py_func\u001b[0;34m(name, python_func, args, kwargs, signature, func_graph, autograph, autograph_options, add_control_dependencies, arg_names, op_return_value, collections, capture_by_value, override_flat_arg_shapes)\u001b[0m\n\u001b[1;32m   1029\u001b[0m         if x is not None)\n\u001b[1;32m   1030\u001b[0m \u001b[0;34m\u001b[0m\u001b[0m\n\u001b[0;32m-> 1031\u001b[0;31m     \u001b[0mfunc_graph\u001b[0m\u001b[0;34m.\u001b[0m\u001b[0mvariables\u001b[0m \u001b[0;34m=\u001b[0m \u001b[0mvariables\u001b[0m\u001b[0;34m\u001b[0m\u001b[0;34m\u001b[0m\u001b[0m\n\u001b[0m\u001b[1;32m   1032\u001b[0m \u001b[0;34m\u001b[0m\u001b[0m\n\u001b[1;32m   1033\u001b[0m   \u001b[0;32mif\u001b[0m \u001b[0madd_control_dependencies\u001b[0m\u001b[0;34m:\u001b[0m\u001b[0;34m\u001b[0m\u001b[0;34m\u001b[0m\u001b[0m\n",
      "\u001b[0;32m~/.local/lib/python3.8/site-packages/tensorflow/python/framework/auto_control_deps.py\u001b[0m in \u001b[0;36m__exit__\u001b[0;34m(self, unused_type, unused_value, unused_traceback)\u001b[0m\n\u001b[1;32m    407\u001b[0m       \u001b[0;31m# Check for any resource inputs. If we find any, we update control_inputs\u001b[0m\u001b[0;34m\u001b[0m\u001b[0;34m\u001b[0m\u001b[0;34m\u001b[0m\u001b[0m\n\u001b[1;32m    408\u001b[0m       \u001b[0;31m# and last_write_to_resource.\u001b[0m\u001b[0;34m\u001b[0m\u001b[0;34m\u001b[0m\u001b[0;34m\u001b[0m\u001b[0m\n\u001b[0;32m--> 409\u001b[0;31m       \u001b[0;32mfor\u001b[0m \u001b[0minp\u001b[0m\u001b[0;34m,\u001b[0m \u001b[0mresource_type\u001b[0m \u001b[0;32min\u001b[0m \u001b[0m_get_resource_inputs\u001b[0m\u001b[0;34m(\u001b[0m\u001b[0mop\u001b[0m\u001b[0;34m)\u001b[0m\u001b[0;34m:\u001b[0m\u001b[0;34m\u001b[0m\u001b[0;34m\u001b[0m\u001b[0m\n\u001b[0m\u001b[1;32m    410\u001b[0m         \u001b[0mis_read\u001b[0m \u001b[0;34m=\u001b[0m \u001b[0mresource_type\u001b[0m \u001b[0;34m==\u001b[0m \u001b[0mResourceType\u001b[0m\u001b[0;34m.\u001b[0m\u001b[0mREAD_ONLY\u001b[0m\u001b[0;34m\u001b[0m\u001b[0;34m\u001b[0m\u001b[0m\n\u001b[1;32m    411\u001b[0m         \u001b[0minput_id\u001b[0m \u001b[0;34m=\u001b[0m \u001b[0mops\u001b[0m\u001b[0;34m.\u001b[0m\u001b[0mtensor_id\u001b[0m\u001b[0;34m(\u001b[0m\u001b[0minp\u001b[0m\u001b[0;34m)\u001b[0m\u001b[0;34m\u001b[0m\u001b[0;34m\u001b[0m\u001b[0m\n",
      "\u001b[0;32m~/.local/lib/python3.8/site-packages/tensorflow/python/framework/auto_control_deps.py\u001b[0m in \u001b[0;36m_get_resource_inputs\u001b[0;34m(op)\u001b[0m\n\u001b[1;32m    530\u001b[0m \u001b[0;32mdef\u001b[0m \u001b[0m_get_resource_inputs\u001b[0m\u001b[0;34m(\u001b[0m\u001b[0mop\u001b[0m\u001b[0;34m)\u001b[0m\u001b[0;34m:\u001b[0m\u001b[0;34m\u001b[0m\u001b[0;34m\u001b[0m\u001b[0m\n\u001b[1;32m    531\u001b[0m   \u001b[0;34m\"\"\"Returns an iterable of resources touched by this `op`.\"\"\"\u001b[0m\u001b[0;34m\u001b[0m\u001b[0;34m\u001b[0m\u001b[0m\n\u001b[0;32m--> 532\u001b[0;31m   \u001b[0mreads\u001b[0m\u001b[0;34m,\u001b[0m \u001b[0mwrites\u001b[0m \u001b[0;34m=\u001b[0m \u001b[0mutils\u001b[0m\u001b[0;34m.\u001b[0m\u001b[0mget_read_write_resource_inputs\u001b[0m\u001b[0;34m(\u001b[0m\u001b[0mop\u001b[0m\u001b[0;34m)\u001b[0m\u001b[0;34m\u001b[0m\u001b[0;34m\u001b[0m\u001b[0m\n\u001b[0m\u001b[1;32m    533\u001b[0m   \u001b[0msaturated\u001b[0m \u001b[0;34m=\u001b[0m \u001b[0;32mFalse\u001b[0m\u001b[0;34m\u001b[0m\u001b[0;34m\u001b[0m\u001b[0m\n\u001b[1;32m    534\u001b[0m   \u001b[0;32mwhile\u001b[0m \u001b[0;32mnot\u001b[0m \u001b[0msaturated\u001b[0m\u001b[0;34m:\u001b[0m\u001b[0;34m\u001b[0m\u001b[0;34m\u001b[0m\u001b[0m\n",
      "\u001b[0;32m~/.local/lib/python3.8/site-packages/tensorflow/python/framework/auto_control_deps_utils.py\u001b[0m in \u001b[0;36mget_read_write_resource_inputs\u001b[0;34m(op)\u001b[0m\n\u001b[1;32m    110\u001b[0m   \u001b[0;32mexcept\u001b[0m \u001b[0mValueError\u001b[0m\u001b[0;34m:\u001b[0m\u001b[0;34m\u001b[0m\u001b[0;34m\u001b[0m\u001b[0m\n\u001b[1;32m    111\u001b[0m     \u001b[0;31m# Attr was not set. Add all resource inputs to `writes` and return.\u001b[0m\u001b[0;34m\u001b[0m\u001b[0;34m\u001b[0m\u001b[0;34m\u001b[0m\u001b[0m\n\u001b[0;32m--> 112\u001b[0;31m     \u001b[0mwrites\u001b[0m\u001b[0;34m.\u001b[0m\u001b[0mupdate\u001b[0m\u001b[0;34m(\u001b[0m\u001b[0mt\u001b[0m \u001b[0;32mfor\u001b[0m \u001b[0mt\u001b[0m \u001b[0;32min\u001b[0m \u001b[0mop\u001b[0m\u001b[0;34m.\u001b[0m\u001b[0minputs\u001b[0m \u001b[0;32mif\u001b[0m \u001b[0mt\u001b[0m\u001b[0;34m.\u001b[0m\u001b[0mdtype\u001b[0m \u001b[0;34m==\u001b[0m \u001b[0mdtypes\u001b[0m\u001b[0;34m.\u001b[0m\u001b[0mresource\u001b[0m\u001b[0;34m)\u001b[0m\u001b[0;34m\u001b[0m\u001b[0;34m\u001b[0m\u001b[0m\n\u001b[0m\u001b[1;32m    113\u001b[0m     \u001b[0;32mreturn\u001b[0m \u001b[0;34m(\u001b[0m\u001b[0mreads\u001b[0m\u001b[0;34m,\u001b[0m \u001b[0mwrites\u001b[0m\u001b[0;34m)\u001b[0m\u001b[0;34m\u001b[0m\u001b[0;34m\u001b[0m\u001b[0m\n\u001b[1;32m    114\u001b[0m \u001b[0;34m\u001b[0m\u001b[0m\n",
      "\u001b[0;32m~/.local/lib/python3.8/site-packages/tensorflow/python/framework/ops.py\u001b[0m in \u001b[0;36minputs\u001b[0;34m(self)\u001b[0m\n\u001b[1;32m   2360\u001b[0m     \u001b[0;32mif\u001b[0m \u001b[0mself\u001b[0m\u001b[0;34m.\u001b[0m\u001b[0m_inputs_val\u001b[0m \u001b[0;32mis\u001b[0m \u001b[0;32mNone\u001b[0m\u001b[0;34m:\u001b[0m\u001b[0;34m\u001b[0m\u001b[0;34m\u001b[0m\u001b[0m\n\u001b[1;32m   2361\u001b[0m       \u001b[0;31m# pylint: disable=protected-access\u001b[0m\u001b[0;34m\u001b[0m\u001b[0;34m\u001b[0m\u001b[0;34m\u001b[0m\u001b[0m\n\u001b[0;32m-> 2362\u001b[0;31m       self._inputs_val = tuple(\n\u001b[0m\u001b[1;32m   2363\u001b[0m           map(self.graph._get_tensor_by_tf_output,\n\u001b[1;32m   2364\u001b[0m               pywrap_tf_session.GetOperationInputs(self._c_op)))\n",
      "\u001b[0;32m~/.local/lib/python3.8/site-packages/tensorflow/python/framework/ops.py\u001b[0m in \u001b[0;36m_get_tensor_by_tf_output\u001b[0;34m(self, tf_output)\u001b[0m\n\u001b[1;32m   3902\u001b[0m     \u001b[0;32mreturn\u001b[0m \u001b[0mself\u001b[0m\u001b[0;34m.\u001b[0m\u001b[0mas_graph_element\u001b[0m\u001b[0;34m(\u001b[0m\u001b[0mname\u001b[0m\u001b[0;34m,\u001b[0m \u001b[0mallow_tensor\u001b[0m\u001b[0;34m=\u001b[0m\u001b[0;32mTrue\u001b[0m\u001b[0;34m,\u001b[0m \u001b[0mallow_operation\u001b[0m\u001b[0;34m=\u001b[0m\u001b[0;32mFalse\u001b[0m\u001b[0;34m)\u001b[0m\u001b[0;34m\u001b[0m\u001b[0;34m\u001b[0m\u001b[0m\n\u001b[1;32m   3903\u001b[0m \u001b[0;34m\u001b[0m\u001b[0m\n\u001b[0;32m-> 3904\u001b[0;31m   \u001b[0;32mdef\u001b[0m \u001b[0m_get_tensor_by_tf_output\u001b[0m\u001b[0;34m(\u001b[0m\u001b[0mself\u001b[0m\u001b[0;34m,\u001b[0m \u001b[0mtf_output\u001b[0m\u001b[0;34m)\u001b[0m\u001b[0;34m:\u001b[0m\u001b[0;34m\u001b[0m\u001b[0;34m\u001b[0m\u001b[0m\n\u001b[0m\u001b[1;32m   3905\u001b[0m     \"\"\"Returns the `Tensor` representing `tf_output`.\n\u001b[1;32m   3906\u001b[0m \u001b[0;34m\u001b[0m\u001b[0m\n",
      "\u001b[0;31mKeyboardInterrupt\u001b[0m: "
     ]
    }
   ],
   "source": [
    "Lung_IG_GA = GeneticAlgorithm(Lung_IG, 2)"
   ]
  },
  {
   "cell_type": "code",
   "execution_count": null,
   "metadata": {
    "colab": {
     "base_uri": "https://localhost:8080/",
     "height": 1000
    },
    "collapsed": true,
    "id": "zVE12bEYE4Xs",
    "jupyter": {
     "outputs_hidden": true
    },
    "outputId": "71a580fc-7941-4156-ac0e-844380f5b560"
   },
   "outputs": [],
   "source": [
    "Lung_IG_GA = GeneticAlgorithm(Lung_IG, 3)"
   ]
  },
  {
   "cell_type": "code",
   "execution_count": null,
   "metadata": {
    "colab": {
     "base_uri": "https://localhost:8080/",
     "height": 1000
    },
    "collapsed": true,
    "id": "16yh67yME491",
    "jupyter": {
     "outputs_hidden": true
    },
    "outputId": "f3db28dd-f70b-4398-dc83-691322fa69ae"
   },
   "outputs": [],
   "source": [
    "Lung_IG_GA = GeneticAlgorithm(Lung_IG, 4)"
   ]
  }
 ],
 "metadata": {
  "accelerator": "TPU",
  "colab": {
   "collapsed_sections": [],
   "name": "Lung - Final Task",
   "provenance": []
  },
  "kernelspec": {
   "display_name": "Python 3",
   "language": "python",
   "name": "python3"
  },
  "language_info": {
   "codemirror_mode": {
    "name": "ipython",
    "version": 3
   },
   "file_extension": ".py",
   "mimetype": "text/x-python",
   "name": "python",
   "nbconvert_exporter": "python",
   "pygments_lexer": "ipython3",
   "version": "3.8.6"
  }
 },
 "nbformat": 4,
 "nbformat_minor": 4
}
