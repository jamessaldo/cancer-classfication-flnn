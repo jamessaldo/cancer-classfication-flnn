{
 "cells": [
  {
   "cell_type": "markdown",
   "metadata": {
    "id": "A0jkNKbSXyDU"
   },
   "source": [
    "Nama         : Ghozy Ghulamul Afif\n",
    "\n",
    "NIM          : 1301170379\n",
    "\n",
    "Judul TA     : Implementasi Information Gain (IG) dan Genetic Algorithm (GA) untuk Reduksi Dimensi pada Klasifikasi Data Microarray Menggunakan Functional Link Neural Network (FLNN)\n",
    "\n",
    "Pembimbing 1 : Widi Astuti, S.T., M.Kom.\n",
    "\n",
    "Pembimbing 2 : Prof. Dr. Adiwijaya"
   ]
  },
  {
   "cell_type": "markdown",
   "metadata": {
    "id": "0Qh0del_I5dl"
   },
   "source": [
    "# 1. Preprocessing"
   ]
  },
  {
   "cell_type": "markdown",
   "metadata": {
    "id": "_K0cFh0oKSBF"
   },
   "source": [
    "## 1.1. Import Library"
   ]
  },
  {
   "cell_type": "code",
   "execution_count": 1,
   "metadata": {
    "id": "Cn8BCYDgZwHX"
   },
   "outputs": [],
   "source": [
    "import pandas as pd\n",
    "from sklearn.preprocessing import  MinMaxScaler\n",
    "from pandas import DataFrame\n",
    "from scipy.special import legendre\n",
    "import numpy as np\n",
    "from sklearn.model_selection import StratifiedKFold\n",
    "import matplotlib.pyplot as plt\n",
    "import keras\n",
    "from tensorflow.python.keras.layers import Dense\n",
    "from keras.optimizers import Adam\n",
    "from tensorflow.python.keras import Sequential\n",
    "from sklearn.metrics import accuracy_score, f1_score\n",
    "from sklearn.metrics import classification_report\n",
    "import random\n",
    "import timeit\n",
    "from sklearn.model_selection import train_test_split\n",
    "from sklearn.feature_selection import mutual_info_classif\n",
    "from sklearn.feature_selection import SelectKBest"
   ]
  },
  {
   "cell_type": "markdown",
   "metadata": {
    "id": "7vNrreDQZubc"
   },
   "source": [
    "## 1.2. Import Dataset"
   ]
  },
  {
   "cell_type": "code",
   "execution_count": 2,
   "metadata": {
    "id": "GMRraUUOzPk3"
   },
   "outputs": [],
   "source": [
    "# data colon\n",
    "url = \"https://raw.githubusercontent.com/jamessaldo/final-task/master/colonTumor.data\"\n",
    "data_colon = pd.read_csv(url, header=None)"
   ]
  },
  {
   "cell_type": "markdown",
   "metadata": {
    "id": "b4cB_13-TxQo"
   },
   "source": [
    "## 1.3. Check Missing Value"
   ]
  },
  {
   "cell_type": "code",
   "execution_count": 3,
   "metadata": {
    "colab": {
     "base_uri": "https://localhost:8080/"
    },
    "id": "R2aU78BwTwlz",
    "outputId": "f567de29-4293-466c-da79-c9ecd92bb5d4"
   },
   "outputs": [
    {
     "name": "stdout",
     "output_type": "stream",
     "text": [
      "Total Missing Value pada Data Colon Tumor: 0\n"
     ]
    }
   ],
   "source": [
    "print('Total Missing Value pada Data Colon Tumor:',data_colon.isnull().sum().sum())"
   ]
  },
  {
   "cell_type": "markdown",
   "metadata": {
    "id": "sU9gQQqhqSO7"
   },
   "source": [
    "## 1.4. Normalization"
   ]
  },
  {
   "cell_type": "code",
   "execution_count": 4,
   "metadata": {
    "id": "JedwSdEXqPlw"
   },
   "outputs": [],
   "source": [
    "# Melakukan normalisasi\n",
    "# data colon\n",
    "data_new_colon = data_colon.drop([2000],axis=1)\n",
    "scaler = MinMaxScaler()\n",
    "data_new_colon = scaler.fit_transform(data_new_colon)\n",
    "data_new_colon = DataFrame(data_new_colon)\n",
    "data_new_colon['label'] = list(data_colon[2000])\n",
    "dic = {'negative':0,'positive':1}\n",
    "data_new_colon.replace(dic,inplace=True)"
   ]
  },
  {
   "cell_type": "markdown",
   "metadata": {
    "id": "fjCSdG9vz4pE"
   },
   "source": [
    "# 2. Define Reusable Function"
   ]
  },
  {
   "cell_type": "markdown",
   "metadata": {
    "id": "BFYNoKKtqgoj"
   },
   "source": [
    "## Fitness Function"
   ]
  },
  {
   "cell_type": "code",
   "execution_count": 5,
   "metadata": {
    "id": "yDR9QVJvlYBN"
   },
   "outputs": [],
   "source": [
    "from sklearn.model_selection import train_test_split\n",
    "from sklearn.metrics import f1_score\n",
    "def fitness(dataset, orde):\n",
    "  start = timeit.default_timer()\n",
    "  X = pd.DataFrame(dataset.iloc[:, 0:len(dataset.columns)-1].values)\n",
    "  Y = pd.DataFrame(dataset.iloc[:, len(dataset.columns)-1].values)\n",
    "\n",
    "  df_ = pd.DataFrame()\n",
    "  for x in range(1, orde+1):\n",
    "    pn = legendre(x)\n",
    "    y_orde = pn(X)\n",
    "    df_ = pd.concat([df_, y_orde], axis=1)\n",
    "  df_.columns = [\"Attribut\"+str(i) for i in range(len(df_.columns))]\n",
    "  df_['label'] = Y\n",
    "  data = df_.iloc[:, 0:len(df_.columns)-1].values\n",
    "  label = df_.iloc[:, len(df_.columns)-1].values\n",
    "\n",
    "  # # Melakukan proses klasifikasi LR\n",
    "  X_train, X_test, y_train, y_test = train_test_split(data, label, test_size=0.33, random_state=42)\n",
    "  # Inisialisasi FLNN\n",
    "  Model = Sequential()\n",
    "  # Menambah input layer dan hidden layer pertama\n",
    "  Model.add(Dense(units = len(df_.columns)-1, kernel_initializer = 'uniform', activation = 'relu', input_dim = len(df_.columns)-1))\n",
    "  # Menambah output layer\n",
    "  Model.add(Dense(units = 1, kernel_initializer = 'uniform', activation = 'sigmoid'))\n",
    "  # Menjalankan ANN\n",
    "  Model.compile(optimizer = Adam(learning_rate=0.001), loss = 'binary_crossentropy', metrics = ['accuracy'])\n",
    "  # Fitting ANN ke training set\n",
    "  history = Model.fit(X_train, y_train, batch_size = 35, epochs = 100, validation_split = 0.2, verbose=False)\n",
    "\n",
    "  #Memprediksi hasil test set\n",
    "  y_pred = Model(X_test)\n",
    "  y_pred =(y_pred >= 0.5)\n",
    "\n",
    "  F1 = f1_score(y_test, y_pred, average='macro')\n",
    "\n",
    "  print(\"F1 Score : \", F1)\n",
    "\n",
    "  stop = timeit.default_timer()\n",
    "  print('Running Time: ', stop - start) \n",
    "  return F1"
   ]
  },
  {
   "cell_type": "markdown",
   "metadata": {
    "id": "7OaQhLtNUEEn"
   },
   "source": [
    "## FLNN Classifier"
   ]
  },
  {
   "cell_type": "code",
   "execution_count": 6,
   "metadata": {
    "id": "Yj0yC_4o0xJn"
   },
   "outputs": [],
   "source": [
    "def FLNN_Classifier(dataset, cancer_name, orde):\n",
    "  start = timeit.default_timer()\n",
    "  X = dataset.drop(['label'], axis=1)\n",
    "  Y = dataset['label']\n",
    "  df_ = pd.DataFrame()\n",
    "  for x in range(1, orde+1):\n",
    "    pn = legendre(x)\n",
    "    y_orde = pn(X)\n",
    "    df_ = pd.concat([df_, y_orde], axis=1)\n",
    "  df_.columns = [\"Attribut\"+str(i) for i in range(len(df_.columns))]\n",
    "  df_['label'] = Y.reset_index().label\n",
    "  data = df_.iloc[:, 0:len(df_.columns)-1].values\n",
    "  label = df_.iloc[:, len(df_.columns)-1].values\n",
    "\n",
    "  # Melakukan proses K-Fold\n",
    "  kf = StratifiedKFold(n_splits=5, shuffle=True, random_state=10)\n",
    "  kf.get_n_splits(df_)\n",
    "\n",
    "  # Melakukan proses klasifikasi FLNN\n",
    "  Hasil_Akurasi = []\n",
    "  Hasil_F1 = []\n",
    "  for train_index, test_index in kf.split(X,Y):\n",
    "    print(\"Train :\" , train_index, \"Test :\", test_index)\n",
    "    X_train, X_test, y_train, y_test = data[train_index], data[test_index], label[train_index], label[test_index]\n",
    "    # Inisialisasi FLNN\n",
    "    Model = Sequential()\n",
    "    # Menambah input layer dan hidden layer pertama\n",
    "    Model.add(Dense(units = len(df_.columns)-1, kernel_initializer = 'uniform', activation = 'relu', input_dim = len(df_.columns)-1))\n",
    "    # Menambah output layer\n",
    "    Model.add(Dense(units = 1, kernel_initializer = 'uniform', activation = 'sigmoid'))\n",
    "    # Menjalankan ANN\n",
    "    Model.compile(optimizer = Adam(learning_rate=0.001), loss = 'binary_crossentropy', metrics = ['accuracy'])\n",
    "    # Fitting ANN ke training set\n",
    "    history = Model.fit(X_train, y_train, batch_size = 35, epochs = 100, validation_split = 0.2, verbose=False)\n",
    "\n",
    "    #Memprediksi hasil test set\n",
    "    y_pred = Model(X_test)\n",
    "    y_pred =(y_pred >= 0.5)\n",
    "\n",
    "    #print(\"X_Train :\", X_train)\n",
    "    print(\"Y_Train :\", y_train)\n",
    "\n",
    "    #print(\"X_Test :\", X_test)\n",
    "    print(\"Y_Test :\", y_test)\n",
    "\n",
    "    hasil = accuracy_score(y_test,y_pred)\n",
    "    F1 = f1_score(y_test, y_pred, average='macro')\n",
    "    #F1 = f1_score(y_test, y_pred, average)\n",
    "\n",
    "    print(\"Akurasi : \", hasil)\n",
    "    print(\"F1_Score : \", F1)\n",
    "    print(classification_report(y_test,y_pred))\n",
    "    Hasil_Akurasi.append(hasil)\n",
    "    Hasil_F1.append(F1)\n",
    "\n",
    "    # Membuat confusion matrix\n",
    "    from sklearn.metrics import confusion_matrix \n",
    "    from mlxtend.plotting import plot_confusion_matrix\n",
    "    cm = confusion_matrix(y_test, y_pred)\n",
    "    fig, ax = plot_confusion_matrix(conf_mat = cm, figsize=(5,5))\n",
    "    plt.show()\n",
    "\n",
    "  Akurasi = np.array(Hasil_Akurasi)\n",
    "  F1_Score = np.array(Hasil_F1)\n",
    "  avg_akurasi = Akurasi.mean()\n",
    "  avg_F1 = F1_Score.mean()\n",
    "\n",
    "  print(\"avg accuraccy \"+cancer_name+\" = \",avg_akurasi)\n",
    "  print(\"avg F1_Score \"+cancer_name+\" = \",avg_F1)\n",
    "\n",
    "  print(\"max accuraccy \"+cancer_name+\" = \",Akurasi.max())\n",
    "  print(\"max F1_Score \"+cancer_name+\" = \",F1_Score.max())\n",
    "\n",
    "  print(\"min accuraccy \"+cancer_name+\" = \",Akurasi.min())\n",
    "  print(\"min F1_Score \"+cancer_name+\" = \",F1_Score.min())\n",
    "  \n",
    "  stop = timeit.default_timer()\n",
    "  print('Running Time: ', stop - start) \n",
    "  return avg_akurasi, avg_F1"
   ]
  },
  {
   "cell_type": "markdown",
   "metadata": {
    "id": "kfAPajOb0D5_"
   },
   "source": [
    "## Genetic Algorithm"
   ]
  },
  {
   "cell_type": "code",
   "execution_count": 7,
   "metadata": {
    "id": "rwrhRXpb0C5I"
   },
   "outputs": [],
   "source": [
    "# define parameters\n",
    "mutationRate = 0.1\n",
    "crossoverRate = 0.8\n",
    "populationSize = 10\n",
    "maxGen = 5\n",
    "\n",
    "def GenerateGene(lengthOfGen):\n",
    "  genes = [] # menyimpan index feature\n",
    "  for j in range(lengthOfGen):\n",
    "    genes.append(random.randint(0,1))\n",
    "  return genes\n",
    "\n",
    "def GeneratePopulation(lengthOfGen):\n",
    "  population = []\n",
    "  for i in range(populationSize):\n",
    "    individu = GenerateGene(lengthOfGen)\n",
    "    population.append(individu)\n",
    "  return population\n",
    "\n",
    "def CrossOver(parent_1, parent_2, rate, lengthOfGen): #Random Point Method\n",
    "  new_pop = [] \n",
    "  for i in range((populationSize - 2) // 2):\n",
    "    if random.random() < rate:\n",
    "      CP = random.randint(0,lengthOfGen) #CrossPoint\n",
    "      child = parent_1[0:CP] + parent_2[CP:len(parent_2)]\n",
    "      new_pop.append(child)\n",
    "      child = parent_2[0:CP] + parent_1[CP:len(parent_1)]\n",
    "      new_pop.append(child)\n",
    "    else:\n",
    "      new_pop.append(parent_1)\n",
    "      new_pop.append(parent_2)\n",
    "  return new_pop\n",
    "\n",
    "def Mutation(mutant, rate, lengthOfGen):\n",
    "  for i in range(len(mutant)):\n",
    "    # memutasi tiap gen yang memiliki kemungkinan < rate(0.1)\n",
    "    for j in range(lengthOfGen):\n",
    "      if random.random() <= rate:\n",
    "        mutant[i][j] = 1 - mutant[i][j]\n",
    "  return mutant\n",
    "\n",
    "def ZeroGene(indv): #pengecekan apakah gen isinya kosong atau tidak\n",
    "  total = 0\n",
    "  for i in range(len(indv)):\n",
    "    if indv[i] == 0:\n",
    "      total += 1\n",
    "  if len(indv) == total:\n",
    "    return True\n",
    "  else:\n",
    "    return False\n",
    "\n",
    "def Classification(indv, dataset, orde): #using Entropy as fitness\n",
    "  datasetGA = pd.DataFrame()\n",
    "  idxDatasetGA = 0\n",
    "  for i in range(len(dataset.columns)-1):\n",
    "    if indv[i] == 1:\n",
    "      datasetGA[idxDatasetGA] = dataset[i]\n",
    "      idxDatasetGA += 1\n",
    "  datasetGA['label'] = dataset['label']\n",
    "  Acc_score, F1_score = FLNN_Classifier(datasetGA, \"Colon Cancer\", orde)\n",
    "  totalFeatures = idxDatasetGA+1\n",
    "  return Acc_score, F1_score, totalFeatures"
   ]
  },
  {
   "cell_type": "code",
   "execution_count": 8,
   "metadata": {
    "id": "gX9HQLsa6hfJ"
   },
   "outputs": [],
   "source": [
    "def GeneticAlgorithm(dataset,orde):\n",
    "  start = timeit.default_timer()\n",
    "  # Initial Population\n",
    "  lengthOfGen = len(dataset.columns) - 1 # panjang gene = panjang fitur tanpa label\n",
    "\n",
    "  # fintess evaluation\n",
    "  bestF1 = 0\n",
    "  bestNFeature = len(dataset.columns) - 1\n",
    "  population = GeneratePopulation(lengthOfGen) # Generate 1st Generation\n",
    "  generation = 0 #max generation = 2**len(feature)\n",
    "\n",
    "  while (generation < maxGen and (bestF1*100) < 90):\n",
    "    print('Generation :',generation)\n",
    "    fitness = pd.DataFrame()\n",
    "    acc = []\n",
    "    f1score = []\n",
    "    # ent = []\n",
    "    nFeature = []\n",
    "    gene = []\n",
    "    i = 0\n",
    "    while (i < len(population)):\n",
    "      if ZeroGene(population[i]) == False:\n",
    "        print('gene :', population[i])\n",
    "        accuracy, f1, totalFeatures = Classification(population[i], dataset, orde) # Count Fitness Value\n",
    "        acc.append(accuracy)\n",
    "        f1score.append(f1)\n",
    "        nFeature.append(totalFeatures)\n",
    "        gene.append(population[i])\n",
    "        bestF1 = f1\n",
    "      i += 1\n",
    "\n",
    "    fitness['gene'] = gene\n",
    "    fitness['feature'] = nFeature\n",
    "    fitness['f1_score'] = f1score\n",
    "\n",
    "    fitness = fitness.sort_values(['f1_score'],ascending=False)\n",
    "\n",
    "    bestF1 = fitness['f1_score'][fitness.index[0]]\n",
    "    bestNFeature = fitness['feature'][fitness.index[0]]\n",
    "\n",
    "    # select parent\n",
    "    best_gene = fitness['gene'][fitness.index[0]].copy()\n",
    "    best_gene_2 = fitness['gene'][fitness.index[1]].copy()\n",
    "\n",
    "    #Crossover methods: Fixed Point, \"Random Point\", Alternate Point\n",
    "    population = CrossOver(best_gene.copy(), best_gene_2.copy(), crossoverRate, lengthOfGen)\n",
    "\n",
    "    # Mutation\n",
    "    population = Mutation(population, mutationRate, lengthOfGen)\n",
    "\n",
    "    # Masukkan best child tadi\n",
    "    population.append(best_gene)\n",
    "    population.append(best_gene_2)\n",
    "\n",
    "    # Print Result\n",
    "    print('===============================================================================================================================================================================================================')\n",
    "    print('gen terbaik :', best_gene)\n",
    "    print('F-1 Score terbaik :',bestF1,' || jumlah fitur :',bestNFeature)\n",
    "    print()\n",
    "\n",
    "    # New Generation\n",
    "    generation += 1\n",
    "  listDrop = []\n",
    "  for i in range(len(dataset.columns)-1):\n",
    "    if best_gene[i] == 0:\n",
    "      listDrop.append(dataset.columns[i])\n",
    "  dataset_GA = dataset.drop(listDrop, axis = 1)\n",
    "  stop = timeit.default_timer()\n",
    "  print('Running Time: ', stop - start)\n",
    "  return dataset_GA"
   ]
  },
  {
   "cell_type": "markdown",
   "metadata": {
    "id": "G3lRPMojLv2j"
   },
   "source": [
    "# 3. Feature Selection with IG"
   ]
  },
  {
   "cell_type": "markdown",
   "metadata": {
    "id": "QfZbd-1OMFrz"
   },
   "source": [
    "## Colon"
   ]
  },
  {
   "cell_type": "code",
   "execution_count": 9,
   "metadata": {
    "colab": {
     "base_uri": "https://localhost:8080/",
     "height": 461
    },
    "id": "Uo8PZ6AfLzfm",
    "outputId": "1d2edd53-19f2-4722-e32a-5d97dfbcfcad"
   },
   "outputs": [
    {
     "name": "stdout",
     "output_type": "stream",
     "text": [
      "(62, 101)\n"
     ]
    },
    {
     "data": {
      "text/html": [
       "<div>\n",
       "<style scoped>\n",
       "    .dataframe tbody tr th:only-of-type {\n",
       "        vertical-align: middle;\n",
       "    }\n",
       "\n",
       "    .dataframe tbody tr th {\n",
       "        vertical-align: top;\n",
       "    }\n",
       "\n",
       "    .dataframe thead th {\n",
       "        text-align: right;\n",
       "    }\n",
       "</style>\n",
       "<table border=\"1\" class=\"dataframe\">\n",
       "  <thead>\n",
       "    <tr style=\"text-align: right;\">\n",
       "      <th></th>\n",
       "      <th>0</th>\n",
       "      <th>1</th>\n",
       "      <th>2</th>\n",
       "      <th>3</th>\n",
       "      <th>4</th>\n",
       "      <th>5</th>\n",
       "      <th>6</th>\n",
       "      <th>7</th>\n",
       "      <th>8</th>\n",
       "      <th>9</th>\n",
       "      <th>...</th>\n",
       "      <th>91</th>\n",
       "      <th>92</th>\n",
       "      <th>93</th>\n",
       "      <th>94</th>\n",
       "      <th>95</th>\n",
       "      <th>96</th>\n",
       "      <th>97</th>\n",
       "      <th>98</th>\n",
       "      <th>99</th>\n",
       "      <th>label</th>\n",
       "    </tr>\n",
       "  </thead>\n",
       "  <tbody>\n",
       "    <tr>\n",
       "      <th>0</th>\n",
       "      <td>0.226833</td>\n",
       "      <td>0.144327</td>\n",
       "      <td>0.257154</td>\n",
       "      <td>0.360224</td>\n",
       "      <td>0.158487</td>\n",
       "      <td>0.232761</td>\n",
       "      <td>0.353814</td>\n",
       "      <td>0.301620</td>\n",
       "      <td>0.166032</td>\n",
       "      <td>0.143776</td>\n",
       "      <td>...</td>\n",
       "      <td>0.060051</td>\n",
       "      <td>0.072978</td>\n",
       "      <td>0.319589</td>\n",
       "      <td>0.220026</td>\n",
       "      <td>0.076063</td>\n",
       "      <td>0.042616</td>\n",
       "      <td>0.177444</td>\n",
       "      <td>0.111250</td>\n",
       "      <td>0.357061</td>\n",
       "      <td>0</td>\n",
       "    </tr>\n",
       "    <tr>\n",
       "      <th>1</th>\n",
       "      <td>0.192283</td>\n",
       "      <td>0.106237</td>\n",
       "      <td>0.149160</td>\n",
       "      <td>0.374889</td>\n",
       "      <td>0.324886</td>\n",
       "      <td>0.556309</td>\n",
       "      <td>0.274228</td>\n",
       "      <td>0.410153</td>\n",
       "      <td>0.208671</td>\n",
       "      <td>0.599414</td>\n",
       "      <td>...</td>\n",
       "      <td>0.086168</td>\n",
       "      <td>0.083198</td>\n",
       "      <td>0.499501</td>\n",
       "      <td>0.329200</td>\n",
       "      <td>0.132933</td>\n",
       "      <td>0.058226</td>\n",
       "      <td>0.207951</td>\n",
       "      <td>0.900318</td>\n",
       "      <td>0.295018</td>\n",
       "      <td>1</td>\n",
       "    </tr>\n",
       "    <tr>\n",
       "      <th>2</th>\n",
       "      <td>0.074425</td>\n",
       "      <td>0.006939</td>\n",
       "      <td>0.021789</td>\n",
       "      <td>0.158586</td>\n",
       "      <td>0.058059</td>\n",
       "      <td>0.043173</td>\n",
       "      <td>0.133084</td>\n",
       "      <td>0.108303</td>\n",
       "      <td>0.179049</td>\n",
       "      <td>0.040444</td>\n",
       "      <td>...</td>\n",
       "      <td>0.040924</td>\n",
       "      <td>0.039915</td>\n",
       "      <td>0.505447</td>\n",
       "      <td>0.131844</td>\n",
       "      <td>0.048352</td>\n",
       "      <td>0.023482</td>\n",
       "      <td>0.034773</td>\n",
       "      <td>0.227528</td>\n",
       "      <td>0.137021</td>\n",
       "      <td>0</td>\n",
       "    </tr>\n",
       "    <tr>\n",
       "      <th>3</th>\n",
       "      <td>0.152732</td>\n",
       "      <td>0.111560</td>\n",
       "      <td>0.083659</td>\n",
       "      <td>0.300870</td>\n",
       "      <td>0.066737</td>\n",
       "      <td>0.051016</td>\n",
       "      <td>0.218904</td>\n",
       "      <td>0.239529</td>\n",
       "      <td>0.276822</td>\n",
       "      <td>0.183142</td>\n",
       "      <td>...</td>\n",
       "      <td>0.072250</td>\n",
       "      <td>0.050500</td>\n",
       "      <td>0.633112</td>\n",
       "      <td>0.323711</td>\n",
       "      <td>0.080622</td>\n",
       "      <td>0.011110</td>\n",
       "      <td>0.070869</td>\n",
       "      <td>0.397518</td>\n",
       "      <td>0.247340</td>\n",
       "      <td>1</td>\n",
       "    </tr>\n",
       "    <tr>\n",
       "      <th>4</th>\n",
       "      <td>0.240615</td>\n",
       "      <td>0.275571</td>\n",
       "      <td>0.346041</td>\n",
       "      <td>0.043132</td>\n",
       "      <td>0.136095</td>\n",
       "      <td>0.179048</td>\n",
       "      <td>0.082102</td>\n",
       "      <td>0.202575</td>\n",
       "      <td>0.427437</td>\n",
       "      <td>0.139515</td>\n",
       "      <td>...</td>\n",
       "      <td>0.319870</td>\n",
       "      <td>0.101336</td>\n",
       "      <td>0.301104</td>\n",
       "      <td>0.145378</td>\n",
       "      <td>0.037923</td>\n",
       "      <td>0.102840</td>\n",
       "      <td>0.098693</td>\n",
       "      <td>0.049903</td>\n",
       "      <td>0.053843</td>\n",
       "      <td>0</td>\n",
       "    </tr>\n",
       "    <tr>\n",
       "      <th>...</th>\n",
       "      <td>...</td>\n",
       "      <td>...</td>\n",
       "      <td>...</td>\n",
       "      <td>...</td>\n",
       "      <td>...</td>\n",
       "      <td>...</td>\n",
       "      <td>...</td>\n",
       "      <td>...</td>\n",
       "      <td>...</td>\n",
       "      <td>...</td>\n",
       "      <td>...</td>\n",
       "      <td>...</td>\n",
       "      <td>...</td>\n",
       "      <td>...</td>\n",
       "      <td>...</td>\n",
       "      <td>...</td>\n",
       "      <td>...</td>\n",
       "      <td>...</td>\n",
       "      <td>...</td>\n",
       "      <td>...</td>\n",
       "      <td>...</td>\n",
       "    </tr>\n",
       "    <tr>\n",
       "      <th>57</th>\n",
       "      <td>0.172133</td>\n",
       "      <td>0.121783</td>\n",
       "      <td>0.166454</td>\n",
       "      <td>0.122950</td>\n",
       "      <td>0.141156</td>\n",
       "      <td>0.084149</td>\n",
       "      <td>0.087427</td>\n",
       "      <td>0.284751</td>\n",
       "      <td>0.307772</td>\n",
       "      <td>0.011276</td>\n",
       "      <td>...</td>\n",
       "      <td>0.069847</td>\n",
       "      <td>0.093821</td>\n",
       "      <td>0.528213</td>\n",
       "      <td>0.151013</td>\n",
       "      <td>0.058098</td>\n",
       "      <td>0.046324</td>\n",
       "      <td>0.154233</td>\n",
       "      <td>0.124211</td>\n",
       "      <td>0.358651</td>\n",
       "      <td>0</td>\n",
       "    </tr>\n",
       "    <tr>\n",
       "      <th>58</th>\n",
       "      <td>0.743869</td>\n",
       "      <td>0.639229</td>\n",
       "      <td>0.457658</td>\n",
       "      <td>0.318895</td>\n",
       "      <td>0.347588</td>\n",
       "      <td>0.640209</td>\n",
       "      <td>0.361036</td>\n",
       "      <td>0.381104</td>\n",
       "      <td>0.870606</td>\n",
       "      <td>0.105415</td>\n",
       "      <td>...</td>\n",
       "      <td>0.176589</td>\n",
       "      <td>0.124650</td>\n",
       "      <td>1.000000</td>\n",
       "      <td>0.232066</td>\n",
       "      <td>0.061233</td>\n",
       "      <td>0.222689</td>\n",
       "      <td>0.104068</td>\n",
       "      <td>0.090735</td>\n",
       "      <td>0.440557</td>\n",
       "      <td>0</td>\n",
       "    </tr>\n",
       "    <tr>\n",
       "      <th>59</th>\n",
       "      <td>0.123193</td>\n",
       "      <td>0.067561</td>\n",
       "      <td>0.074120</td>\n",
       "      <td>0.167837</td>\n",
       "      <td>0.273009</td>\n",
       "      <td>0.492526</td>\n",
       "      <td>0.047788</td>\n",
       "      <td>0.376130</td>\n",
       "      <td>0.136215</td>\n",
       "      <td>0.229931</td>\n",
       "      <td>...</td>\n",
       "      <td>0.064933</td>\n",
       "      <td>0.145100</td>\n",
       "      <td>0.411625</td>\n",
       "      <td>0.270568</td>\n",
       "      <td>0.081641</td>\n",
       "      <td>0.051264</td>\n",
       "      <td>0.132042</td>\n",
       "      <td>0.561435</td>\n",
       "      <td>0.241474</td>\n",
       "      <td>1</td>\n",
       "    </tr>\n",
       "    <tr>\n",
       "      <th>60</th>\n",
       "      <td>0.173495</td>\n",
       "      <td>0.190307</td>\n",
       "      <td>0.178738</td>\n",
       "      <td>0.127049</td>\n",
       "      <td>0.162637</td>\n",
       "      <td>0.140320</td>\n",
       "      <td>0.207352</td>\n",
       "      <td>0.277791</td>\n",
       "      <td>0.197747</td>\n",
       "      <td>0.033499</td>\n",
       "      <td>...</td>\n",
       "      <td>0.232545</td>\n",
       "      <td>0.176325</td>\n",
       "      <td>0.453728</td>\n",
       "      <td>0.251106</td>\n",
       "      <td>0.012877</td>\n",
       "      <td>0.094722</td>\n",
       "      <td>0.183857</td>\n",
       "      <td>0.076827</td>\n",
       "      <td>0.296744</td>\n",
       "      <td>0</td>\n",
       "    </tr>\n",
       "    <tr>\n",
       "      <th>61</th>\n",
       "      <td>0.241846</td>\n",
       "      <td>0.187715</td>\n",
       "      <td>0.204196</td>\n",
       "      <td>0.198885</td>\n",
       "      <td>0.302501</td>\n",
       "      <td>0.675927</td>\n",
       "      <td>0.149807</td>\n",
       "      <td>0.257749</td>\n",
       "      <td>0.233515</td>\n",
       "      <td>0.441004</td>\n",
       "      <td>...</td>\n",
       "      <td>0.165357</td>\n",
       "      <td>0.098880</td>\n",
       "      <td>0.218666</td>\n",
       "      <td>0.194769</td>\n",
       "      <td>0.098589</td>\n",
       "      <td>0.106888</td>\n",
       "      <td>0.084946</td>\n",
       "      <td>0.559355</td>\n",
       "      <td>0.189391</td>\n",
       "      <td>1</td>\n",
       "    </tr>\n",
       "  </tbody>\n",
       "</table>\n",
       "<p>62 rows × 101 columns</p>\n",
       "</div>"
      ],
      "text/plain": [
       "           0         1         2         3         4         5         6  \\\n",
       "0   0.226833  0.144327  0.257154  0.360224  0.158487  0.232761  0.353814   \n",
       "1   0.192283  0.106237  0.149160  0.374889  0.324886  0.556309  0.274228   \n",
       "2   0.074425  0.006939  0.021789  0.158586  0.058059  0.043173  0.133084   \n",
       "3   0.152732  0.111560  0.083659  0.300870  0.066737  0.051016  0.218904   \n",
       "4   0.240615  0.275571  0.346041  0.043132  0.136095  0.179048  0.082102   \n",
       "..       ...       ...       ...       ...       ...       ...       ...   \n",
       "57  0.172133  0.121783  0.166454  0.122950  0.141156  0.084149  0.087427   \n",
       "58  0.743869  0.639229  0.457658  0.318895  0.347588  0.640209  0.361036   \n",
       "59  0.123193  0.067561  0.074120  0.167837  0.273009  0.492526  0.047788   \n",
       "60  0.173495  0.190307  0.178738  0.127049  0.162637  0.140320  0.207352   \n",
       "61  0.241846  0.187715  0.204196  0.198885  0.302501  0.675927  0.149807   \n",
       "\n",
       "           7         8         9  ...        91        92        93        94  \\\n",
       "0   0.301620  0.166032  0.143776  ...  0.060051  0.072978  0.319589  0.220026   \n",
       "1   0.410153  0.208671  0.599414  ...  0.086168  0.083198  0.499501  0.329200   \n",
       "2   0.108303  0.179049  0.040444  ...  0.040924  0.039915  0.505447  0.131844   \n",
       "3   0.239529  0.276822  0.183142  ...  0.072250  0.050500  0.633112  0.323711   \n",
       "4   0.202575  0.427437  0.139515  ...  0.319870  0.101336  0.301104  0.145378   \n",
       "..       ...       ...       ...  ...       ...       ...       ...       ...   \n",
       "57  0.284751  0.307772  0.011276  ...  0.069847  0.093821  0.528213  0.151013   \n",
       "58  0.381104  0.870606  0.105415  ...  0.176589  0.124650  1.000000  0.232066   \n",
       "59  0.376130  0.136215  0.229931  ...  0.064933  0.145100  0.411625  0.270568   \n",
       "60  0.277791  0.197747  0.033499  ...  0.232545  0.176325  0.453728  0.251106   \n",
       "61  0.257749  0.233515  0.441004  ...  0.165357  0.098880  0.218666  0.194769   \n",
       "\n",
       "          95        96        97        98        99  label  \n",
       "0   0.076063  0.042616  0.177444  0.111250  0.357061      0  \n",
       "1   0.132933  0.058226  0.207951  0.900318  0.295018      1  \n",
       "2   0.048352  0.023482  0.034773  0.227528  0.137021      0  \n",
       "3   0.080622  0.011110  0.070869  0.397518  0.247340      1  \n",
       "4   0.037923  0.102840  0.098693  0.049903  0.053843      0  \n",
       "..       ...       ...       ...       ...       ...    ...  \n",
       "57  0.058098  0.046324  0.154233  0.124211  0.358651      0  \n",
       "58  0.061233  0.222689  0.104068  0.090735  0.440557      0  \n",
       "59  0.081641  0.051264  0.132042  0.561435  0.241474      1  \n",
       "60  0.012877  0.094722  0.183857  0.076827  0.296744      0  \n",
       "61  0.098589  0.106888  0.084946  0.559355  0.189391      1  \n",
       "\n",
       "[62 rows x 101 columns]"
      ]
     },
     "execution_count": 9,
     "metadata": {},
     "output_type": "execute_result"
    }
   ],
   "source": [
    "# Feature Selection using Mutual Information\n",
    "data_X = data_new_colon.drop(['label'],axis=1)\n",
    "data_Y = data_new_colon['label']\n",
    "\n",
    "X_train, X_test, Y_train, Y_test = train_test_split(data_X, data_Y, test_size=0.3, random_state=0)\n",
    "\n",
    "sel_k_best = SelectKBest(mutual_info_classif, k=100)\n",
    "sel_k_best.fit(data_X, data_Y)\n",
    "data_X_new = sel_k_best.transform(data_X)\n",
    "\n",
    "Colon_IG = pd.DataFrame(data_X_new)\n",
    "Colon_IG['label'] = data_Y\n",
    "useddata_colon = Colon_IG\n",
    "print(useddata_colon.shape)\n",
    "Colon_IG"
   ]
  },
  {
   "cell_type": "markdown",
   "metadata": {
    "id": "PQoKkj8-OIPX"
   },
   "source": [
    "# 4. Classification"
   ]
  },
  {
   "cell_type": "markdown",
   "metadata": {
    "id": "8cBEOT9AUK_A"
   },
   "source": [
    "## Colon + IG"
   ]
  },
  {
   "cell_type": "code",
   "execution_count": 10,
   "metadata": {
    "colab": {
     "base_uri": "https://localhost:8080/"
    },
    "id": "WGXWrN3W_8UP",
    "outputId": "6ba65e20-f296-4923-f21b-6e985abb5126"
   },
   "outputs": [
    {
     "name": "stdout",
     "output_type": "stream",
     "text": [
      "Train : [ 1  2  4  5  6  7  8  9 10 11 13 14 16 17 18 19 23 25 26 27 29 30 31 32\n",
      " 33 34 36 37 38 39 40 41 43 44 45 46 48 49 50 51 52 53 54 55 57 58 59 60\n",
      " 61] Test : [ 0  3 12 15 20 21 22 24 28 35 42 47 56]\n",
      "Y_Train : [1 0 0 1 0 1 0 1 0 1 1 0 0 1 0 1 1 0 0 0 0 0 0 0 0 0 0 0 1 0 0 1 0 0 0 0 0\n",
      " 1 1 0 0 1 1 0 0 0 1 0 1]\n",
      "Y_Test : [0 1 0 1 0 1 0 0 0 0 1 1 0]\n",
      "Akurasi :  0.9230769230769231\n",
      "F1_Score :  0.9150326797385622\n",
      "              precision    recall  f1-score   support\n",
      "\n",
      "           0       0.89      1.00      0.94         8\n",
      "           1       1.00      0.80      0.89         5\n",
      "\n",
      "    accuracy                           0.92        13\n",
      "   macro avg       0.94      0.90      0.92        13\n",
      "weighted avg       0.93      0.92      0.92        13\n",
      "\n"
     ]
    },
    {
     "data": {
      "image/png": "[encoded data removed]",
      "text/plain": [
       "<Figure size 360x360 with 1 Axes>"
      ]
     },
     "metadata": {
      "needs_background": "light"
     },
     "output_type": "display_data"
    },
    {
     "name": "stdout",
     "output_type": "stream",
     "text": [
      "Train : [ 0  1  2  3  4  5  6  7 11 12 13 14 15 16 17 19 20 21 22 24 25 26 27 28\n",
      " 29 31 32 33 34 35 36 37 40 42 43 45 46 47 48 49 51 52 53 54 55 56 58 59\n",
      " 61] Test : [ 8  9 10 18 23 30 38 39 41 44 50 57 60]\n",
      "Y_Train : [0 1 0 1 0 1 0 1 1 0 1 0 1 0 1 1 0 1 0 0 0 0 0 0 0 0 0 0 0 0 0 0 0 1 0 0 0\n",
      " 1 0 1 0 0 1 1 0 0 0 1 1]\n",
      "Y_Test : [0 1 0 0 1 0 1 0 1 0 1 0 0]\n",
      "Akurasi :  0.8461538461538461\n",
      "F1_Score :  0.8375000000000001\n",
      "              precision    recall  f1-score   support\n",
      "\n",
      "           0       0.88      0.88      0.88         8\n",
      "           1       0.80      0.80      0.80         5\n",
      "\n",
      "    accuracy                           0.85        13\n",
      "   macro avg       0.84      0.84      0.84        13\n",
      "weighted avg       0.85      0.85      0.85        13\n",
      "\n"
     ]
    },
    {
     "data": {
      "image/png": "[encoded data removed]",
      "text/plain": [
       "<Figure size 360x360 with 1 Axes>"
      ]
     },
     "metadata": {
      "needs_background": "light"
     },
     "output_type": "display_data"
    },
    {
     "name": "stdout",
     "output_type": "stream",
     "text": [
      "Train : [ 0  1  2  3  4  5  6  7  8  9 10 11 12 13 14 15 16 17 18 20 21 22 23 24\n",
      " 27 28 30 31 35 37 38 39 40 41 42 43 44 45 47 48 49 50 51 52 55 56 57 58\n",
      " 60 61] Test : [19 25 26 29 32 33 34 36 46 53 54 59]\n",
      "Y_Train : [0 1 0 1 0 1 0 1 0 1 0 1 0 1 0 1 0 1 0 0 1 0 1 0 0 0 0 0 0 0 1 0 0 1 1 0 0\n",
      " 0 1 0 1 1 0 0 0 0 0 0 0 1]\n",
      "Y_Test : [1 0 0 0 0 0 0 0 0 1 1 1]\n",
      "Akurasi :  0.9166666666666666\n",
      "F1_Score :  0.8991596638655461\n",
      "              precision    recall  f1-score   support\n",
      "\n",
      "           0       0.89      1.00      0.94         8\n",
      "           1       1.00      0.75      0.86         4\n",
      "\n",
      "    accuracy                           0.92        12\n",
      "   macro avg       0.94      0.88      0.90        12\n",
      "weighted avg       0.93      0.92      0.91        12\n",
      "\n"
     ]
    },
    {
     "data": {
      "image/png": "[encoded data removed]",
      "text/plain": [
       "<Figure size 360x360 with 1 Axes>"
      ]
     },
     "metadata": {
      "needs_background": "light"
     },
     "output_type": "display_data"
    },
    {
     "name": "stdout",
     "output_type": "stream",
     "text": [
      "Train : [ 0  1  3  4  5  8  9 10 12 15 17 18 19 20 21 22 23 24 25 26 27 28 29 30\n",
      " 31 32 33 34 35 36 37 38 39 40 41 42 43 44 46 47 48 50 53 54 56 57 58 59\n",
      " 60 61] Test : [ 2  6  7 11 13 14 16 45 49 51 52 55]\n",
      "Y_Train : [0 1 1 0 1 0 1 0 0 1 1 0 1 0 1 0 1 0 0 0 0 0 0 0 0 0 0 0 0 0 0 1 0 0 1 1 0\n",
      " 0 0 1 0 1 1 1 0 0 0 1 0 1]\n",
      "Y_Test : [0 0 1 1 1 0 0 0 1 0 0 0]\n",
      "Akurasi :  0.8333333333333334\n",
      "F1_Score :  0.8285714285714285\n",
      "              precision    recall  f1-score   support\n",
      "\n",
      "           0       1.00      0.75      0.86         8\n",
      "           1       0.67      1.00      0.80         4\n",
      "\n",
      "    accuracy                           0.83        12\n",
      "   macro avg       0.83      0.88      0.83        12\n",
      "weighted avg       0.89      0.83      0.84        12\n",
      "\n"
     ]
    },
    {
     "data": {
      "image/png": "[encoded data removed]",
      "text/plain": [
       "<Figure size 360x360 with 1 Axes>"
      ]
     },
     "metadata": {
      "needs_background": "light"
     },
     "output_type": "display_data"
    },
    {
     "name": "stdout",
     "output_type": "stream",
     "text": [
      "Train : [ 0  2  3  6  7  8  9 10 11 12 13 14 15 16 18 19 20 21 22 23 24 25 26 28\n",
      " 29 30 32 33 34 35 36 38 39 41 42 44 45 46 47 49 50 51 52 53 54 55 56 57\n",
      " 59 60] Test : [ 1  4  5 17 27 31 37 40 43 48 58 61]\n",
      "Y_Train : [0 0 1 0 1 0 1 0 1 0 1 0 1 0 0 1 0 1 0 1 0 0 0 0 0 0 0 0 0 0 0 1 0 1 1 0 0\n",
      " 0 1 1 1 0 0 1 1 0 0 0 1 0]\n",
      "Y_Test : [1 0 1 1 0 0 0 0 0 0 0 1]\n",
      "Akurasi :  0.9166666666666666\n",
      "F1_Score :  0.9111111111111112\n",
      "              precision    recall  f1-score   support\n",
      "\n",
      "           0       1.00      0.88      0.93         8\n",
      "           1       0.80      1.00      0.89         4\n",
      "\n",
      "    accuracy                           0.92        12\n",
      "   macro avg       0.90      0.94      0.91        12\n",
      "weighted avg       0.93      0.92      0.92        12\n",
      "\n"
     ]
    },
    {
     "data": {
      "image/png": "[encoded data removed]",
      "text/plain": [
       "<Figure size 360x360 with 1 Axes>"
      ]
     },
     "metadata": {
      "needs_background": "light"
     },
     "output_type": "display_data"
    },
    {
     "name": "stdout",
     "output_type": "stream",
     "text": [
      "avg accuraccy Colon cancer =  0.8871794871794872\n",
      "avg F1_Score Colon cancer =  0.8782749766573297\n",
      "max accuraccy Colon cancer =  0.9230769230769231\n",
      "max F1_Score Colon cancer =  0.9150326797385622\n",
      "min accuraccy Colon cancer =  0.8333333333333334\n",
      "min F1_Score Colon cancer =  0.8285714285714285\n",
      "Running Time:  31.416545857999154\n"
     ]
    },
    {
     "data": {
      "text/plain": [
       "(0.8871794871794872, 0.8782749766573297)"
      ]
     },
     "execution_count": 10,
     "metadata": {},
     "output_type": "execute_result"
    }
   ],
   "source": [
    "FLNN_Classifier(Colon_IG,\"Colon cancer\",2)"
   ]
  },
  {
   "cell_type": "code",
   "execution_count": 11,
   "metadata": {
    "colab": {
     "background_save": true,
     "base_uri": "https://localhost:8080/"
    },
    "id": "KJLw_Sua_8h-",
    "outputId": "58b7a8a7-223d-4e8f-b865-4825f3b9de95"
   },
   "outputs": [
    {
     "name": "stdout",
     "output_type": "stream",
     "text": [
      "Train : [ 1  2  4  5  6  7  8  9 10 11 13 14 16 17 18 19 23 25 26 27 29 30 31 32\n",
      " 33 34 36 37 38 39 40 41 43 44 45 46 48 49 50 51 52 53 54 55 57 58 59 60\n",
      " 61] Test : [ 0  3 12 15 20 21 22 24 28 35 42 47 56]\n",
      "Y_Train : [1 0 0 1 0 1 0 1 0 1 1 0 0 1 0 1 1 0 0 0 0 0 0 0 0 0 0 0 1 0 0 1 0 0 0 0 0\n",
      " 1 1 0 0 1 1 0 0 0 1 0 1]\n",
      "Y_Test : [0 1 0 1 0 1 0 0 0 0 1 1 0]\n",
      "Akurasi :  0.8461538461538461\n",
      "F1_Score :  0.8194444444444444\n",
      "              precision    recall  f1-score   support\n",
      "\n",
      "           0       0.80      1.00      0.89         8\n",
      "           1       1.00      0.60      0.75         5\n",
      "\n",
      "    accuracy                           0.85        13\n",
      "   macro avg       0.90      0.80      0.82        13\n",
      "weighted avg       0.88      0.85      0.84        13\n",
      "\n"
     ]
    },
    {
     "data": {
      "image/png": "[encoded data removed]",
      "text/plain": [
       "<Figure size 360x360 with 1 Axes>"
      ]
     },
     "metadata": {
      "needs_background": "light"
     },
     "output_type": "display_data"
    },
    {
     "name": "stdout",
     "output_type": "stream",
     "text": [
      "Train : [ 0  1  2  3  4  5  6  7 11 12 13 14 15 16 17 19 20 21 22 24 25 26 27 28\n",
      " 29 31 32 33 34 35 36 37 40 42 43 45 46 47 48 49 51 52 53 54 55 56 58 59\n",
      " 61] Test : [ 8  9 10 18 23 30 38 39 41 44 50 57 60]\n",
      "Y_Train : [0 1 0 1 0 1 0 1 1 0 1 0 1 0 1 1 0 1 0 0 0 0 0 0 0 0 0 0 0 0 0 0 0 1 0 0 0\n",
      " 1 0 1 0 0 1 1 0 0 0 1 1]\n",
      "Y_Test : [0 1 0 0 1 0 1 0 1 0 1 0 0]\n",
      "Akurasi :  0.8461538461538461\n",
      "F1_Score :  0.8375000000000001\n",
      "              precision    recall  f1-score   support\n",
      "\n",
      "           0       0.88      0.88      0.88         8\n",
      "           1       0.80      0.80      0.80         5\n",
      "\n",
      "    accuracy                           0.85        13\n",
      "   macro avg       0.84      0.84      0.84        13\n",
      "weighted avg       0.85      0.85      0.85        13\n",
      "\n"
     ]
    },
    {
     "data": {
      "image/png": "[encoded data removed]",
      "text/plain": [
       "<Figure size 360x360 with 1 Axes>"
      ]
     },
     "metadata": {
      "needs_background": "light"
     },
     "output_type": "display_data"
    },
    {
     "name": "stdout",
     "output_type": "stream",
     "text": [
      "Train : [ 0  1  2  3  4  5  6  7  8  9 10 11 12 13 14 15 16 17 18 20 21 22 23 24\n",
      " 27 28 30 31 35 37 38 39 40 41 42 43 44 45 47 48 49 50 51 52 55 56 57 58\n",
      " 60 61] Test : [19 25 26 29 32 33 34 36 46 53 54 59]\n",
      "Y_Train : [0 1 0 1 0 1 0 1 0 1 0 1 0 1 0 1 0 1 0 0 1 0 1 0 0 0 0 0 0 0 1 0 0 1 1 0 0\n",
      " 0 1 0 1 1 0 0 0 0 0 0 0 1]\n",
      "Y_Test : [1 0 0 0 0 0 0 0 0 1 1 1]\n",
      "Akurasi :  0.9166666666666666\n",
      "F1_Score :  0.8991596638655461\n",
      "              precision    recall  f1-score   support\n",
      "\n",
      "           0       0.89      1.00      0.94         8\n",
      "           1       1.00      0.75      0.86         4\n",
      "\n",
      "    accuracy                           0.92        12\n",
      "   macro avg       0.94      0.88      0.90        12\n",
      "weighted avg       0.93      0.92      0.91        12\n",
      "\n"
     ]
    },
    {
     "data": {
      "image/png": "[encoded data removed]",
      "text/plain": [
       "<Figure size 360x360 with 1 Axes>"
      ]
     },
     "metadata": {
      "needs_background": "light"
     },
     "output_type": "display_data"
    },
    {
     "name": "stdout",
     "output_type": "stream",
     "text": [
      "Train : [ 0  1  3  4  5  8  9 10 12 15 17 18 19 20 21 22 23 24 25 26 27 28 29 30\n",
      " 31 32 33 34 35 36 37 38 39 40 41 42 43 44 46 47 48 50 53 54 56 57 58 59\n",
      " 60 61] Test : [ 2  6  7 11 13 14 16 45 49 51 52 55]\n",
      "Y_Train : [0 1 1 0 1 0 1 0 0 1 1 0 1 0 1 0 1 0 0 0 0 0 0 0 0 0 0 0 0 0 0 1 0 0 1 1 0\n",
      " 0 0 1 0 1 1 1 0 0 0 1 0 1]\n",
      "Y_Test : [0 0 1 1 1 0 0 0 1 0 0 0]\n",
      "Akurasi :  0.8333333333333334\n",
      "F1_Score :  0.8285714285714285\n",
      "              precision    recall  f1-score   support\n",
      "\n",
      "           0       1.00      0.75      0.86         8\n",
      "           1       0.67      1.00      0.80         4\n",
      "\n",
      "    accuracy                           0.83        12\n",
      "   macro avg       0.83      0.88      0.83        12\n",
      "weighted avg       0.89      0.83      0.84        12\n",
      "\n"
     ]
    },
    {
     "data": {
      "image/png": "[encoded data removed]",
      "text/plain": [
       "<Figure size 360x360 with 1 Axes>"
      ]
     },
     "metadata": {
      "needs_background": "light"
     },
     "output_type": "display_data"
    },
    {
     "name": "stdout",
     "output_type": "stream",
     "text": [
      "Train : [ 0  2  3  6  7  8  9 10 11 12 13 14 15 16 18 19 20 21 22 23 24 25 26 28\n",
      " 29 30 32 33 34 35 36 38 39 41 42 44 45 46 47 49 50 51 52 53 54 55 56 57\n",
      " 59 60] Test : [ 1  4  5 17 27 31 37 40 43 48 58 61]\n",
      "Y_Train : [0 0 1 0 1 0 1 0 1 0 1 0 1 0 0 1 0 1 0 1 0 0 0 0 0 0 0 0 0 0 0 1 0 1 1 0 0\n",
      " 0 1 1 1 0 0 1 1 0 0 0 1 0]\n",
      "Y_Test : [1 0 1 1 0 0 0 0 0 0 0 1]\n",
      "Akurasi :  0.9166666666666666\n",
      "F1_Score :  0.9111111111111112\n",
      "              precision    recall  f1-score   support\n",
      "\n",
      "           0       1.00      0.88      0.93         8\n",
      "           1       0.80      1.00      0.89         4\n",
      "\n",
      "    accuracy                           0.92        12\n",
      "   macro avg       0.90      0.94      0.91        12\n",
      "weighted avg       0.93      0.92      0.92        12\n",
      "\n"
     ]
    },
    {
     "data": {
      "image/png": "[encoded data removed]",
      "text/plain": [
       "<Figure size 360x360 with 1 Axes>"
      ]
     },
     "metadata": {
      "needs_background": "light"
     },
     "output_type": "display_data"
    },
    {
     "name": "stdout",
     "output_type": "stream",
     "text": [
      "avg accuraccy Colon cancer =  0.8717948717948719\n",
      "avg F1_Score Colon cancer =  0.8591573295985061\n",
      "max accuraccy Colon cancer =  0.9166666666666666\n",
      "max F1_Score Colon cancer =  0.9111111111111112\n",
      "min accuraccy Colon cancer =  0.8333333333333334\n",
      "min F1_Score Colon cancer =  0.8194444444444444\n",
      "Running Time:  33.35502793199885\n"
     ]
    },
    {
     "data": {
      "text/plain": [
       "(0.8717948717948719, 0.8591573295985061)"
      ]
     },
     "execution_count": 11,
     "metadata": {},
     "output_type": "execute_result"
    }
   ],
   "source": [
    "FLNN_Classifier(Colon_IG,\"Colon cancer\",3)"
   ]
  },
  {
   "cell_type": "code",
   "execution_count": 12,
   "metadata": {
    "colab": {
     "base_uri": "https://localhost:8080/",
     "height": 1000
    },
    "id": "6G4mIRIw0xNU",
    "outputId": "64030269-3450-4e9b-f78d-eca4e384da8f"
   },
   "outputs": [
    {
     "name": "stdout",
     "output_type": "stream",
     "text": [
      "Train : [ 1  2  4  5  6  7  8  9 10 11 13 14 16 17 18 19 23 25 26 27 29 30 31 32\n",
      " 33 34 36 37 38 39 40 41 43 44 45 46 48 49 50 51 52 53 54 55 57 58 59 60\n",
      " 61] Test : [ 0  3 12 15 20 21 22 24 28 35 42 47 56]\n",
      "Y_Train : [1 0 0 1 0 1 0 1 0 1 1 0 0 1 0 1 1 0 0 0 0 0 0 0 0 0 0 0 1 0 0 1 0 0 0 0 0\n",
      " 1 1 0 0 1 1 0 0 0 1 0 1]\n",
      "Y_Test : [0 1 0 1 0 1 0 0 0 0 1 1 0]\n",
      "Akurasi :  0.8461538461538461\n",
      "F1_Score :  0.8194444444444444\n",
      "              precision    recall  f1-score   support\n",
      "\n",
      "           0       0.80      1.00      0.89         8\n",
      "           1       1.00      0.60      0.75         5\n",
      "\n",
      "    accuracy                           0.85        13\n",
      "   macro avg       0.90      0.80      0.82        13\n",
      "weighted avg       0.88      0.85      0.84        13\n",
      "\n"
     ]
    },
    {
     "data": {
      "image/png": "[encoded data removed]",
      "text/plain": [
       "<Figure size 360x360 with 1 Axes>"
      ]
     },
     "metadata": {
      "needs_background": "light"
     },
     "output_type": "display_data"
    },
    {
     "name": "stdout",
     "output_type": "stream",
     "text": [
      "Train : [ 0  1  2  3  4  5  6  7 11 12 13 14 15 16 17 19 20 21 22 24 25 26 27 28\n",
      " 29 31 32 33 34 35 36 37 40 42 43 45 46 47 48 49 51 52 53 54 55 56 58 59\n",
      " 61] Test : [ 8  9 10 18 23 30 38 39 41 44 50 57 60]\n",
      "Y_Train : [0 1 0 1 0 1 0 1 1 0 1 0 1 0 1 1 0 1 0 0 0 0 0 0 0 0 0 0 0 0 0 0 0 1 0 0 0\n",
      " 1 0 1 0 0 1 1 0 0 0 1 1]\n",
      "Y_Test : [0 1 0 0 1 0 1 0 1 0 1 0 0]\n",
      "Akurasi :  0.7692307692307693\n",
      "F1_Score :  0.7450980392156863\n",
      "              precision    recall  f1-score   support\n",
      "\n",
      "           0       0.78      0.88      0.82         8\n",
      "           1       0.75      0.60      0.67         5\n",
      "\n",
      "    accuracy                           0.77        13\n",
      "   macro avg       0.76      0.74      0.75        13\n",
      "weighted avg       0.77      0.77      0.76        13\n",
      "\n"
     ]
    },
    {
     "data": {
      "image/png": "[encoded data removed]",
      "text/plain": [
       "<Figure size 360x360 with 1 Axes>"
      ]
     },
     "metadata": {
      "needs_background": "light"
     },
     "output_type": "display_data"
    },
    {
     "name": "stdout",
     "output_type": "stream",
     "text": [
      "Train : [ 0  1  2  3  4  5  6  7  8  9 10 11 12 13 14 15 16 17 18 20 21 22 23 24\n",
      " 27 28 30 31 35 37 38 39 40 41 42 43 44 45 47 48 49 50 51 52 55 56 57 58\n",
      " 60 61] Test : [19 25 26 29 32 33 34 36 46 53 54 59]\n",
      "Y_Train : [0 1 0 1 0 1 0 1 0 1 0 1 0 1 0 1 0 1 0 0 1 0 1 0 0 0 0 0 0 0 1 0 0 1 1 0 0\n",
      " 0 1 0 1 1 0 0 0 0 0 0 0 1]\n",
      "Y_Test : [1 0 0 0 0 0 0 0 0 1 1 1]\n",
      "Akurasi :  0.9166666666666666\n",
      "F1_Score :  0.8991596638655461\n",
      "              precision    recall  f1-score   support\n",
      "\n",
      "           0       0.89      1.00      0.94         8\n",
      "           1       1.00      0.75      0.86         4\n",
      "\n",
      "    accuracy                           0.92        12\n",
      "   macro avg       0.94      0.88      0.90        12\n",
      "weighted avg       0.93      0.92      0.91        12\n",
      "\n"
     ]
    },
    {
     "data": {
      "image/png": "[encoded data removed]",
      "text/plain": [
       "<Figure size 360x360 with 1 Axes>"
      ]
     },
     "metadata": {
      "needs_background": "light"
     },
     "output_type": "display_data"
    },
    {
     "name": "stdout",
     "output_type": "stream",
     "text": [
      "Train : [ 0  1  3  4  5  8  9 10 12 15 17 18 19 20 21 22 23 24 25 26 27 28 29 30\n",
      " 31 32 33 34 35 36 37 38 39 40 41 42 43 44 46 47 48 50 53 54 56 57 58 59\n",
      " 60 61] Test : [ 2  6  7 11 13 14 16 45 49 51 52 55]\n",
      "Y_Train : [0 1 1 0 1 0 1 0 0 1 1 0 1 0 1 0 1 0 0 0 0 0 0 0 0 0 0 0 0 0 0 1 0 0 1 1 0\n",
      " 0 0 1 0 1 1 1 0 0 0 1 0 1]\n",
      "Y_Test : [0 0 1 1 1 0 0 0 1 0 0 0]\n",
      "Akurasi :  0.8333333333333334\n",
      "F1_Score :  0.8285714285714285\n",
      "              precision    recall  f1-score   support\n",
      "\n",
      "           0       1.00      0.75      0.86         8\n",
      "           1       0.67      1.00      0.80         4\n",
      "\n",
      "    accuracy                           0.83        12\n",
      "   macro avg       0.83      0.88      0.83        12\n",
      "weighted avg       0.89      0.83      0.84        12\n",
      "\n"
     ]
    },
    {
     "data": {
      "image/png": "[encoded data removed]",
      "text/plain": [
       "<Figure size 360x360 with 1 Axes>"
      ]
     },
     "metadata": {
      "needs_background": "light"
     },
     "output_type": "display_data"
    },
    {
     "name": "stdout",
     "output_type": "stream",
     "text": [
      "Train : [ 0  2  3  6  7  8  9 10 11 12 13 14 15 16 18 19 20 21 22 23 24 25 26 28\n",
      " 29 30 32 33 34 35 36 38 39 41 42 44 45 46 47 49 50 51 52 53 54 55 56 57\n",
      " 59 60] Test : [ 1  4  5 17 27 31 37 40 43 48 58 61]\n"
     ]
    },
    {
     "ename": "KeyboardInterrupt",
     "evalue": "",
     "output_type": "error",
     "traceback": [
      "\u001b[0;31m---------------------------------------------------------------------------\u001b[0m",
      "\u001b[0;31mKeyboardInterrupt\u001b[0m                         Traceback (most recent call last)",
      "\u001b[0;32m<ipython-input-12-139d32c6a5b6>\u001b[0m in \u001b[0;36m<module>\u001b[0;34m\u001b[0m\n\u001b[0;32m----> 1\u001b[0;31m \u001b[0mFLNN_Classifier\u001b[0m\u001b[0;34m(\u001b[0m\u001b[0mColon_IG\u001b[0m\u001b[0;34m,\u001b[0m\u001b[0;34m\"Colon cancer\"\u001b[0m\u001b[0;34m,\u001b[0m\u001b[0;36m4\u001b[0m\u001b[0;34m)\u001b[0m\u001b[0;34m\u001b[0m\u001b[0;34m\u001b[0m\u001b[0m\n\u001b[0m",
      "\u001b[0;32m<ipython-input-6-202badbfad58>\u001b[0m in \u001b[0;36mFLNN_Classifier\u001b[0;34m(dataset, cancer_name, orde)\u001b[0m\n\u001b[1;32m     32\u001b[0m     \u001b[0mModel\u001b[0m\u001b[0;34m.\u001b[0m\u001b[0mcompile\u001b[0m\u001b[0;34m(\u001b[0m\u001b[0moptimizer\u001b[0m \u001b[0;34m=\u001b[0m \u001b[0mAdam\u001b[0m\u001b[0;34m(\u001b[0m\u001b[0mlearning_rate\u001b[0m\u001b[0;34m=\u001b[0m\u001b[0;36m0.001\u001b[0m\u001b[0;34m)\u001b[0m\u001b[0;34m,\u001b[0m \u001b[0mloss\u001b[0m \u001b[0;34m=\u001b[0m \u001b[0;34m'binary_crossentropy'\u001b[0m\u001b[0;34m,\u001b[0m \u001b[0mmetrics\u001b[0m \u001b[0;34m=\u001b[0m \u001b[0;34m[\u001b[0m\u001b[0;34m'accuracy'\u001b[0m\u001b[0;34m]\u001b[0m\u001b[0;34m)\u001b[0m\u001b[0;34m\u001b[0m\u001b[0;34m\u001b[0m\u001b[0m\n\u001b[1;32m     33\u001b[0m     \u001b[0;31m# Fitting ANN ke training set\u001b[0m\u001b[0;34m\u001b[0m\u001b[0;34m\u001b[0m\u001b[0;34m\u001b[0m\u001b[0m\n\u001b[0;32m---> 34\u001b[0;31m     \u001b[0mhistory\u001b[0m \u001b[0;34m=\u001b[0m \u001b[0mModel\u001b[0m\u001b[0;34m.\u001b[0m\u001b[0mfit\u001b[0m\u001b[0;34m(\u001b[0m\u001b[0mX_train\u001b[0m\u001b[0;34m,\u001b[0m \u001b[0my_train\u001b[0m\u001b[0;34m,\u001b[0m \u001b[0mbatch_size\u001b[0m \u001b[0;34m=\u001b[0m \u001b[0;36m35\u001b[0m\u001b[0;34m,\u001b[0m \u001b[0mepochs\u001b[0m \u001b[0;34m=\u001b[0m \u001b[0;36m100\u001b[0m\u001b[0;34m,\u001b[0m \u001b[0mvalidation_split\u001b[0m \u001b[0;34m=\u001b[0m \u001b[0;36m0.2\u001b[0m\u001b[0;34m,\u001b[0m \u001b[0mverbose\u001b[0m\u001b[0;34m=\u001b[0m\u001b[0;32mFalse\u001b[0m\u001b[0;34m)\u001b[0m\u001b[0;34m\u001b[0m\u001b[0;34m\u001b[0m\u001b[0m\n\u001b[0m\u001b[1;32m     35\u001b[0m \u001b[0;34m\u001b[0m\u001b[0m\n\u001b[1;32m     36\u001b[0m     \u001b[0;31m#Memprediksi hasil test set\u001b[0m\u001b[0;34m\u001b[0m\u001b[0;34m\u001b[0m\u001b[0;34m\u001b[0m\u001b[0m\n",
      "\u001b[0;32m~/.local/lib/python3.8/site-packages/tensorflow/python/keras/engine/training.py\u001b[0m in \u001b[0;36mfit\u001b[0;34m(self, x, y, batch_size, epochs, verbose, callbacks, validation_split, validation_data, shuffle, class_weight, sample_weight, initial_epoch, steps_per_epoch, validation_steps, validation_batch_size, validation_freq, max_queue_size, workers, use_multiprocessing)\u001b[0m\n\u001b[1;32m   1129\u001b[0m                 \u001b[0mmodel\u001b[0m\u001b[0;34m=\u001b[0m\u001b[0mself\u001b[0m\u001b[0;34m,\u001b[0m\u001b[0;34m\u001b[0m\u001b[0;34m\u001b[0m\u001b[0m\n\u001b[1;32m   1130\u001b[0m                 steps_per_execution=self._steps_per_execution)\n\u001b[0;32m-> 1131\u001b[0;31m           val_logs = self.evaluate(\n\u001b[0m\u001b[1;32m   1132\u001b[0m               \u001b[0mx\u001b[0m\u001b[0;34m=\u001b[0m\u001b[0mval_x\u001b[0m\u001b[0;34m,\u001b[0m\u001b[0;34m\u001b[0m\u001b[0;34m\u001b[0m\u001b[0m\n\u001b[1;32m   1133\u001b[0m               \u001b[0my\u001b[0m\u001b[0;34m=\u001b[0m\u001b[0mval_y\u001b[0m\u001b[0;34m,\u001b[0m\u001b[0;34m\u001b[0m\u001b[0;34m\u001b[0m\u001b[0m\n",
      "\u001b[0;32m~/.local/lib/python3.8/site-packages/tensorflow/python/keras/engine/training.py\u001b[0m in \u001b[0;36mevaluate\u001b[0;34m(self, x, y, batch_size, verbose, sample_weight, steps, callbacks, max_queue_size, workers, use_multiprocessing, return_dict)\u001b[0m\n\u001b[1;32m   1347\u001b[0m       \u001b[0;31m# Use cached evaluation data only when it's called in `Model.fit`\u001b[0m\u001b[0;34m\u001b[0m\u001b[0;34m\u001b[0m\u001b[0;34m\u001b[0m\u001b[0m\n\u001b[1;32m   1348\u001b[0m       if (getattr(self, '_fit_frame', None) is not None\n\u001b[0;32m-> 1349\u001b[0;31m           \u001b[0;32mand\u001b[0m \u001b[0mtf_inspect\u001b[0m\u001b[0;34m.\u001b[0m\u001b[0mcurrentframe\u001b[0m\u001b[0;34m(\u001b[0m\u001b[0;34m)\u001b[0m\u001b[0;34m.\u001b[0m\u001b[0mf_back\u001b[0m \u001b[0;32mis\u001b[0m \u001b[0mself\u001b[0m\u001b[0;34m.\u001b[0m\u001b[0m_fit_frame\u001b[0m\u001b[0;34m\u001b[0m\u001b[0;34m\u001b[0m\u001b[0m\n\u001b[0m\u001b[1;32m   1350\u001b[0m           and getattr(self, '_eval_data_handler', None) is not None):\n\u001b[1;32m   1351\u001b[0m         \u001b[0mdata_handler\u001b[0m \u001b[0;34m=\u001b[0m \u001b[0mself\u001b[0m\u001b[0;34m.\u001b[0m\u001b[0m_eval_data_handler\u001b[0m\u001b[0;34m\u001b[0m\u001b[0;34m\u001b[0m\u001b[0m\n",
      "\u001b[0;32m~/.local/lib/python3.8/site-packages/tensorflow/python/keras/utils/tf_inspect.py\u001b[0m in \u001b[0;36mcurrentframe\u001b[0;34m()\u001b[0m\n\u001b[1;32m     93\u001b[0m \u001b[0;32mdef\u001b[0m \u001b[0mcurrentframe\u001b[0m\u001b[0;34m(\u001b[0m\u001b[0;34m)\u001b[0m\u001b[0;34m:\u001b[0m\u001b[0;34m\u001b[0m\u001b[0;34m\u001b[0m\u001b[0m\n\u001b[1;32m     94\u001b[0m   \u001b[0;34m\"\"\"TFDecorator-aware replacement for inspect.currentframe.\"\"\"\u001b[0m\u001b[0;34m\u001b[0m\u001b[0;34m\u001b[0m\u001b[0m\n\u001b[0;32m---> 95\u001b[0;31m   \u001b[0;32mreturn\u001b[0m \u001b[0m_inspect\u001b[0m\u001b[0;34m.\u001b[0m\u001b[0mstack\u001b[0m\u001b[0;34m(\u001b[0m\u001b[0;34m)\u001b[0m\u001b[0;34m[\u001b[0m\u001b[0;36m1\u001b[0m\u001b[0;34m]\u001b[0m\u001b[0;34m[\u001b[0m\u001b[0;36m0\u001b[0m\u001b[0;34m]\u001b[0m\u001b[0;34m\u001b[0m\u001b[0;34m\u001b[0m\u001b[0m\n\u001b[0m\u001b[1;32m     96\u001b[0m \u001b[0;34m\u001b[0m\u001b[0m\n\u001b[1;32m     97\u001b[0m \u001b[0;34m\u001b[0m\u001b[0m\n",
      "\u001b[0;32m/usr/lib/python3.8/inspect.py\u001b[0m in \u001b[0;36mstack\u001b[0;34m(context)\u001b[0m\n\u001b[1;32m   1512\u001b[0m \u001b[0;32mdef\u001b[0m \u001b[0mstack\u001b[0m\u001b[0;34m(\u001b[0m\u001b[0mcontext\u001b[0m\u001b[0;34m=\u001b[0m\u001b[0;36m1\u001b[0m\u001b[0;34m)\u001b[0m\u001b[0;34m:\u001b[0m\u001b[0;34m\u001b[0m\u001b[0;34m\u001b[0m\u001b[0m\n\u001b[1;32m   1513\u001b[0m     \u001b[0;34m\"\"\"Return a list of records for the stack above the caller's frame.\"\"\"\u001b[0m\u001b[0;34m\u001b[0m\u001b[0;34m\u001b[0m\u001b[0m\n\u001b[0;32m-> 1514\u001b[0;31m     \u001b[0;32mreturn\u001b[0m \u001b[0mgetouterframes\u001b[0m\u001b[0;34m(\u001b[0m\u001b[0msys\u001b[0m\u001b[0;34m.\u001b[0m\u001b[0m_getframe\u001b[0m\u001b[0;34m(\u001b[0m\u001b[0;36m1\u001b[0m\u001b[0;34m)\u001b[0m\u001b[0;34m,\u001b[0m \u001b[0mcontext\u001b[0m\u001b[0;34m)\u001b[0m\u001b[0;34m\u001b[0m\u001b[0;34m\u001b[0m\u001b[0m\n\u001b[0m\u001b[1;32m   1515\u001b[0m \u001b[0;34m\u001b[0m\u001b[0m\n\u001b[1;32m   1516\u001b[0m \u001b[0;32mdef\u001b[0m \u001b[0mtrace\u001b[0m\u001b[0;34m(\u001b[0m\u001b[0mcontext\u001b[0m\u001b[0;34m=\u001b[0m\u001b[0;36m1\u001b[0m\u001b[0;34m)\u001b[0m\u001b[0;34m:\u001b[0m\u001b[0;34m\u001b[0m\u001b[0;34m\u001b[0m\u001b[0m\n",
      "\u001b[0;32m/usr/lib/python3.8/inspect.py\u001b[0m in \u001b[0;36mgetouterframes\u001b[0;34m(frame, context)\u001b[0m\n\u001b[1;32m   1489\u001b[0m     \u001b[0mframelist\u001b[0m \u001b[0;34m=\u001b[0m \u001b[0;34m[\u001b[0m\u001b[0;34m]\u001b[0m\u001b[0;34m\u001b[0m\u001b[0;34m\u001b[0m\u001b[0m\n\u001b[1;32m   1490\u001b[0m     \u001b[0;32mwhile\u001b[0m \u001b[0mframe\u001b[0m\u001b[0;34m:\u001b[0m\u001b[0;34m\u001b[0m\u001b[0;34m\u001b[0m\u001b[0m\n\u001b[0;32m-> 1491\u001b[0;31m         \u001b[0mframeinfo\u001b[0m \u001b[0;34m=\u001b[0m \u001b[0;34m(\u001b[0m\u001b[0mframe\u001b[0m\u001b[0;34m,\u001b[0m\u001b[0;34m)\u001b[0m \u001b[0;34m+\u001b[0m \u001b[0mgetframeinfo\u001b[0m\u001b[0;34m(\u001b[0m\u001b[0mframe\u001b[0m\u001b[0;34m,\u001b[0m \u001b[0mcontext\u001b[0m\u001b[0;34m)\u001b[0m\u001b[0;34m\u001b[0m\u001b[0;34m\u001b[0m\u001b[0m\n\u001b[0m\u001b[1;32m   1492\u001b[0m         \u001b[0mframelist\u001b[0m\u001b[0;34m.\u001b[0m\u001b[0mappend\u001b[0m\u001b[0;34m(\u001b[0m\u001b[0mFrameInfo\u001b[0m\u001b[0;34m(\u001b[0m\u001b[0;34m*\u001b[0m\u001b[0mframeinfo\u001b[0m\u001b[0;34m)\u001b[0m\u001b[0;34m)\u001b[0m\u001b[0;34m\u001b[0m\u001b[0;34m\u001b[0m\u001b[0m\n\u001b[1;32m   1493\u001b[0m         \u001b[0mframe\u001b[0m \u001b[0;34m=\u001b[0m \u001b[0mframe\u001b[0m\u001b[0;34m.\u001b[0m\u001b[0mf_back\u001b[0m\u001b[0;34m\u001b[0m\u001b[0;34m\u001b[0m\u001b[0m\n",
      "\u001b[0;32m/usr/lib/python3.8/inspect.py\u001b[0m in \u001b[0;36mgetframeinfo\u001b[0;34m(frame, context)\u001b[0m\n\u001b[1;32m   1459\u001b[0m         \u001b[0;32mraise\u001b[0m \u001b[0mTypeError\u001b[0m\u001b[0;34m(\u001b[0m\u001b[0;34m'{!r} is not a frame or traceback object'\u001b[0m\u001b[0;34m.\u001b[0m\u001b[0mformat\u001b[0m\u001b[0;34m(\u001b[0m\u001b[0mframe\u001b[0m\u001b[0;34m)\u001b[0m\u001b[0;34m)\u001b[0m\u001b[0;34m\u001b[0m\u001b[0;34m\u001b[0m\u001b[0m\n\u001b[1;32m   1460\u001b[0m \u001b[0;34m\u001b[0m\u001b[0m\n\u001b[0;32m-> 1461\u001b[0;31m     \u001b[0mfilename\u001b[0m \u001b[0;34m=\u001b[0m \u001b[0mgetsourcefile\u001b[0m\u001b[0;34m(\u001b[0m\u001b[0mframe\u001b[0m\u001b[0;34m)\u001b[0m \u001b[0;32mor\u001b[0m \u001b[0mgetfile\u001b[0m\u001b[0;34m(\u001b[0m\u001b[0mframe\u001b[0m\u001b[0;34m)\u001b[0m\u001b[0;34m\u001b[0m\u001b[0;34m\u001b[0m\u001b[0m\n\u001b[0m\u001b[1;32m   1462\u001b[0m     \u001b[0;32mif\u001b[0m \u001b[0mcontext\u001b[0m \u001b[0;34m>\u001b[0m \u001b[0;36m0\u001b[0m\u001b[0;34m:\u001b[0m\u001b[0;34m\u001b[0m\u001b[0;34m\u001b[0m\u001b[0m\n\u001b[1;32m   1463\u001b[0m         \u001b[0mstart\u001b[0m \u001b[0;34m=\u001b[0m \u001b[0mlineno\u001b[0m \u001b[0;34m-\u001b[0m \u001b[0;36m1\u001b[0m \u001b[0;34m-\u001b[0m \u001b[0mcontext\u001b[0m\u001b[0;34m//\u001b[0m\u001b[0;36m2\u001b[0m\u001b[0;34m\u001b[0m\u001b[0;34m\u001b[0m\u001b[0m\n",
      "\u001b[0;32m/usr/lib/python3.8/inspect.py\u001b[0m in \u001b[0;36mgetsourcefile\u001b[0;34m(object)\u001b[0m\n\u001b[1;32m    706\u001b[0m         \u001b[0;32mreturn\u001b[0m \u001b[0mfilename\u001b[0m\u001b[0;34m\u001b[0m\u001b[0;34m\u001b[0m\u001b[0m\n\u001b[1;32m    707\u001b[0m     \u001b[0;31m# only return a non-existent filename if the module has a PEP 302 loader\u001b[0m\u001b[0;34m\u001b[0m\u001b[0;34m\u001b[0m\u001b[0;34m\u001b[0m\u001b[0m\n\u001b[0;32m--> 708\u001b[0;31m     \u001b[0;32mif\u001b[0m \u001b[0mgetattr\u001b[0m\u001b[0;34m(\u001b[0m\u001b[0mgetmodule\u001b[0m\u001b[0;34m(\u001b[0m\u001b[0mobject\u001b[0m\u001b[0;34m,\u001b[0m \u001b[0mfilename\u001b[0m\u001b[0;34m)\u001b[0m\u001b[0;34m,\u001b[0m \u001b[0;34m'__loader__'\u001b[0m\u001b[0;34m,\u001b[0m \u001b[0;32mNone\u001b[0m\u001b[0;34m)\u001b[0m \u001b[0;32mis\u001b[0m \u001b[0;32mnot\u001b[0m \u001b[0;32mNone\u001b[0m\u001b[0;34m:\u001b[0m\u001b[0;34m\u001b[0m\u001b[0;34m\u001b[0m\u001b[0m\n\u001b[0m\u001b[1;32m    709\u001b[0m         \u001b[0;32mreturn\u001b[0m \u001b[0mfilename\u001b[0m\u001b[0;34m\u001b[0m\u001b[0;34m\u001b[0m\u001b[0m\n\u001b[1;32m    710\u001b[0m     \u001b[0;31m# or it is in the linecache\u001b[0m\u001b[0;34m\u001b[0m\u001b[0;34m\u001b[0m\u001b[0;34m\u001b[0m\u001b[0m\n",
      "\u001b[0;32m/usr/lib/python3.8/inspect.py\u001b[0m in \u001b[0;36mgetmodule\u001b[0;34m(object, _filename)\u001b[0m\n\u001b[1;32m    743\u001b[0m     \u001b[0;31m# Copy sys.modules in order to cope with changes while iterating\u001b[0m\u001b[0;34m\u001b[0m\u001b[0;34m\u001b[0m\u001b[0;34m\u001b[0m\u001b[0m\n\u001b[1;32m    744\u001b[0m     \u001b[0;32mfor\u001b[0m \u001b[0mmodname\u001b[0m\u001b[0;34m,\u001b[0m \u001b[0mmodule\u001b[0m \u001b[0;32min\u001b[0m \u001b[0msys\u001b[0m\u001b[0;34m.\u001b[0m\u001b[0mmodules\u001b[0m\u001b[0;34m.\u001b[0m\u001b[0mcopy\u001b[0m\u001b[0;34m(\u001b[0m\u001b[0;34m)\u001b[0m\u001b[0;34m.\u001b[0m\u001b[0mitems\u001b[0m\u001b[0;34m(\u001b[0m\u001b[0;34m)\u001b[0m\u001b[0;34m:\u001b[0m\u001b[0;34m\u001b[0m\u001b[0;34m\u001b[0m\u001b[0m\n\u001b[0;32m--> 745\u001b[0;31m         \u001b[0;32mif\u001b[0m \u001b[0mismodule\u001b[0m\u001b[0;34m(\u001b[0m\u001b[0mmodule\u001b[0m\u001b[0;34m)\u001b[0m \u001b[0;32mand\u001b[0m \u001b[0mhasattr\u001b[0m\u001b[0;34m(\u001b[0m\u001b[0mmodule\u001b[0m\u001b[0;34m,\u001b[0m \u001b[0;34m'__file__'\u001b[0m\u001b[0;34m)\u001b[0m\u001b[0;34m:\u001b[0m\u001b[0;34m\u001b[0m\u001b[0;34m\u001b[0m\u001b[0m\n\u001b[0m\u001b[1;32m    746\u001b[0m             \u001b[0mf\u001b[0m \u001b[0;34m=\u001b[0m \u001b[0mmodule\u001b[0m\u001b[0;34m.\u001b[0m\u001b[0m__file__\u001b[0m\u001b[0;34m\u001b[0m\u001b[0;34m\u001b[0m\u001b[0m\n\u001b[1;32m    747\u001b[0m             \u001b[0;32mif\u001b[0m \u001b[0mf\u001b[0m \u001b[0;34m==\u001b[0m \u001b[0m_filesbymodname\u001b[0m\u001b[0;34m.\u001b[0m\u001b[0mget\u001b[0m\u001b[0;34m(\u001b[0m\u001b[0mmodname\u001b[0m\u001b[0;34m,\u001b[0m \u001b[0;32mNone\u001b[0m\u001b[0;34m)\u001b[0m\u001b[0;34m:\u001b[0m\u001b[0;34m\u001b[0m\u001b[0;34m\u001b[0m\u001b[0m\n",
      "\u001b[0;32m/usr/lib/python3.8/inspect.py\u001b[0m in \u001b[0;36mismodule\u001b[0;34m(object)\u001b[0m\n\u001b[1;32m     68\u001b[0m         \u001b[0m__doc__\u001b[0m         \u001b[0mdocumentation\u001b[0m \u001b[0mstring\u001b[0m\u001b[0;34m\u001b[0m\u001b[0;34m\u001b[0m\u001b[0m\n\u001b[1;32m     69\u001b[0m         __file__        filename (missing for built-in modules)\"\"\"\n\u001b[0;32m---> 70\u001b[0;31m     \u001b[0;32mreturn\u001b[0m \u001b[0misinstance\u001b[0m\u001b[0;34m(\u001b[0m\u001b[0mobject\u001b[0m\u001b[0;34m,\u001b[0m \u001b[0mtypes\u001b[0m\u001b[0;34m.\u001b[0m\u001b[0mModuleType\u001b[0m\u001b[0;34m)\u001b[0m\u001b[0;34m\u001b[0m\u001b[0;34m\u001b[0m\u001b[0m\n\u001b[0m\u001b[1;32m     71\u001b[0m \u001b[0;34m\u001b[0m\u001b[0m\n\u001b[1;32m     72\u001b[0m \u001b[0;32mdef\u001b[0m \u001b[0misclass\u001b[0m\u001b[0;34m(\u001b[0m\u001b[0mobject\u001b[0m\u001b[0;34m)\u001b[0m\u001b[0;34m:\u001b[0m\u001b[0;34m\u001b[0m\u001b[0;34m\u001b[0m\u001b[0m\n",
      "\u001b[0;31mKeyboardInterrupt\u001b[0m: "
     ]
    }
   ],
   "source": [
    "FLNN_Classifier(Colon_IG,\"Colon cancer\",4)"
   ]
  },
  {
   "cell_type": "markdown",
   "metadata": {
    "id": "bAQaA-xq5ZIf"
   },
   "source": [
    "## Colon + IG + GA"
   ]
  },
  {
   "cell_type": "code",
   "execution_count": null,
   "metadata": {
    "colab": {
     "base_uri": "https://localhost:8080/"
    },
    "id": "HpTWNNLm5dCk",
    "outputId": "5bfc7a96-eaac-4530-86f8-e018cd3c87b7"
   },
   "outputs": [],
   "source": [
    "Colon_IG_GA = GeneticAlgorithm(Colon_IG, 2)"
   ]
  },
  {
   "cell_type": "code",
   "execution_count": null,
   "metadata": {
    "colab": {
     "base_uri": "https://localhost:8080/"
    },
    "id": "cVkQ2EKr3e80",
    "outputId": "9ddc618e-b576-40ff-95e1-ca89fe1ea1b8"
   },
   "outputs": [],
   "source": [
    "Colon_IG_GA = GeneticAlgorithm(Colon_IG, 3)"
   ]
  },
  {
   "cell_type": "code",
   "execution_count": null,
   "metadata": {
    "colab": {
     "base_uri": "https://localhost:8080/"
    },
    "id": "YvWjR0XLErfc",
    "outputId": "27c156a6-36e1-4cc7-ba2a-04165b8e8454"
   },
   "outputs": [],
   "source": [
    "Colon_IG_GA = GeneticAlgorithm(Colon_IG, 4)"
   ]
  }
 ],
 "metadata": {
  "accelerator": "TPU",
  "colab": {
   "collapsed_sections": [],
   "name": "Copy of Colon - Final Task",
   "provenance": []
  },
  "kernelspec": {
   "display_name": "Python 3",
   "language": "python",
   "name": "python3"
  },
  "language_info": {
   "codemirror_mode": {
    "name": "ipython",
    "version": 3
   },
   "file_extension": ".py",
   "mimetype": "text/x-python",
   "name": "python",
   "nbconvert_exporter": "python",
   "pygments_lexer": "ipython3",
   "version": "3.8.6"
  }
 },
 "nbformat": 4,
 "nbformat_minor": 4
}
